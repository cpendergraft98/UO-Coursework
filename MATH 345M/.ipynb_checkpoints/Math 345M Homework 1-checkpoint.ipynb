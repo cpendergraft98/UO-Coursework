{
 "cells": [
  {
   "cell_type": "markdown",
   "metadata": {},
   "source": [
    "**Math 345M Homework 1**\n",
    "\n",
    "**Author: Cole Pendergraft**\n",
    "\n",
    "**Chapter 1 Problems: 44, 66, 74, 84**\n",
    "\n",
    "**Chapter 2 Problems: 78, 115, 118, 122**\n",
    "\n",
    "**1 Extra Problem using potatoes.csv**"
   ]
  },
  {
   "cell_type": "code",
   "execution_count": 37,
   "metadata": {},
   "outputs": [],
   "source": [
    "# We always start by importing the packages we think we may need\n",
    "\n",
    "import pandas as pd\n",
    "import numpy as np\n",
    "\n",
    "import matplotlib.pyplot as plt"
   ]
  },
  {
   "cell_type": "markdown",
   "metadata": {},
   "source": [
    "**Problem 1.44:**\n",
    " A cardiologist is interested in the mean recovery period of her patients who have had heart attacks.\n",
    "\n",
    "Identify:\n",
    "\n",
    " **a) The population**\n",
    " \n",
    " The population is likely to be the patients of the cardiologist who have had heart attacks.\n",
    "\n",
    " **b) The sample**\n",
    " \n",
    " The sample is likely to be individuals randomly selected from all the cardiologists heart attack patients.\n",
    "\n",
    " **c) The parameter**\n",
    " \n",
    " The parameter is the mean recovery period for the population, as a parameter typically refers to the population.\n",
    "\n",
    " **d) The statistic**\n",
    " \n",
    " Since the parameter is the mean recovery period for the population, it makes sense that the statistic will be the mean recovery period of the sample, as statistics refer to samples.\n",
    "\n",
    " **e) The variable**\n",
    " \n",
    " The variable will be the individual recovery period, as that is a characterist that can be determined for each member of a population.\n",
    "\n",
    " **f) The data**\n",
    " \n",
    " The data will likely be a measure of time, something like 1 month, 3 months, 1/2 month, etc. This is what makes sense for a variable that measures a period of time."
   ]
  },
  {
   "cell_type": "markdown",
   "metadata": {},
   "source": [
    "***"
   ]
  },
  {
   "cell_type": "markdown",
   "metadata": {},
   "source": [
    "**Problem 1.66:**\n",
    " Suppose you want to determine the mean number of students per statistics class in your state. Describe a possible sampling method in three to five complete sentences. Make the description detailed.\n",
    "\n",
    " This problem seems simple, but there is actually a lot to consider when trying to find an accurate sample. Schools keep publicly accessible records about class sizes, so we could just collect that information from different schools and determine a mean. The question, then, is what schools do we sample from? We could sample, say, the high schools in our  city, which seems like it would be a good measurement, but perhaps we live in a more affluent area and have greater access to good classes, that average would no longer be a good measurement for lower income areas of your state. Further, the  problem doesn't specify if the classes are in taken in high school or in college, so we need to consider college stats classes as well. With colleges, there are 4-year universities and community colleges, and both offer statistics courses, but colleges must factor that consideration into our sample. There are far more high schools than there are colleges, so I believe that are likely to offer more statistics based courses, so we have to find a way to balance that. I propose that the best sampling  method would be to randomly choose 2 - 3 high schools from each city, 1 - 2 community colleges in each city, 1 - 2 4-year  universities from each city, if any. If a city doesn't have any 4-year universities, then I propose that you sample 2 - 3 community colleges. If there are no colleges at all, then we should sample 5 or more highschools. I think this should account for any fluctuations in income across the state, as well as provide a solid average made up of highschools, community colleges, and 4-year universities in each state."
   ]
  },
  {
   "cell_type": "markdown",
   "metadata": {},
   "source": [
    "***"
   ]
  },
  {
   "cell_type": "markdown",
   "metadata": {},
   "source": [
    "**Problem 1.74:**\n",
    " A \"random survey\" was conducted of 3,274 people of the \"microprocessor generation\" (people born since 1971, the year the microprocessor was invented). It was reported that 48% of those individuals surveyed stated that if they had $2,000 to spend, they would use it on computer equipment. Also, 66% of those surveyed considered themselvels relatively savvy computer users.\n",
    "\n",
    " **a) Do you consider the sample size large enough for a study of this type? Why or why not?** \n",
    " \n",
    " Absolutely not, 3,274 is such a tiny portion of an entire generation. In 2019, the Millenial generation measured at 72.1 million individuals. 72.1 Million people born between 1981 and 1996. Since the microprocessor generation is everyone born after 1971, it includes this 72.1 million individuals, and therefore is likely far greater than that 72.1 million. Given that size, 3,274 looks like the most miniscule sample ever.\n",
    "\n",
    " **b) Based on your \"gut feeling\", do you believe that the percents accurately reflect the U.S. population for those individuals born since 1971? If not, do you think the percents of the population are acrually higher or lower than the sample statistics Why?**\n",
    " \n",
    " My gut tells me that no, these percents do not accurately represent the whole U.S. population, they  should be smaller I believe. 3,724 individuals isn't even close to the size of most U.S. cities, which throws a huge wrench  in this measurement. Across America we have poor cities and affluent cities, and those components can't be accurately  accounted for when using a sample size far smaller than the size of most cities. I'm sure a person living in Newport Beach  would love to spend $2000 on new computer equipment, but an individual living on the streets in LA probably just wants food  and shelter. America has a huge homeless population, and there are plenty of homless people born after 1971.  That huge population alone would be enough to drag those two percentages down. \n",
    "\n",
    " **Additional information: The survey, reported by Intel Corporation, was filled out by individuals who visted the Los Angeles Convention Center to see the Smithsonian Institue's road show called \"America's Smithsonian.\"**\n",
    "\n",
    " **c) With this additional information, do you feel that all demographic and ethnic groups were equally represented at this event? Why or why not?**\n",
    " \n",
    " Absolutely not, this survey is extremely biased due to bad sampling. The kinds of people who are likely to attend  a road show put on by the Smithsonian Institute are likely to be well educated individuals who are interested in continued learning. Further, the fact that they are educated suggests that they have the money to have paid for that education, so it's likely that there weren't very many low-income individuals at this event. Based on the provided information, it also seems like it wasn't hidden that Intel was providing this survey, which further biases this measurement. The individuals likely to be interested in filling our a survey for Intel are individuals who are likely to be interested in Intel products, or at least have an understanding of Intel in general. This suggests that the individuals polled were already interested in computer technology and Intel products, which means this measurement doesn't accurately represent individuals who aren't already invested in computer technology.\n",
    "\n",
    " **d) With the additional information, comment on how accurately you think the sample statistics reflect the population parameters.**\n",
    " \n",
    " I was already unsure about how the sample statistics reflect the population parameters, but after recieving that additional information I feel like this study is obscenely inaccurate. Between the small sample size and the biases involved in determining this sample population, this measurement offers little to no accurate data about the entire U.S. population. I don't even think it is a solid representative sample of individuals in LA, as the survey was provided at an event for  the Smithsonian which already excludes everyone who isn't interested in that sort of thing."
   ]
  },
  {
   "cell_type": "markdown",
   "metadata": {},
   "source": [
    "***"
   ]
  },
  {
   "cell_type": "markdown",
   "metadata": {},
   "source": [
    "**Problem 1.84:**\n",
    " Forbes magazine published data on the best small firms in 2012. These were firms which had been publicly traded for at least\n",
    " a year, have a stock price of at least 5 dollars per share, and have reported annual revenue between 5 million and 1 billion dollars.\n",
    " \n",
    " Table 1.37 shows the ages of the chief executive officers for the first 60 ranked firms.\n",
    " \n",
    " | Age     | Frequency | Relative Frequency | Cumulative Relative Frequency |\n",
    " |---------|-----------|--------------------|-------------------------------|\n",
    " | 40 - 44 |     3     |         0.05           |       0.05                        |\n",
    " | 45 - 49 |    11     |          0.18          |         0.23                      |\n",
    " | 50 - 54 |    13     |         0.22           |             0.45                  |\n",
    " | 55 - 59 |    16     |         0.27           |              0.72                 |\n",
    " | 60 - 64 |    10     |         0.17           |                 0.89              |\n",
    " | 65 - 69 |     6     |         0.10           |                  0.99             |\n",
    " | 70 - 74 |     1     |          0.01         |                    1.00           |\n",
    "\n",
    " **a) What is the frequency for CEO ages between 54 and 65?**\n",
    " \n",
    " The frequency of CEO ages between 54 and 65 will be the sum of the 55 - 59 and 60 - 64 columns, which is 10 + 16 = 26."
   ]
  },
  {
   "cell_type": "markdown",
   "metadata": {},
   "source": [
    "**b) What percentage of CEOs are 65 years or older?**\n",
    "\n",
    "All we have to do here is dived the number of CEOs that are 65 years or older (7) by the total sample size (60) and then multiply by 100."
   ]
  },
  {
   "cell_type": "code",
   "execution_count": 38,
   "metadata": {},
   "outputs": [
    {
     "data": {
      "text/plain": [
       "11.666666666666666"
      ]
     },
     "execution_count": 38,
     "metadata": {},
     "output_type": "execute_result"
    }
   ],
   "source": [
    "7/60 * 100"
   ]
  },
  {
   "cell_type": "markdown",
   "metadata": {},
   "source": [
    "So approximately 11.67% of CEOs are 65 or older."
   ]
  },
  {
   "cell_type": "markdown",
   "metadata": {},
   "source": [
    "**c) What is the relative frequency of ages under 50?**\n",
    "\n",
    "This question is very similar to part b, we just aren't looking for a percentage anymore. We want to take our total number of ages under 50 (14) and divide by our sample size (60)."
   ]
  },
  {
   "cell_type": "code",
   "execution_count": 39,
   "metadata": {},
   "outputs": [
    {
     "data": {
      "text/plain": [
       "0.23333333333333334"
      ]
     },
     "execution_count": 39,
     "metadata": {},
     "output_type": "execute_result"
    }
   ],
   "source": [
    "14/60"
   ]
  },
  {
   "cell_type": "markdown",
   "metadata": {},
   "source": [
    "So the relative frequency of ages under 50 is approximately 0.23."
   ]
  },
  {
   "cell_type": "markdown",
   "metadata": {},
   "source": [
    "**d) What is the cumulative relative frequency of ages younger than 55?**\n",
    "\n",
    "We compute the by adding each relative frequency to the previous cumulative frequency, starting with the first row in the table. The first row has a cumulative relative frequency equivalent to its relative frequency. In terms of our data, we have a CRF of 0.05 for ages 40 - 44, and our CRF for ages 45 - 49 is equivalent to the relative frequency of 45 - 49 + the CRF of 40 - 44, so we have 0.05 + 0.18 = 0.23. Thus, if we would like to calculate the cumulative relative frequency for ages younger than 55, we take the CRF of 45 - 49 and add it to the relative frequency of ages 50 - 54, and that should give us the CRF for ages below 55.\n",
    "\n",
    "Thus, we have \n",
    "\n",
    "0.22 + 0.23 = 0.45\n",
    "\n",
    "So our cumulative relative frequency of ages younger than 55 is 0.45."
   ]
  },
  {
   "cell_type": "markdown",
   "metadata": {},
   "source": [
    "**e) Which graph shows the relative frequency ane which shows the cumulative relative frequency?**\n",
    "\n",
    "From our list of relative frequency values, we see that the mins occur at the edges (40 - 44 and 70 - 74) with a max at the center (55 - 50). Due to this, we would expect this graph to have a bell curve shape, so it is likely to be Graph A.\n",
    "\n",
    "Since our cumulative relative frequency are increasing as we go down our list, we would expect that data to be represented by an increasing curve. This means that the cumulative relative frequency data is likely on Graph B."
   ]
  },
  {
   "cell_type": "markdown",
   "metadata": {},
   "source": [
    "***"
   ]
  },
  {
   "cell_type": "markdown",
   "metadata": {},
   "source": [
    "**Problem 2.78:**\n",
    "Twenty-five randomly selected students were asked the number of movies they watched the previous week. The results are as follows:\n",
    "\n",
    " | # of Movies| Frequency | Relative Frequency | Cumulative Relative Frequency |\n",
    " |------------|-----------|--------------------|-------------------------------|\n",
    " | 0          | 5         |        0.20            |                 0.2              |\n",
    " | 1          | 9         |           0.36         |                  0.56             |\n",
    " | 2          | 6         |         0.24           |                 0.80              |\n",
    " | 3          | 4         |          0.16          |                   0.96            |\n",
    " | 4          | 1         |          0.04          |                      1.00         |\n",
    "\n",
    " **a) Construct a histogram of the data.**"
   ]
  },
  {
   "cell_type": "code",
   "execution_count": 40,
   "metadata": {},
   "outputs": [
    {
     "data": {
      "image/png": "[encoded data removed]",
      "text/plain": [
       "<Figure size 864x864 with 1 Axes>"
      ]
     },
     "metadata": {
      "needs_background": "light"
     },
     "output_type": "display_data"
    }
   ],
   "source": [
    "frequency = [5, 9, 6, 4, 1]\n",
    "movies = [0, 1, 2, 3, 4]\n",
    "\n",
    "plt.figure(figsize = (12, 12))\n",
    "plt.hist(movies, weights = frequency, bins = 50, color = 'b')\n",
    "\n",
    "plt.title(\"Movie Histogram\\n\", fontsize = 30)\n",
    "\n",
    "plt.xlabel(\"\\nNumber of Movies\", fontsize = 25)\n",
    "plt.ylabel(\"\\nFrequency\", fontsize = 25)\n",
    "\n",
    "plt.xticks(np.arange(0, 5, 1.0), fontsize=15)\n",
    "plt.yticks(fontsize=15)\n",
    "plt.show()"
   ]
  },
  {
   "cell_type": "markdown",
   "metadata": {},
   "source": [
    "**b) Complete the columns of the chart.**\n",
    "\n",
    "Relative Frequency Calculations:"
   ]
  },
  {
   "cell_type": "code",
   "execution_count": 41,
   "metadata": {},
   "outputs": [
    {
     "data": {
      "text/plain": [
       "0.2"
      ]
     },
     "execution_count": 41,
     "metadata": {},
     "output_type": "execute_result"
    }
   ],
   "source": [
    "5/25"
   ]
  },
  {
   "cell_type": "code",
   "execution_count": 42,
   "metadata": {},
   "outputs": [
    {
     "data": {
      "text/plain": [
       "0.36"
      ]
     },
     "execution_count": 42,
     "metadata": {},
     "output_type": "execute_result"
    }
   ],
   "source": [
    "9/25"
   ]
  },
  {
   "cell_type": "code",
   "execution_count": 43,
   "metadata": {},
   "outputs": [
    {
     "data": {
      "text/plain": [
       "0.24"
      ]
     },
     "execution_count": 43,
     "metadata": {},
     "output_type": "execute_result"
    }
   ],
   "source": [
    "6/25"
   ]
  },
  {
   "cell_type": "code",
   "execution_count": 44,
   "metadata": {},
   "outputs": [
    {
     "data": {
      "text/plain": [
       "0.16"
      ]
     },
     "execution_count": 44,
     "metadata": {},
     "output_type": "execute_result"
    }
   ],
   "source": [
    "4/25"
   ]
  },
  {
   "cell_type": "code",
   "execution_count": 45,
   "metadata": {},
   "outputs": [
    {
     "data": {
      "text/plain": [
       "0.04"
      ]
     },
     "execution_count": 45,
     "metadata": {},
     "output_type": "execute_result"
    }
   ],
   "source": [
    "1/25"
   ]
  },
  {
   "cell_type": "markdown",
   "metadata": {},
   "source": [
    "Cumulative Relative Frequency Calculations:"
   ]
  },
  {
   "cell_type": "code",
   "execution_count": 46,
   "metadata": {},
   "outputs": [
    {
     "data": {
      "text/plain": [
       "0.56"
      ]
     },
     "execution_count": 46,
     "metadata": {},
     "output_type": "execute_result"
    }
   ],
   "source": [
    "0.2 + 0.36"
   ]
  },
  {
   "cell_type": "code",
   "execution_count": 47,
   "metadata": {},
   "outputs": [
    {
     "data": {
      "text/plain": [
       "0.8"
      ]
     },
     "execution_count": 47,
     "metadata": {},
     "output_type": "execute_result"
    }
   ],
   "source": [
    "0.56 + 0.24"
   ]
  },
  {
   "cell_type": "code",
   "execution_count": 48,
   "metadata": {},
   "outputs": [
    {
     "data": {
      "text/plain": [
       "0.9600000000000001"
      ]
     },
     "execution_count": 48,
     "metadata": {},
     "output_type": "execute_result"
    }
   ],
   "source": [
    "0.8 + 0.16"
   ]
  },
  {
   "cell_type": "code",
   "execution_count": 49,
   "metadata": {},
   "outputs": [
    {
     "data": {
      "text/plain": [
       "1.0"
      ]
     },
     "execution_count": 49,
     "metadata": {},
     "output_type": "execute_result"
    }
   ],
   "source": [
    "0.96 + 0.04"
   ]
  },
  {
   "cell_type": "markdown",
   "metadata": {},
   "source": [
    "**Problem 2.115:**\n",
    " Following are the published weights (in pounds) of all the team members of the San Fancisco 49ers from a previous year.\n",
    "\n",
    " [177, 205, 210, 210, 232, 205, 185, 185, 178, 210, 206, 212, 184, 174, 185, 242, 188, 212, 215, 247, 241, 223, 220, 260,\n",
    " 245, 259, 278, 270, 280, 295, 275, 285, 290, 272, 273, 280, 285, 286, 200, 215, 185, 230, 250, 241, 190, 260, 250, 302,\n",
    " 265, 290, 276, 228, 265]\n",
    "\n",
    " **a) Organize the data from smallest to largest value.**"
   ]
  },
  {
   "cell_type": "code",
   "execution_count": 50,
   "metadata": {},
   "outputs": [
    {
     "name": "stdout",
     "output_type": "stream",
     "text": [
      "[174, 177, 178, 184, 185, 185, 185, 185, 188, 190, 200, 205, 205, 206, 210, 210, 210, 212, 212, 215, 215, 220, 223, 228, 230, 232, 241, 241, 242, 245, 247, 250, 250, 259, 260, 260, 265, 265, 270, 272, 273, 275, 276, 278, 280, 280, 285, 285, 286, 290, 290, 295, 302]\n"
     ]
    }
   ],
   "source": [
    "# All we have to do here is call the list.sort() method on our list of weights to order it from smallest to largest.\n",
    "\n",
    "weights = [177, 205, 210, 210, 232, 205, 185, 185, 178, 210, 206, 212, 184, 174, 185, 242, 188, 212, 215, 247, 241, 223, 220, 260, 245, 259, 278, 270, 280, 295, 275, 285, 290, 272, 273, 280, 285, 286, 200, 215, 185, 230, 250, 241, 190, 260, 250, 302, 265, 290, 276, 228, 265]\n",
    "\n",
    "weights.sort()\n",
    "\n",
    "print(weights)"
   ]
  },
  {
   "cell_type": "markdown",
   "metadata": {},
   "source": [
    "**b) Find the median.**\n",
    "\n",
    "Numpy is kind enough to give us the np.median() method that we can use to easily find the median of our dataset."
   ]
  },
  {
   "cell_type": "code",
   "execution_count": 51,
   "metadata": {},
   "outputs": [
    {
     "name": "stdout",
     "output_type": "stream",
     "text": [
      "The median is: 241.0\n"
     ]
    }
   ],
   "source": [
    "median = np.median(weights)\n",
    "print(\"The median is:\", median)"
   ]
  },
  {
   "cell_type": "markdown",
   "metadata": {},
   "source": [
    "**c) Find the first quartile**\n",
    "\n",
    "Once again numpy is saving the day here, we learned during Lab 1 that we are able to use the Numpy np.percentile() method to find our quartiles easily."
   ]
  },
  {
   "cell_type": "code",
   "execution_count": 52,
   "metadata": {},
   "outputs": [
    {
     "name": "stdout",
     "output_type": "stream",
     "text": [
      "The first quartile is: 206.0\n"
     ]
    }
   ],
   "source": [
    "firstq = np.percentile(weights, 25)\n",
    "# The first quartile represents 25%, which is why we specify 25 here.\n",
    "\n",
    "print(\"The first quartile is:\", firstq)"
   ]
  },
  {
   "cell_type": "markdown",
   "metadata": {},
   "source": [
    "**d) Find the third quartile.**\n",
    "\n",
    "We can accomplish this task the same way we did in part c, with the only change being that now we specify 75 rather than 25, as the third quartile represents 75%"
   ]
  },
  {
   "cell_type": "code",
   "execution_count": 53,
   "metadata": {},
   "outputs": [
    {
     "name": "stdout",
     "output_type": "stream",
     "text": [
      "The third quartile is: 272.0\n"
     ]
    }
   ],
   "source": [
    "thirdq = np.percentile(weights, 75)\n",
    "print(\"The third quartile is:\", thirdq)"
   ]
  },
  {
   "cell_type": "markdown",
   "metadata": {},
   "source": [
    "**e) Construct a box plot of the data.**"
   ]
  },
  {
   "cell_type": "code",
   "execution_count": 54,
   "metadata": {},
   "outputs": [
    {
     "data": {
      "text/plain": [
       "{'whiskers': [<matplotlib.lines.Line2D at 0x22d675fd160>,\n",
       "  <matplotlib.lines.Line2D at 0x22d675fd4c0>],\n",
       " 'caps': [<matplotlib.lines.Line2D at 0x22d675fd820>,\n",
       "  <matplotlib.lines.Line2D at 0x22d675fdb80>],\n",
       " 'boxes': [<matplotlib.lines.Line2D at 0x22d675efdc0>],\n",
       " 'medians': [<matplotlib.lines.Line2D at 0x22d675fdf10>],\n",
       " 'fliers': [<matplotlib.lines.Line2D at 0x22d676072b0>],\n",
       " 'means': []}"
      ]
     },
     "execution_count": 54,
     "metadata": {},
     "output_type": "execute_result"
    },
    {
     "data": {
      "image/png": "[encoded data removed]",
      "text/plain": [
       "<Figure size 432x288 with 1 Axes>"
      ]
     },
     "metadata": {
      "needs_background": "light"
     },
     "output_type": "display_data"
    }
   ],
   "source": [
    "plt.boxplot(weights, notch = None, vert = None, patch_artist = None, widths = None)"
   ]
  },
  {
   "cell_type": "markdown",
   "metadata": {},
   "source": [
    " **f) The middle 50% of the weights are from _________ to ___________.**\n",
    " \n",
    " This question is essentially asking us to compute the range of values in the 2nd quartile, and our 2nd quartile lies between the first quartile and the third. Thus, since our first quartile is 206 and our third is 272, then our middle 50% of weights lie between 206 and 272."
   ]
  },
  {
   "cell_type": "markdown",
   "metadata": {},
   "source": [
    "**g) If our population were all professional football players, would the above data be a sample of weights or the population of weights? Why?**\n",
    "\n",
    "If our population were all professional football players, then this data would be a sample of of the weights, not the population. If the population is all professional football players, and if this data is also the population of weights, then that would not only imply that there are only 53 total professional football players, but also that every one of them plays for the San Francisco 49ers, which I'm at least 80% sure they don't. I don't really watch football."
   ]
  },
  {
   "cell_type": "markdown",
   "metadata": {},
   "source": [
    "**h) If our population included every team member who ever played for the San Francisco 49ers, would the above data be a sample of weights or the population of weights? Why?**\n",
    "\n",
    "I believe that this would be the population of weights. Our population is all 49ers players, and we have a sample of 49ers players. The book defines population as \"a collection of persons, things, or objects under study\", and if we think in these terms, then our collection is 49ers players, and our sample is clearly a part of that collection, as it is current 49ers players. Using the previous question, we can see that if the collection is all professional football players, the 49ers are not directly part of that collection, the collection looks at players regardless of team, but the sample looks specifically at one team."
   ]
  },
  {
   "cell_type": "markdown",
   "metadata": {},
   "source": [
    "**i) Assume the population was the San Francisco 49ers. Find:**\n",
    "\n",
    "**i.1) The population mean**\n",
    "\n",
    "We established in part h that if our population is all individuals who have played for the 49ers, then the data we have is the population of weights. Due to this, the population mean will be the mean of our data set and the population standard deviation will be the standard deviation. Essentially, we can use our data as a representation of the entire population."
   ]
  },
  {
   "cell_type": "code",
   "execution_count": 55,
   "metadata": {},
   "outputs": [
    {
     "name": "stdout",
     "output_type": "stream",
     "text": [
      "The population mean is: 236.33962264150944\n"
     ]
    }
   ],
   "source": [
    "weights_mean = np.mean(weights)\n",
    "print(\"The population mean is:\", weights_mean)"
   ]
  },
  {
   "cell_type": "markdown",
   "metadata": {},
   "source": [
    "**i.2) The population standard deviation**"
   ]
  },
  {
   "cell_type": "code",
   "execution_count": 56,
   "metadata": {},
   "outputs": [
    {
     "name": "stdout",
     "output_type": "stream",
     "text": [
      "The population standard deviation is: 37.4981475749898\n"
     ]
    }
   ],
   "source": [
    "weights_std = np.std(weights)\n",
    "print(\"The population standard deviation is:\", weights_std)"
   ]
  },
  {
   "cell_type": "markdown",
   "metadata": {},
   "source": [
    "**i.3) The weight that is two standard deviations beneath the mean**\n",
    "\n",
    "We can calculate by using subratcting twice our standard deviation from our mean, i.e.\n",
    "\n",
    "$\\mu\\ - 2*\\sigma\\$"
   ]
  },
  {
   "cell_type": "code",
   "execution_count": 57,
   "metadata": {},
   "outputs": [
    {
     "name": "stdout",
     "output_type": "stream",
     "text": [
      "The value two standard deviations below the mean is: 161.34332749152983\n"
     ]
    }
   ],
   "source": [
    "weights_twostd = weights_mean - 2*weights_std\n",
    "print(\"The value two standard deviations below the mean is:\", weights_twostd)"
   ]
  },
  {
   "cell_type": "markdown",
   "metadata": {},
   "source": [
    "**i.4) When Steve Young, quarterback, played football, he weighed 205 pounds. How many standard deviations above or below the mean was he?**\n",
    "\n",
    "First, we know that our mean is about 236, so we know that Steve Young will be some standard deviations beneath the mean. Given this, we can use our equation from part i.3 to calculate this if we substitute x in for the number of standard deviations. I.e.\n",
    "\n",
    "205 = $\\mu\\ - x*\\sigma\\$\n",
    "\n",
    "with $\\mu\\ = 236$ and $\\sigma\\ = 37$\n",
    "\n",
    "So,\n",
    "\n",
    "Number of standard deviations = ($\\mu\\ - 205) / \\sigma\\$"
   ]
  },
  {
   "cell_type": "code",
   "execution_count": 58,
   "metadata": {},
   "outputs": [
    {
     "name": "stdout",
     "output_type": "stream",
     "text": [
      "Steve Young is 0.8357645555379934 standard deviations away from the mean\n"
     ]
    }
   ],
   "source": [
    "x = (weights_mean - 205)/weights_std\n",
    "print(\"Steve Young is\", x, \"standard deviations away from the mean\")"
   ]
  },
  {
   "cell_type": "markdown",
   "metadata": {},
   "source": [
    "**j) That same year, the mean weight for the Dallas Cowboys was 240.08 pounds with a standard deviation of 44.38 pounds. Emmit Smith weighed in at 209 pounds. With respect to his team, who was lighter, Smith or Young? How did you determine your answer?**\n",
    "\n",
    "Well, we already know that Young was approximately 0.84 standard deviations below the mean. If we preform the calculation from part (i.4) again, this time using the values from Emmit Smith, and if we calculate a value that is greater than 0.84, then Emmit Smith is lighter, but if the value we calculate is less than 0.84, then Young is lighter."
   ]
  },
  {
   "cell_type": "code",
   "execution_count": 59,
   "metadata": {},
   "outputs": [
    {
     "name": "stdout",
     "output_type": "stream",
     "text": [
      "Emmit Smith is 0.7003154574132494 Standard deviations below the mean.\n"
     ]
    }
   ],
   "source": [
    "x = (240.08 - 209)/44.38\n",
    "print(\"Emmit Smith is\", x, \"Standard deviations below the mean.\")"
   ]
  },
  {
   "cell_type": "markdown",
   "metadata": {},
   "source": [
    "So we have that Emmit Smith is about 0.7 standard deviations below his team's mean weight of 240.08 pounds, and that Steve Young is about 0.84 standard deviations below his teams mean weight of 236.34. Since Young is further beneath his teams average, it means that he is the lighter of the two with respect to his team."
   ]
  },
  {
   "cell_type": "markdown",
   "metadata": {},
   "source": [
    "***"
   ]
  },
  {
   "cell_type": "markdown",
   "metadata": {},
   "source": [
    "**Problem 2.118:**\n",
    "In a recent issue of the IEEE Spectrum, 84 engineering conferences were announced. Four conferences lasted two days. 36 lasted three days. 18 lasted four days. 19 lasted five days. 4 lased six days. 1 lasted seven days. 1 lasted eight days. One lasted nine days. Let X = the length (in days) of an engineering conference.\n",
    "\n",
    " **a) Organize the data in a chart.**\n",
    " \n",
    " | Number of Conferences | Length of Conferences |\n",
    " |----------------|----------------------|\n",
    " | 4 | 2 |\n",
    " | 36 | 3 |\n",
    " | 18 | 4 |\n",
    " | 19 | 5 |\n",
    " | 4 | 6 |\n",
    " | 1 | 7 |\n",
    " | 1 | 8 |\n",
    " | 1 | 9 |"
   ]
  },
  {
   "cell_type": "code",
   "execution_count": 60,
   "metadata": {},
   "outputs": [
    {
     "data": {
      "image/png": "[encoded data removed]",
      "text/plain": [
       "<Figure size 864x864 with 1 Axes>"
      ]
     },
     "metadata": {
      "needs_background": "light"
     },
     "output_type": "display_data"
    }
   ],
   "source": [
    "days = [2, 3, 4, 5, 6, 7, 8, 9]\n",
    "conf_freq = [4, 36, 18, 19, 4, 1, 1, 1]\n",
    "\n",
    "plt.figure(figsize = (12, 12))\n",
    "plt.hist(days, weights = conf_freq, bins = 50, color = 'b')\n",
    "\n",
    "plt.title(\"Conferences Histogram\\n\", fontsize = 30)\n",
    "\n",
    "plt.xlabel(\"\\nLength of Conference (Days)\", fontsize = 25)\n",
    "plt.ylabel(\"\\nNumber of Conferences\", fontsize = 25)\n",
    "\n",
    "plt.xticks(fontsize=15)\n",
    "plt.yticks(np.arange(0, 40, 1.0), fontsize=15)\n",
    "plt.show()"
   ]
  },
  {
   "cell_type": "markdown",
   "metadata": {},
   "source": [
    "**b) Find the median, the first quartile, and the third quartile.**\n",
    "\n",
    "We can use our nice Numpy methods to do this, but first we must construct a useable data set from the provided days and conference frequency values, as we need to create datum that accounts for the frequency of each number of days. What we have essentially been provided is a list of day lengths of conferences and the frequency those day lengths appeared, and we need to create a single list that encodes both the length of each coference, and the number of conferences with a certain day length. This means creating a list of each individual conference represented by the number of days it lasts. This list will have, four example, 36 3's to account for the 36 conferences that have 3 days. The for loop at the start of my code handles this for me."
   ]
  },
  {
   "cell_type": "code",
   "execution_count": 61,
   "metadata": {},
   "outputs": [
    {
     "name": "stdout",
     "output_type": "stream",
     "text": [
      "Data set: [2, 2, 2, 2, 3, 3, 3, 3, 3, 3, 3, 3, 3, 3, 3, 3, 3, 3, 3, 3, 3, 3, 3, 3, 3, 3, 3, 3, 3, 3, 3, 3, 3, 3, 3, 3, 3, 3, 3, 3, 4, 4, 4, 4, 4, 4, 4, 4, 4, 4, 4, 4, 4, 4, 4, 4, 4, 4, 5, 5, 5, 5, 5, 5, 5, 5, 5, 5, 5, 5, 5, 5, 5, 5, 5, 5, 5, 6, 6, 6, 6, 7, 8, 9]\n",
      "Median is: 4.0\n",
      "First quartile is: 3.0\n",
      "Third quartile is: 5.0\n"
     ]
    }
   ],
   "source": [
    "days = [2, 3, 4, 5, 6, 7, 8, 9]\n",
    "conf_freq = [4, 36, 18, 19, 4, 1, 1, 1]\n",
    "data = []\n",
    "\n",
    "for i in range(0, len(days)):\n",
    "    for j in range(0, conf_freq[i]):\n",
    "        data.append(days[i])\n",
    "\n",
    "print(\"Data set:\", data)\n",
    "median = np.median(data)\n",
    "firstq = np.percentile(data, 25)\n",
    "thirdq = np.percentile(data, 75)\n",
    "\n",
    "print(\"Median is:\", median)\n",
    "print(\"First quartile is:\", firstq)\n",
    "print(\"Third quartile is:\", thirdq)"
   ]
  },
  {
   "cell_type": "markdown",
   "metadata": {},
   "source": [
    " **c) Find the 65th percentile.**\n",
    " \n",
    "We can also use our Numpy percentile method for this part and the next!"
   ]
  },
  {
   "cell_type": "code",
   "execution_count": 62,
   "metadata": {},
   "outputs": [
    {
     "name": "stdout",
     "output_type": "stream",
     "text": [
      "The 65th percentile is: 4.0\n"
     ]
    }
   ],
   "source": [
    "sixtyfifth = np.percentile(data, 65)\n",
    "print(\"The 65th percentile is:\", sixtyfifth)"
   ]
  },
  {
   "cell_type": "markdown",
   "metadata": {},
   "source": [
    "**d) Find the 10th percentile.**"
   ]
  },
  {
   "cell_type": "code",
   "execution_count": 63,
   "metadata": {},
   "outputs": [
    {
     "name": "stdout",
     "output_type": "stream",
     "text": [
      "The 10th percentile is: 3.0\n"
     ]
    }
   ],
   "source": [
    "tenth = np.percentile(data, 10)\n",
    "print(\"The 10th percentile is:\", tenth)"
   ]
  },
  {
   "cell_type": "markdown",
   "metadata": {},
   "source": [
    "**e) Construct a box plot of the data.**"
   ]
  },
  {
   "cell_type": "code",
   "execution_count": 64,
   "metadata": {},
   "outputs": [
    {
     "data": {
      "text/plain": [
       "{'whiskers': [<matplotlib.lines.Line2D at 0x22d67b27b80>,\n",
       "  <matplotlib.lines.Line2D at 0x22d67b27ee0>],\n",
       " 'caps': [<matplotlib.lines.Line2D at 0x22d67802280>,\n",
       "  <matplotlib.lines.Line2D at 0x22d678025e0>],\n",
       " 'boxes': [<matplotlib.lines.Line2D at 0x22d67b27820>],\n",
       " 'medians': [<matplotlib.lines.Line2D at 0x22d67802940>],\n",
       " 'fliers': [<matplotlib.lines.Line2D at 0x22d67802ca0>],\n",
       " 'means': []}"
      ]
     },
     "execution_count": 64,
     "metadata": {},
     "output_type": "execute_result"
    },
    {
     "data": {
      "image/png": "[encoded data removed]",
      "text/plain": [
       "<Figure size 432x288 with 1 Axes>"
      ]
     },
     "metadata": {
      "needs_background": "light"
     },
     "output_type": "display_data"
    }
   ],
   "source": [
    "plt.boxplot(data, notch = None, vert = None, patch_artist = None, widths = None)"
   ]
  },
  {
   "cell_type": "markdown",
   "metadata": {},
   "source": [
    "**f) The middle 50% of conferences last from _________ days to _________ days.**\n",
    "\n",
    "We know that this is asking about the 2nd quartile, which rests between the first and third quartiles. Thus, the middle 50% of conferences last from 3 days to 5 days, "
   ]
  },
  {
   "cell_type": "markdown",
   "metadata": {},
   "source": [
    "**g) Calculate the sample mean of days of engineering conferences.**\n",
    "\n",
    "Once again Numpy is our hero!"
   ]
  },
  {
   "cell_type": "code",
   "execution_count": 65,
   "metadata": {},
   "outputs": [
    {
     "name": "stdout",
     "output_type": "stream",
     "text": [
      "The mean is: 3.9404761904761907\n"
     ]
    }
   ],
   "source": [
    "mean = np.mean(data)\n",
    "print(\"The mean is:\", mean)"
   ]
  },
  {
   "cell_type": "markdown",
   "metadata": {},
   "source": [
    "**h) Calculate the sample standard deviation of days of engineering conferences.**"
   ]
  },
  {
   "cell_type": "code",
   "execution_count": 66,
   "metadata": {},
   "outputs": [
    {
     "name": "stdout",
     "output_type": "stream",
     "text": [
      "The standard deviation is: 1.2756995324339326\n"
     ]
    }
   ],
   "source": [
    "std = np.std(data)\n",
    "print(\"The standard deviation is:\", std)"
   ]
  },
  {
   "cell_type": "markdown",
   "metadata": {},
   "source": [
    "**i) Find the mode.**\n",
    "\n",
    "The mode is the value that appears most often in our data set, which in our case is very definitely 3."
   ]
  },
  {
   "cell_type": "markdown",
   "metadata": {},
   "source": [
    "**j) If you were planning an engineering conference, which would you choose as the length of the conference: mean, median, or mode? Explain why you made that choice.**\n",
    "\n",
    "I probably wouldn't use mode, as it seems odd for the only reason to have a conference of a certain length be because that length is very common, thats kind of like correlation without causation.\n",
    "\n",
    "I would think the best length would be the mean because averages are always good starting points, but looking at the box plot I think that little circle at the top represents an outlier, and we have learned that outliers can really mess up averages. So I think that the mean probably isn't the best option in this situation.\n",
    "\n",
    "With these two considerations I think that I would go with median as the length of my conference."
   ]
  },
  {
   "cell_type": "markdown",
   "metadata": {},
   "source": [
    "**k) Give two reasons why you think that three to five days seem to be popular lengths of engineering conferences.**\n",
    "\n",
    "For one, I think that 3 to 5 days is sort of a sweet spot to for a conference, because it can be short enought that people with a casual interest in engineering (they exist!) can enjoy it without committing a week or more of their time, but also long enough for people who want to get a little bit more out of the conference than others.\n",
    "\n",
    "Secondly, I think that the shorter the conference, the cheaper it is, and the cheaper it is, the more accessible it becomes. Having a cheaper engineering conference benefits not just individuals who don't want to spend a lot of money, but I think would be enticing to companies. I think an engineering company is more likely to pay for employees to attend a conference if it is short, so they don't have to take too much time off work, and cheap, so the company doesn't need to spend thousands on sending a few employees to a conference."
   ]
  },
  {
   "cell_type": "markdown",
   "metadata": {},
   "source": [
    "***"
   ]
  },
  {
   "cell_type": "markdown",
   "metadata": {},
   "source": [
    "**Problem 2.122:**\n",
    "Suppose that a publisher conducted a survey asking adult consumers the number of fiction paperback books they had purchased in the previous month. The results are summarized in Table 2.83.\n",
    "\n",
    " | # of Books | Frequency | Relative Frequency |\n",
    " |------------|-----------|--------------------|\n",
    " | 0 | 18 | 0.151 |                               \n",
    " | 1 | 24 | 0.202 |                               \n",
    " | 2 | 24 | 0.202 |                               \n",
    " | 3 | 22 | 0.185 |                               \n",
    " | 4 | 15 | 0.126 |                              \n",
    " | 5 | 10 | 0.084 |                               \n",
    " | 7 | 5  | 0.042 | \n",
    " | 9 | 1  | 0.008 |"
   ]
  },
  {
   "cell_type": "markdown",
   "metadata": {},
   "source": [
    "Calculating the Relative Frequency values for the table:"
   ]
  },
  {
   "cell_type": "code",
   "execution_count": 67,
   "metadata": {},
   "outputs": [
    {
     "data": {
      "text/plain": [
       "0.15126050420168066"
      ]
     },
     "execution_count": 67,
     "metadata": {},
     "output_type": "execute_result"
    }
   ],
   "source": [
    "18/119"
   ]
  },
  {
   "cell_type": "code",
   "execution_count": 68,
   "metadata": {},
   "outputs": [
    {
     "data": {
      "text/plain": [
       "0.20168067226890757"
      ]
     },
     "execution_count": 68,
     "metadata": {},
     "output_type": "execute_result"
    }
   ],
   "source": [
    "24/119"
   ]
  },
  {
   "cell_type": "code",
   "execution_count": 69,
   "metadata": {},
   "outputs": [
    {
     "data": {
      "text/plain": [
       "0.20168067226890757"
      ]
     },
     "execution_count": 69,
     "metadata": {},
     "output_type": "execute_result"
    }
   ],
   "source": [
    "24/119"
   ]
  },
  {
   "cell_type": "code",
   "execution_count": 70,
   "metadata": {},
   "outputs": [
    {
     "data": {
      "text/plain": [
       "0.18487394957983194"
      ]
     },
     "execution_count": 70,
     "metadata": {},
     "output_type": "execute_result"
    }
   ],
   "source": [
    "22/119"
   ]
  },
  {
   "cell_type": "code",
   "execution_count": 71,
   "metadata": {},
   "outputs": [
    {
     "data": {
      "text/plain": [
       "0.12605042016806722"
      ]
     },
     "execution_count": 71,
     "metadata": {},
     "output_type": "execute_result"
    }
   ],
   "source": [
    "15/119"
   ]
  },
  {
   "cell_type": "code",
   "execution_count": 72,
   "metadata": {},
   "outputs": [
    {
     "data": {
      "text/plain": [
       "0.08403361344537816"
      ]
     },
     "execution_count": 72,
     "metadata": {},
     "output_type": "execute_result"
    }
   ],
   "source": [
    "10/119"
   ]
  },
  {
   "cell_type": "code",
   "execution_count": 73,
   "metadata": {},
   "outputs": [
    {
     "data": {
      "text/plain": [
       "0.04201680672268908"
      ]
     },
     "execution_count": 73,
     "metadata": {},
     "output_type": "execute_result"
    }
   ],
   "source": [
    "5/119"
   ]
  },
  {
   "cell_type": "code",
   "execution_count": 74,
   "metadata": {},
   "outputs": [
    {
     "data": {
      "text/plain": [
       "0.008403361344537815"
      ]
     },
     "execution_count": 74,
     "metadata": {},
     "output_type": "execute_result"
    }
   ],
   "source": [
    "1/119"
   ]
  },
  {
   "cell_type": "markdown",
   "metadata": {},
   "source": [
    "**a) Are there any outliers in the data? Use an appropriate numerical test involving the IQR to identify outliers, if any, and clearly state your conclusion.**\n",
    "\n",
    "We can approach this problem using the IQR method we discussed in class and used on our first lab. First, though, we need to construct a data set that we can operate on, and we can do that in the same way we did for the previous problem."
   ]
  },
  {
   "cell_type": "code",
   "execution_count": 75,
   "metadata": {},
   "outputs": [
    {
     "name": "stdout",
     "output_type": "stream",
     "text": [
      "Data set: [0, 0, 0, 0, 0, 0, 0, 0, 0, 0, 0, 0, 0, 0, 0, 0, 0, 0, 1, 1, 1, 1, 1, 1, 1, 1, 1, 1, 1, 1, 1, 1, 1, 1, 1, 1, 1, 1, 1, 1, 1, 1, 2, 2, 2, 2, 2, 2, 2, 2, 2, 2, 2, 2, 2, 2, 2, 2, 2, 2, 2, 2, 2, 2, 2, 2, 3, 3, 3, 3, 3, 3, 3, 3, 3, 3, 3, 3, 3, 3, 3, 3, 3, 3, 3, 3, 3, 3, 4, 4, 4, 4, 4, 4, 4, 4, 4, 4, 4, 4, 4, 4, 4, 5, 5, 5, 5, 5, 5, 5, 5, 5, 5, 7, 7, 7, 7, 7, 9]\n",
      "The first quartile is: 1.0\n",
      "The third quartile is: 4.0\n",
      "IQR is: 3.0\n",
      "The high cutoff is: 8.5\n",
      "The low cutoff is: -3.5\n",
      "Our list of outliers is: [9]\n"
     ]
    }
   ],
   "source": [
    "book_num = [0, 1, 2, 3, 4, 5, 7, 9]\n",
    "freq = [18, 24, 24, 22, 15, 10, 5, 1]\n",
    "data = []\n",
    "\n",
    "# Populating our data set with book purchase frequency\n",
    "for i in range(0, len(book_num)):\n",
    "    for j in range(0, freq[i]):\n",
    "        data.append(book_num[i])\n",
    "        \n",
    "print(\"Data set:\", data)\n",
    "\n",
    "# For the interquartile method we need a few things, first off: the first quartile\n",
    "firstq = np.percentile(data, 25)\n",
    "print(\"The first quartile is:\", firstq)\n",
    "\n",
    "# Now we need the third quartile\n",
    "thirdq = np.percentile(data, 75)\n",
    "print(\"The third quartile is:\", thirdq)\n",
    "\n",
    "# And now we need to calculate the interquartile range, which is equivalent to the third quartile - the first quartile\n",
    "iqr = thirdq - firstq\n",
    "print(\"IQR is:\", iqr)\n",
    "\n",
    "# Now we can create our cutoff points, starting with the high cutoff which is equivalent to the third quartile + 1.5*iqr\n",
    "high_cutoff = thirdq + 1.5*iqr\n",
    "print(\"The high cutoff is:\", high_cutoff)\n",
    "\n",
    "# And now we create our low cutoff, which is equivalent to the first quartile - 1.5*iqr\n",
    "low_cutoff = firstq - 1.5*iqr\n",
    "print(\"The low cutoff is:\", low_cutoff)\n",
    "\n",
    "# Now we know that all of our outliers are going to be either less than the low cutoff or greater than our high cutoff, so we\n",
    "# can write a for loop that iterates through our data set and populates a new list of outliers with any values that fit our\n",
    "# criteria.\n",
    "outliers = []\n",
    "for i in range(0, len(data)):\n",
    "    if data[i] > high_cutoff or data[i] < low_cutoff:\n",
    "        outliers.append(data[i])\n",
    "        \n",
    "print(\"Our list of outliers is:\", outliers)"
   ]
  },
  {
   "cell_type": "markdown",
   "metadata": {},
   "source": [
    "So for that whole set of data, we only have a single outlier!"
   ]
  },
  {
   "cell_type": "markdown",
   "metadata": {},
   "source": [
    "**b) If a data value is identified as an outlier, what should be done about it?**\n",
    "\n",
    "Ultimately, all that can be done is try to identify why that value is an outlier. The value couldn't be changed, it already is what it is, and I don't believe the outlier should be thrown out. Outliers represent valuable pieces of information, even if they throw off a calculation, and throwing them out is in my mind akin to intentionally skewing results to match expected outcomes, rather than representing the details accurately, which I find deeply unethical. The data may throw off an average and make a researchers' hypothesis incorrect, but that doesn't mean that data has any less value, it just may not match initial expectations, which I think can be even more interesting than something easily predicted. So I think outliers should be analyzed, perhaps moreso than expected data, and their origins be determined."
   ]
  },
  {
   "cell_type": "markdown",
   "metadata": {},
   "source": [
    "**c) Are any data values further than two standard deviations away from the mean? In some situations, statisticians may use this criteria to identify data values that are unusual, compared to other data values. ( Note that this criteria is most appropriate to use for data that is mound-shaped and symmetric, rather than for skewed data.)**"
   ]
  },
  {
   "cell_type": "code",
   "execution_count": 76,
   "metadata": {},
   "outputs": [
    {
     "name": "stdout",
     "output_type": "stream",
     "text": [
      "The mean is: 2.453781512605042\n",
      "The standard deviation is: 1.8730638144771241\n"
     ]
    }
   ],
   "source": [
    "# First we need to calculate the mean of our data set:\n",
    "mean = np.mean(data)\n",
    "print(\"The mean is:\", mean)\n",
    "\n",
    "# And now the standard deviation from the mean:\n",
    "std = np.std(data)\n",
    "print(\"The standard deviation is:\", std)"
   ]
  },
  {
   "cell_type": "markdown",
   "metadata": {},
   "source": [
    "Now we can once again use our formula for computing a value two standard deviations beneath the mean:\n",
    "\n",
    "$\\mu\\ - 2*\\sigma\\$\n",
    "\n",
    "And our formula for computing a value two standard deviations above the mean:\n",
    "\n",
    "$\\mu\\ + 2*\\sigma\\$"
   ]
  },
  {
   "cell_type": "code",
   "execution_count": 77,
   "metadata": {},
   "outputs": [
    {
     "name": "stdout",
     "output_type": "stream",
     "text": [
      "The value two standard deviations below the mean is: -1.292346116349206\n",
      "The value two standard deviations above the mean is: 6.19990914155929\n"
     ]
    }
   ],
   "source": [
    "# First we will calculate the value two standard deviations below the mean:\n",
    "two_below = mean - 2*(std)\n",
    "print(\"The value two standard deviations below the mean is:\", two_below)\n",
    "\n",
    "# Now we calculate the value two standard deviations above the mean:\n",
    "two_above = mean + 2*(std)\n",
    "print(\"The value two standard deviations above the mean is:\", two_above)"
   ]
  },
  {
   "cell_type": "markdown",
   "metadata": {},
   "source": [
    "We have no values in our list that are less than -1, but both 7 and 9 are greater than 6, suggesting that 7 should be included in as an outlier, but our IQR method demonstrated that 7 would not be considered an outlier, even if it is two standard deviations away from the mean."
   ]
  },
  {
   "cell_type": "markdown",
   "metadata": {},
   "source": [
    "**d) Do parts a and c of this problem give the same answer?**\n",
    "\n",
    "Nope! Part a suggests that all outliers are either less than -3.5 or greater than 8.5, but out part c suggests that extreme values are either less than -1.3 (approximately) or greater than 6.2 (approximately)."
   ]
  },
  {
   "cell_type": "markdown",
   "metadata": {},
   "source": [
    "**e) Examine the shape of the data. Which part, a or c, of this question gives a more appropriate result for this data?**"
   ]
  },
  {
   "cell_type": "code",
   "execution_count": 78,
   "metadata": {},
   "outputs": [
    {
     "data": {
      "image/png": "[encoded data removed]",
      "text/plain": [
       "<Figure size 864x864 with 1 Axes>"
      ]
     },
     "metadata": {
      "needs_background": "light"
     },
     "output_type": "display_data"
    }
   ],
   "source": [
    "plt.figure(figsize = (12, 12))\n",
    "plt.hist(book_num, weights = freq, bins = 50, color = 'b')\n",
    "\n",
    "plt.title(\"Book Number Histogram\\n\", fontsize = 30)\n",
    "\n",
    "plt.xlabel(\"\\nNumber of Books Purchased\", fontsize = 25)\n",
    "plt.ylabel(\"\\nFrequency\", fontsize = 25)\n",
    "\n",
    "plt.xticks(fontsize=15)\n",
    "plt.yticks(np.arange(0, 30, 1.0), fontsize=15)\n",
    "plt.show()"
   ]
  },
  {
   "cell_type": "markdown",
   "metadata": {},
   "source": [
    "Now we can see that our data definitely isn't symmetrical, but rather it is right skewed, which suggests that the method in part c probably isn't the best way to go about finding outliers since that works best with symmetrical data and not so well with skewed data. Thus, the best method for computing the outliers of this data is the IQR method employed in part a."
   ]
  },
  {
   "cell_type": "markdown",
   "metadata": {},
   "source": [
    "**f) Based on the shape of the data, which is the most appropriate measure of center for this data: mean, median, or mode?**\n",
    "\n",
    "The book tells us that when data is  right skewed, \"the mode is often less than the median, which is less than the mean.\" Since the median is the center between the mean and the mode of the graph, I would say the median is the most appropriate measure of center for this data."
   ]
  },
  {
   "cell_type": "markdown",
   "metadata": {},
   "source": [
    "***"
   ]
  },
  {
   "cell_type": "markdown",
   "metadata": {},
   "source": [
    "**Extra Problem:**\n",
    " \n",
    " Use the data set potatoes.csv for the following three parts."
   ]
  },
  {
   "cell_type": "code",
   "execution_count": 79,
   "metadata": {},
   "outputs": [],
   "source": [
    "# First we need to bring our data in and set it to a dataframe.\n",
    "filename = 'potatoes.csv'\n",
    "df = pd.read_csv(filename)\n",
    "weights = df[\"weight\"]"
   ]
  },
  {
   "cell_type": "markdown",
   "metadata": {},
   "source": [
    " **a) Find the (sample) mean, standard deviation, and 5 number summary for the data.**"
   ]
  },
  {
   "cell_type": "code",
   "execution_count": 80,
   "metadata": {},
   "outputs": [],
   "source": [
    "# I am just going to create a function here that I can use in the future on other pandas dataframes.\n",
    "\n",
    "def pandas_seven_num_sum(df):\n",
    "    # Compute the mean first\n",
    "    mean = df.mean()\n",
    "    \n",
    "    # Now the standard deviation\n",
    "    std = df.std()\n",
    "    \n",
    "    # Now we can move on to our five number summary, starting with our min:\n",
    "    min_val = df.min()\n",
    "    \n",
    "    # Now the first quartile. Since I am working with pandas now I have a different method for doing this than with numpy.\n",
    "    firstq = df.quantile(.25)\n",
    "    \n",
    "    # Now the third quartile\n",
    "    thirdq = df.quantile(.75)\n",
    "    \n",
    "    # Now for the median:\n",
    "    median = df.median()\n",
    "    \n",
    "    # And finally for the max\n",
    "    max_val = df.max()\n",
    "    \n",
    "    # Now we just handle the printing logic\n",
    "    print(\"The mean is:\", mean)\n",
    "    print(\"The standard deviation is:\", std)\n",
    "    print(\"The median is:\", median)\n",
    "    print(\"The min is:\", min_val)\n",
    "    print(\"The max is:\", max_val)\n",
    "    print(\"The first quartile is:\", firstq)\n",
    "    print(\"The third quartile is:\", thirdq)"
   ]
  },
  {
   "cell_type": "code",
   "execution_count": 81,
   "metadata": {},
   "outputs": [
    {
     "name": "stdout",
     "output_type": "stream",
     "text": [
      "The mean is: 6.443999999999999\n",
      "The standard deviation is: 1.4338409953687332\n",
      "The median is: 6.7\n",
      "The min is: 3.8\n",
      "The max is: 8.2\n",
      "The first quartile is: 5.2\n",
      "The third quartile is: 7.8\n"
     ]
    }
   ],
   "source": [
    "pandas_seven_num_sum(weights)"
   ]
  },
  {
   "cell_type": "markdown",
   "metadata": {},
   "source": [
    " **b) Make a histogram from the data and check for outliers using the techniques from Lab 1.**\n",
    " \n",
    "In order to make a histogram, we first must collect our frequency data. As it stands, we only know the weights of 25 potatoes, now we need the frequency of certain weights so we have something to plot against."
   ]
  },
  {
   "cell_type": "code",
   "execution_count": 82,
   "metadata": {},
   "outputs": [
    {
     "name": "stdout",
     "output_type": "stream",
     "text": [
      "0     7.8\n",
      "1     7.9\n",
      "2     8.2\n",
      "3     7.2\n",
      "4     6.7\n",
      "5     7.9\n",
      "6     7.9\n",
      "7     7.9\n",
      "8     7.7\n",
      "9     7.8\n",
      "10    7.0\n",
      "11    4.7\n",
      "12    7.6\n",
      "13    6.3\n",
      "14    4.7\n",
      "15    4.6\n",
      "16    4.7\n",
      "17    6.2\n",
      "18    6.0\n",
      "19    5.2\n",
      "20    4.2\n",
      "21    7.9\n",
      "22    5.2\n",
      "23    6.0\n",
      "24    3.8\n",
      "Name: weight, dtype: float64\n"
     ]
    }
   ],
   "source": [
    "print(weights)"
   ]
  },
  {
   "cell_type": "code",
   "execution_count": 83,
   "metadata": {},
   "outputs": [
    {
     "data": {
      "image/png": "[encoded data removed]",
      "text/plain": [
       "<Figure size 864x864 with 1 Axes>"
      ]
     },
     "metadata": {
      "needs_background": "light"
     },
     "output_type": "display_data"
    }
   ],
   "source": [
    "weight_list = [7.8, 7.9, 8.2, 7.2, 6.7, 7.7, 7.0, 4.7, 7.6, 6.3, 4.6, 6.2, 6.0, 5.2, 4.2, 3.8]\n",
    "freq = [2, 5, 1, 1, 1, 1, 1, 3, 1, 1, 1, 1, 2, 2, 1, 1]\n",
    "\n",
    "plt.figure(figsize = (12, 12))\n",
    "plt.hist(weight_list, weights = freq, bins = 50, color = 'b')\n",
    "\n",
    "plt.title(\"Potato Weight Histogram\\n\", fontsize = 30)\n",
    "\n",
    "plt.xlabel(\"\\nPotato Weights\", fontsize = 25)\n",
    "plt.ylabel(\"\\nFrequency\", fontsize = 25)\n",
    "\n",
    "plt.xticks(np.arange(3.5, 9, 0.25), fontsize=10)\n",
    "plt.yticks(np.arange(0, 5, 1.0), fontsize=15)\n",
    "plt.show()"
   ]
  },
  {
   "cell_type": "markdown",
   "metadata": {},
   "source": [
    "This data seems a bit skewed, so I think it will be best to use the IQR method to find the outliers of this particular data set."
   ]
  },
  {
   "cell_type": "code",
   "execution_count": 84,
   "metadata": {},
   "outputs": [],
   "source": [
    "# I'm choosing to write a dedicated function here that I can use for any pandas data frames in the future.\n",
    "def pandas_iqr(df):\n",
    "    # First we need out first quartile, third quartile, and IQR\n",
    "    firstq = df.quantile(.25)\n",
    "    thirdq = df.quantile(.75)\n",
    "    iqr = thirdq - firstq\n",
    "    \n",
    "    # Now we create our cutoff points\n",
    "    high_cutoff = thirdq + 1.5*iqr\n",
    "    print('High cutoff is:', high_cutoff)\n",
    "    low_cutoff = firstq - 1.5*iqr\n",
    "    print(\"Low cutoff is:\", low_cutoff)\n",
    "    \n",
    "    # Finally, we populate a list with our outlying values\n",
    "    outliers = [i for i in df if i > high_cutoff or i < low_cutoff]\n",
    "    print(\"Outliers:\", outliers)"
   ]
  },
  {
   "cell_type": "code",
   "execution_count": 85,
   "metadata": {},
   "outputs": [
    {
     "name": "stdout",
     "output_type": "stream",
     "text": [
      "High cutoff is: 11.7\n",
      "Low cutoff is: 1.3000000000000007\n",
      "Outliers: []\n"
     ]
    }
   ],
   "source": [
    "pandas_iqr(weights)"
   ]
  },
  {
   "cell_type": "markdown",
   "metadata": {},
   "source": [
    "I was really surprised by this, but it looks like our data has no outliers!"
   ]
  },
  {
   "cell_type": "markdown",
   "metadata": {},
   "source": [
    "**c) Based on the histogram, potatoes seem to fall into 2 weight catagories. Divide the data into the two categories, then repeat part A for both categories.**\n",
    "\n",
    "Looking at the graph, we can see that the just about the whole range from 5 to 6 is empty, with the exception of the two potatoes that had a weight of 5.2. This leads me to believe that the two weight catagories the potatoes fall into are those with a weight greater than 5.5 and those with a weight less than 5.5.\n",
    "\n",
    "First things first, we need to create two new data sets based on this new criteria."
   ]
  },
  {
   "cell_type": "code",
   "execution_count": 86,
   "metadata": {},
   "outputs": [
    {
     "name": "stdout",
     "output_type": "stream",
     "text": [
      "[7.8, 7.9, 8.2, 7.2, 6.7, 7.9, 7.9, 7.9, 7.7, 7.8, 7.0, 7.6, 6.3, 6.2, 6.0, 7.9, 6.0]\n",
      "[4.7, 4.7, 4.6, 4.7, 5.2, 4.2, 5.2, 3.8]\n"
     ]
    }
   ],
   "source": [
    "greater = [i for i in weights if i > 5.5]\n",
    "less = [i for i in weights if i < 5.5]\n",
    "print(greater)\n",
    "print(less)"
   ]
  },
  {
   "cell_type": "code",
   "execution_count": 87,
   "metadata": {},
   "outputs": [],
   "source": [
    "# Since I am now back to working with lists, I can't use the function I wrote earlier. Instead, I am going to write a\n",
    "# function that does the exact same thing, but this time using numpy so I can work with lists.\n",
    "\n",
    "def numpy_seven_num_sum(list):\n",
    "    # Mean first\n",
    "    mean = np.mean(list)\n",
    "    \n",
    "    # Now standard deviation\n",
    "    std = np.std(list)\n",
    "    \n",
    "    # Now the median\n",
    "    median = np.median(list)\n",
    "    \n",
    "    # Now the first quartile and third quartiles\n",
    "    firstq = np.percentile(list, 25)\n",
    "    thirdq = np.percentile(list, 75)\n",
    "    \n",
    "    # And finally our min and max values\n",
    "    min_val = np.min(list)\n",
    "    max_val = np.max(list)\n",
    "    \n",
    "    # Printing logic\n",
    "    print(\"Mean:\", mean)\n",
    "    print(\"Standard deviation:\", std)\n",
    "    print(\"Median:\", median)\n",
    "    print(\"First quartile:\", firstq)\n",
    "    print(\"Third quartile:\", thirdq)\n",
    "    print(\"Max:\", max_val)\n",
    "    print(\"Min:\", min_val)"
   ]
  },
  {
   "cell_type": "code",
   "execution_count": 88,
   "metadata": {},
   "outputs": [
    {
     "name": "stdout",
     "output_type": "stream",
     "text": [
      "Mean: 7.294117647058823\n",
      "Standard deviation: 0.7439723178241119\n",
      "Median: 7.7\n",
      "First quartile: 6.7\n",
      "Third quartile: 7.9\n",
      "Max: 8.2\n",
      "Min: 6.0\n"
     ]
    }
   ],
   "source": [
    "numpy_seven_num_sum(greater)"
   ]
  },
  {
   "cell_type": "code",
   "execution_count": 89,
   "metadata": {},
   "outputs": [
    {
     "name": "stdout",
     "output_type": "stream",
     "text": [
      "Mean: 4.6375\n",
      "Standard deviation: 0.43857011982122096\n",
      "Median: 4.7\n",
      "First quartile: 4.5\n",
      "Third quartile: 4.825\n",
      "Max: 5.2\n",
      "Min: 3.8\n"
     ]
    }
   ],
   "source": [
    "numpy_seven_num_sum(less)"
   ]
  },
  {
   "cell_type": "code",
   "execution_count": null,
   "metadata": {},
   "outputs": [],
   "source": []
  }
 ],
 "metadata": {
  "kernelspec": {
   "display_name": "Python 3",
   "language": "python",
   "name": "python3"
  },
  "language_info": {
   "codemirror_mode": {
    "name": "ipython",
    "version": 3
   },
   "file_extension": ".py",
   "mimetype": "text/x-python",
   "name": "python",
   "nbconvert_exporter": "python",
   "pygments_lexer": "ipython3",
   "version": "3.8.5"
  }
 },
 "nbformat": 4,
 "nbformat_minor": 4
}

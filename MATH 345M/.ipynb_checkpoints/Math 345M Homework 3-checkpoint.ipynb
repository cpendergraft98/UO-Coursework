{
 "cells": [
  {
   "cell_type": "markdown",
   "metadata": {},
   "source": [
    "**Math 345M Homework 3**\n",
    "\n",
    "**Author: Cole Pendergraft**\n",
    "\n",
    "**Chapter 4 Problems 81, 82, 96, 98, 99, 100, 101**\n",
    "\n",
    "**Chapter 6 Problems 66, 67, 80, 84, 88**"
   ]
  },
  {
   "cell_type": "code",
   "execution_count": 1,
   "metadata": {},
   "outputs": [],
   "source": [
    "import numpy as np\n",
    "import scipy.stats\n",
    "from scipy.integrate import quad\n",
    "\n",
    "import matplotlib.pyplot as plt"
   ]
  },
  {
   "cell_type": "markdown",
   "metadata": {},
   "source": [
    "**Problem 4.81:** In a lottery, there are 250 prizes of 5 dollars, 50 prizes of 25 dollars, and 10 prizes of 100 dollars. Assuming that 10,000 tickets are to be issued and sold, what is a fair price to charge to break even?"
   ]
  },
  {
   "cell_type": "markdown",
   "metadata": {},
   "source": [
    "In order for us to calculate the breakeven point in this game, we simply need to calculate its expected return, as in this case we are approaching the problem from the persepective of the lottery group. Players have a 250/10000 chance to win 5 dollars, 50/10000 chance to win 25 dollars, and 10/10000 chance to win the 100 dollars. Thus, by calculating the expected return, we are predicting what the player is expected to win on average over the long term of playing this game over and over, and, by extension, what the lotto group expects to lose on average as the game is played over and over. If we price our lottery tickets to match that expected return, then we should break even.\n",
    "\n",
    "Below is a simple function I have written to perform the expected return calculation."
   ]
  },
  {
   "cell_type": "code",
   "execution_count": 2,
   "metadata": {},
   "outputs": [],
   "source": [
    "def expected_return(list1, list2, tot):\n",
    "    \"\"\" \n",
    "    List1 is expected to be a list of int quantities, in this case the number of prizes for each dollar amount\n",
    "    list2 is expected to be a list of int dollar amounts associated with the quantites\n",
    "    tot is the total int quantity of objects to be sold, in this case 10,000 \n",
    "     \"\"\"\n",
    "    \n",
    "    mu = 0 \n",
    "    \n",
    "    for i in range(len(list1)):\n",
    "        \n",
    "        mu = mu + ((list1[i]/tot) * list2[i])\n",
    "        \n",
    "    return mu"
   ]
  },
  {
   "cell_type": "code",
   "execution_count": 3,
   "metadata": {},
   "outputs": [
    {
     "name": "stdout",
     "output_type": "stream",
     "text": [
      "Price to break even is $ 0.35\n"
     ]
    }
   ],
   "source": [
    "quantities = [250, 50, 10]\n",
    "prizes = [5, 25, 100]\n",
    "total = 10000\n",
    "\n",
    "print(\"Price to break even is $\", expected_return(quantities, prizes, total))"
   ]
  },
  {
   "cell_type": "markdown",
   "metadata": {},
   "source": [
    "========================================================================================================================="
   ]
  },
  {
   "cell_type": "markdown",
   "metadata": {},
   "source": [
    "**Problem 4.82:** According to a recent article the average number of babies born with significant hearing loss is approximately two per 1,000 babies in a healthy baby nursery. The number climbs to an average of 30 per 1,000 babies in an intensive care nursery.\n",
    "\n",
    "Suppose that 1,000 babies from healthy baby nurseries were randomly surveyed. Find the probability that exactly two babies were born deaf."
   ]
  },
  {
   "cell_type": "markdown",
   "metadata": {},
   "source": [
    "I believe that this is a binomial distribution for the following reasons:\n",
    "1. We have a fixed number of trials, n = 1000\n",
    "2. Each trial has exactly two outcomes: either the baby is not deaf, or it is.\n",
    "3. The probability for success is unchanging, it will be 2/1000 for each trial\n",
    "4. Each trial is independent, a baby being found to be deaf in one trial does not alter the probability of a baby being found deaf in another\n",
    "\n",
    "The probability mass function for a binomial distribution is\n",
    "\n",
    "P(x; p, n) = $ n \\choose x$$p^x$$(1-p)^{n-x}$\n",
    "\n",
    "Where p is our probability of success, n is our number of trials, and x is the number of success we are seeking to find in n trials. \n",
    "\n",
    "So, we have our probability and our number of trials, and we know we are seeking x = 2 successes.\n",
    "\n",
    "scipy includes the following function to automate the calculation of the probability mass function:\n",
    "\n",
    "`scipy.stats.binom.pmf(number of successes we want, number of trials, probability of success)`"
   ]
  },
  {
   "cell_type": "code",
   "execution_count": 4,
   "metadata": {},
   "outputs": [
    {
     "name": "stdout",
     "output_type": "stream",
     "text": [
      "The probability of that exactly two babies from a healthy nursery are born deaf is 0.2709415984758278\n"
     ]
    }
   ],
   "source": [
    "n = 1000\n",
    "p = 2/1000\n",
    "x = 2\n",
    "\n",
    "print(\"The probability of that exactly two babies from a healthy nursery are born deaf is\", scipy.stats.binom.pmf(x, n, p))"
   ]
  },
  {
   "cell_type": "markdown",
   "metadata": {},
   "source": [
    "========================================================================================================================="
   ]
  },
  {
   "cell_type": "markdown",
   "metadata": {},
   "source": [
    "**Problem 4.96:** Suppose that about 85% of graduating students attend their graduation. A group of 22 graduating students is randomly chosen."
   ]
  },
  {
   "cell_type": "markdown",
   "metadata": {},
   "source": [
    "**a) In words, define the random variable X**\n",
    "\n",
    "The random variable X is the number of students who do attend their graduation."
   ]
  },
  {
   "cell_type": "markdown",
   "metadata": {},
   "source": [
    "**b) List the values that X may take on**\n",
    "\n",
    "X may take on whole number values in the range [0, 22]"
   ]
  },
  {
   "cell_type": "markdown",
   "metadata": {},
   "source": [
    "**c) Give the distribution of X.**\n",
    "\n",
    "I believe the distribution of X is a binomial distribution for the following reasons:\n",
    "\n",
    "1. We have a fixed number of trials, n = 22\n",
    "2. Each trial has exactly two outcomes: either the student attends the graduation, or they don't.\n",
    "3. The probability of success is always going to be 85%\n",
    "4. The trials are independent, a student choosing to attend graduation in one trial does not impact the probability that a student will choose to attend graduation in another.\n",
    "\n",
    "Thus, the distribution of X is B(22, 0.85)"
   ]
  },
  {
   "cell_type": "markdown",
   "metadata": {},
   "source": [
    "**d) How many are expected to attend their graduation?**\n",
    "\n",
    "Here we are seeking to calculate the expected return of our binomial distribution. There is no need to write a function for this, as the calculation for the expected return of a binomial distribution is simply n\\*p"
   ]
  },
  {
   "cell_type": "code",
   "execution_count": 5,
   "metadata": {},
   "outputs": [
    {
     "name": "stdout",
     "output_type": "stream",
     "text": [
      "Expected attendance is: 18.7\n"
     ]
    }
   ],
   "source": [
    "n = 22\n",
    "p = 0.85\n",
    "\n",
    "print(\"Expected attendance is:\", n*p)\n",
    "\n",
    "# Great use of powerful tool like python here, absolutely necessary code"
   ]
  },
  {
   "cell_type": "markdown",
   "metadata": {},
   "source": [
    "Obviously we are not going to have 18 attendees and then 0.7 of an attendee, so it's a rather safe assumption to say our expected attendance is about 19 individuals."
   ]
  },
  {
   "cell_type": "markdown",
   "metadata": {},
   "source": [
    "**e) Find the probability that 17 or 18 will attend.**\n",
    "\n",
    "Here we have two separate cases in which we can execute our binomial pmf function again. \n",
    "\n",
    "Case 1:\n",
    "\n",
    "n = number of trials = 22\n",
    "\n",
    "p = probability of success = 0.85\n",
    "\n",
    "x = desired number of successes = 17\n",
    "\n",
    "Case 2:\n",
    "\n",
    "n = 22\n",
    "\n",
    "p = 0.85\n",
    "\n",
    "x = 18\n",
    "\n",
    "Since this is a logical OR operation, we can sum the two probabilities that we recieve to generate the probability that 17 or 18 attend.\n",
    "\n",
    "I conceptualized this part using a truth table, if 17 students attend, then we return true. If 18 attend, we return true. So the probability this returning true is equivalent to the probability of 17 students attending + probability of 18 students attending."
   ]
  },
  {
   "cell_type": "code",
   "execution_count": 6,
   "metadata": {},
   "outputs": [
    {
     "name": "stdout",
     "output_type": "stream",
     "text": [
      "Probability that either 17 or 18 students will attend is 0.3248747094357023\n"
     ]
    }
   ],
   "source": [
    "prob1 = scipy.stats.binom.pmf(17, 22, 0.85)\n",
    "prob2 = scipy.stats.binom.pmf(18, 22, 0.85)\n",
    "\n",
    "prob1_or_prob2 = prob1 + prob2\n",
    "\n",
    "print(\"Probability that either 17 or 18 students will attend is\", prob1_or_prob2)"
   ]
  },
  {
   "cell_type": "markdown",
   "metadata": {},
   "source": [
    "**f) Based on numerical values, would you be surprised if all 22 attended graduation? Justify your answer numerically.**\n",
    "\n",
    "I want to take a look at the probability of all 22 students attending graduation in order to answer this question. Just like in the previous part, we can compute the probability of all 22 students attending by finding the binomial pmf where n = 22 trials, p = 0.85 probability of success, and x = 22 desired successes."
   ]
  },
  {
   "cell_type": "code",
   "execution_count": 7,
   "metadata": {},
   "outputs": [
    {
     "name": "stdout",
     "output_type": "stream",
     "text": [
      "Probability that all 22 students attend is 0.02800376120856161\n"
     ]
    }
   ],
   "source": [
    "print(\"Probability that all 22 students attend is\", scipy.stats.binom.pmf(22, 22, 0.85))"
   ]
  },
  {
   "cell_type": "markdown",
   "metadata": {},
   "source": [
    "So there is just about a 3% chance that all students will attend graduation. Given how tiny that value is, I would be very surprised if all 22 students attended graduation."
   ]
  },
  {
   "cell_type": "markdown",
   "metadata": {},
   "source": [
    "========================================================================================================================="
   ]
  },
  {
   "cell_type": "markdown",
   "metadata": {},
   "source": [
    "**Problem 4.98:** Approximately 8% of students at a local high school participate in after-school sports all four years of high school. A group of 60 seniors is randomly chosen. Of interest is the number who participated in after-school sports all four years of high school."
   ]
  },
  {
   "cell_type": "markdown",
   "metadata": {},
   "source": [
    "**a) In words, define the random variable X.**\n",
    "\n",
    "The random variable X in this case is the number of seniors who participated in after-school sports all four years of high school."
   ]
  },
  {
   "cell_type": "markdown",
   "metadata": {},
   "source": [
    "**b) List the values that X may take on.**\n",
    "\n",
    "X may take on whole number values in the range [0, 60]"
   ]
  },
  {
   "cell_type": "markdown",
   "metadata": {},
   "source": [
    "**c) Give the distribution of X**\n",
    "\n",
    "I believe the distribution of X is a binomial distribution for the following reasons:\n",
    "1. We have a fixed number of trials at n = 60\n",
    "2. Each trial has exactly two possible outcomes, either the student did play sports all four years or they didn't.\n",
    "3. The probability of success is fixed at 0.08\n",
    "4. The trials are independent, one student participating in sports all four years of school does not impact the probability that another student played sports all four years\n",
    "\n",
    "Thus, the distribution for X is B(60, 0.08)"
   ]
  },
  {
   "cell_type": "markdown",
   "metadata": {},
   "source": [
    "**d) How many seniors are expected to have participated in after school sports all four years of high school?**\n",
    "\n",
    "This is another expected return calculation. As we established in the previous problem, we can calculate the expected return from a binomial distribution by taking n\\*p"
   ]
  },
  {
   "cell_type": "code",
   "execution_count": 8,
   "metadata": {},
   "outputs": [
    {
     "name": "stdout",
     "output_type": "stream",
     "text": [
      "Expected number of seniors who played all four years is 4.8\n"
     ]
    }
   ],
   "source": [
    "print(\"Expected number of seniors who played all four years is\", 60*0.08)"
   ]
  },
  {
   "cell_type": "markdown",
   "metadata": {},
   "source": [
    "So about 5 students of the 60 are expected to have played sports all four years of high school."
   ]
  },
  {
   "cell_type": "markdown",
   "metadata": {},
   "source": [
    "**e) Based on numerical values, would you be surprised if none of the seniors participated in after school sports all four years of high school? Justify your answer numerically.**\n",
    "\n",
    "Once again, we can use our binomial pmf function here, as we are finding the probability that 0 of the 60 students, who have 0.08 chance of playing sports all four years, did play sports all four years.\n",
    "\n",
    "We have:\n",
    "\n",
    "n = number of trials = 60\n",
    "\n",
    "p = probability of success = 0.08\n",
    "\n",
    "x = desired number of successes = 0"
   ]
  },
  {
   "cell_type": "code",
   "execution_count": 9,
   "metadata": {},
   "outputs": [
    {
     "name": "stdout",
     "output_type": "stream",
     "text": [
      "The probability that 0 students played sports all four years is 0.006718458528881653\n"
     ]
    }
   ],
   "source": [
    "print(\"The probability that 0 students played sports all four years is\", scipy.stats.binom.pmf(0, 60, 0.08))"
   ]
  },
  {
   "cell_type": "markdown",
   "metadata": {},
   "source": [
    "**f) Based upon numerical values, is it more likely that four or that five of the seniors participated in after school sports all four years of high school? Justify your answer numerically.**\n",
    "\n",
    "Well, let's go ahead and compute the probabilities for each and compare them!\n",
    "\n",
    "Vars for finding probability of 4 seniors:\n",
    "\n",
    "x = 4\n",
    "\n",
    "n = 60\n",
    "\n",
    "p = 0.08\n",
    "\n",
    "Vars for finding probability of 5 seniors:\n",
    "\n",
    "x = 5\n",
    "\n",
    "n = 60\n",
    "\n",
    "p = 0.08"
   ]
  },
  {
   "cell_type": "code",
   "execution_count": 10,
   "metadata": {},
   "outputs": [
    {
     "name": "stdout",
     "output_type": "stream",
     "text": [
      "Prob that 4 seniors played all four years is 0.18731525543326424\n",
      "Prob that 5 seniors played all four years is 0.18242877050891765\n"
     ]
    }
   ],
   "source": [
    "print(\"Prob that 4 seniors played all four years is\", scipy.stats.binom.pmf(4, 60, 0.08))\n",
    "print(\"Prob that 5 seniors played all four years is\", scipy.stats.binom.pmf(5, 60, 0.08))"
   ]
  },
  {
   "cell_type": "markdown",
   "metadata": {},
   "source": [
    "They are so close, but it seems that the probability that 4 seniors played all four years is ever so slightly greater than the probability that 5 played all four years"
   ]
  },
  {
   "cell_type": "markdown",
   "metadata": {},
   "source": [
    "========================================================================================================================="
   ]
  },
  {
   "cell_type": "markdown",
   "metadata": {},
   "source": [
    "**Problem 4.99:** The chance of an IRS audit for a tax return with over $25,000 in income is about 2\\% per year. We are interested in the expected number of audits a person with that income has has in a 20 year period. Assume each year is independent,"
   ]
  },
  {
   "cell_type": "markdown",
   "metadata": {},
   "source": [
    "**a) In words, describe the random variable X.**\n",
    "\n",
    "The random variable X is the number of audits a person has in a 20 year period."
   ]
  },
  {
   "cell_type": "markdown",
   "metadata": {},
   "source": [
    "**b) List the values that X may take on.**\n",
    "\n",
    "I had to google how many times a person can be audited by the IRS in one year, which I think is pretty funny.\n",
    "\n",
    "Since a person can only be audited once per year, X can take on whole number values in the range [0, 20]"
   ]
  },
  {
   "cell_type": "markdown",
   "metadata": {},
   "source": [
    "**c) Give the distribution of X.**\n",
    "\n",
    "The distribution of X is a binomial distribution for the following reasons:\n",
    "1. Our number of trials is held constant at n = 20 years\n",
    "2. Each trial has exactly two possible outcomes, either a person was audited or they weren't.\n",
    "3. Our probability from trial to trial is held fixed at p = 0.02\n",
    "4. Since we are assuming each year is independent, then each of our trials are independent from the others.\n",
    "\n",
    "Thus, the distribution of X is B(20, 0.02)"
   ]
  },
  {
   "cell_type": "markdown",
   "metadata": {},
   "source": [
    "**d) How many audits are expected in a 20 year period?**\n",
    "\n",
    "Here we have another expected return calculation, and we know that for a binomial distribution the expected return is n\\*p."
   ]
  },
  {
   "cell_type": "code",
   "execution_count": 11,
   "metadata": {},
   "outputs": [
    {
     "name": "stdout",
     "output_type": "stream",
     "text": [
      "Expected number of audits in a 20 year period 0.4\n"
     ]
    }
   ],
   "source": [
    "print(\"Expected number of audits in a 20 year period\", 20*0.02)"
   ]
  },
  {
   "cell_type": "markdown",
   "metadata": {},
   "source": [
    "Since 0.4 is just under 0.5, we round down and say that a person can typically expect 0 audits over a 20 year period, which is pretty interesting to me."
   ]
  },
  {
   "cell_type": "markdown",
   "metadata": {},
   "source": [
    "**e) Find the probability that a person is not audited at all.**\n",
    "\n",
    "Now we are just doing our binomial pmf function again using x = desired number of successes = 0, n = number of trials = 20, and p = probability of success = 0.02."
   ]
  },
  {
   "cell_type": "code",
   "execution_count": 12,
   "metadata": {},
   "outputs": [
    {
     "name": "stdout",
     "output_type": "stream",
     "text": [
      "The probability that a person is not audited at all is 0.6676079717550946\n"
     ]
    }
   ],
   "source": [
    "print(\"The probability that a person is not audited at all is\", scipy.stats.binom.pmf(0, 20, 0.02))"
   ]
  },
  {
   "cell_type": "markdown",
   "metadata": {},
   "source": [
    "**f) Find the probability that a person is audited more than twice.**\n",
    "\n",
    "This question is subtley tricky to conceptualize. The easiest means of calculating this value would be to subtract the probability that person is audited <= 2 times from 1, as the probability that a person is audited <= 2 times + the probability that a person is audited > 2 times = 1.\n",
    "\n",
    "However, we do not want to use our binomial pmf function here. Rather, we want to use the binomial.cdf function for this part. The difference betweent the pmf function and the cdf function is that while pmf calculates the probability of x successes in n trials, the cdf function calculates the probability that there will be 0 to x successes in n trials. We want to use this because =< 2 audits being performed encapsulates the situation where we have 0 audits being performed, 1 audit being perfomed, and 2 audits being performed, so we are seeking 0 to 2 successes in 20 trials."
   ]
  },
  {
   "cell_type": "code",
   "execution_count": 13,
   "metadata": {},
   "outputs": [
    {
     "name": "stdout",
     "output_type": "stream",
     "text": [
      "The probability that a person is audited more than twice is 0.007068693403814108\n"
     ]
    }
   ],
   "source": [
    "two_prob = scipy.stats.binom.cdf(2, 20, 0.02)\n",
    "\n",
    "print(\"The probability that a person is audited more than twice is\", 1 - two_prob)"
   ]
  },
  {
   "cell_type": "markdown",
   "metadata": {},
   "source": [
    "========================================================================================================================="
   ]
  },
  {
   "cell_type": "markdown",
   "metadata": {},
   "source": [
    "**Problem 4.100:** It has been estimated that only about 30\\% of California residents have adequate earthquake supplies. Suppose your randomly survey 11 Californian residents. We are interested in the number who have adequate earthquake supplies."
   ]
  },
  {
   "cell_type": "markdown",
   "metadata": {},
   "source": [
    "**a) In words, describe the random variable X.**\n",
    "\n",
    "The random variable X is the number of Californians who have adequate earthquake supplies."
   ]
  },
  {
   "cell_type": "markdown",
   "metadata": {},
   "source": [
    "**b) List the values that X may take on.**\n",
    "\n",
    "We are randomly surveying 11 individuals, so X can take on whole number values in the range [0, 11]"
   ]
  },
  {
   "cell_type": "markdown",
   "metadata": {},
   "source": [
    "**c) Give the distribution of X.**\n",
    "\n",
    "The distribution of X is a binomial distribution for the following reasons:\n",
    "1. Our number of trials is held constant at n = 11\n",
    "2. We have exactly two possible outcomes, either the individual has adequate supplies or they don't\n",
    "3. Our probability remains the same for all trials at p = 0.3\n",
    "4. Each trial is independent from the rest, one resident having adequate preparedness does not impact the probability that another resident has adequate preparendness.\n",
    "\n",
    "Thus, the distribution of X is B(11, 0.3)"
   ]
  },
  {
   "cell_type": "markdown",
   "metadata": {},
   "source": [
    "**d) What is the probability that at least eight have adequate earthquake supplies?**\n",
    "\n",
    "This is another tricky problem. We know by now that we want to use the cdf function here as we are looking for the probability that we have 8 to 11 successes in 11 trials, but the cdf function explicitly works by computing the probability of 0 to x successes in n trials, so our 8 to 11 range doesn't work for that.\n",
    "\n",
    "However, we can calculate the probability of 0 to 7 successes in 11 trials, and if we subtract that value from 1 we should get the probability of at least 8 successes in 11 trials."
   ]
  },
  {
   "cell_type": "code",
   "execution_count": 14,
   "metadata": {},
   "outputs": [
    {
     "name": "stdout",
     "output_type": "stream",
     "text": [
      "The probability of at least 8 individuals being adequately prepared is 0.004290894000000045\n"
     ]
    }
   ],
   "source": [
    "seven_prob = scipy.stats.binom.cdf(7, 11, 0.3)\n",
    "\n",
    "print(\"The probability of at least 8 individuals being adequately prepared is\", 1 - seven_prob)"
   ]
  },
  {
   "cell_type": "markdown",
   "metadata": {},
   "source": [
    "**e) Is it more likely that none or that all of the residents surveyed will have adequate earthquake supplies? Why?**\n",
    "\n",
    "Well, let's take a look at the probabilities for each individual situation and compare them. Since we aren't talking about ranges anymore, we can go back to using our pmf function."
   ]
  },
  {
   "cell_type": "code",
   "execution_count": 15,
   "metadata": {},
   "outputs": [
    {
     "name": "stdout",
     "output_type": "stream",
     "text": [
      "Prob of all being adequately prepared is 1.7714699999999986e-06\n",
      "Prob of none being adequately prepared is 0.019773267430000012\n"
     ]
    }
   ],
   "source": [
    "print(\"Prob of all being adequately prepared is\", scipy.stats.binom.pmf(11, 11, 0.3))\n",
    "print(\"Prob of none being adequately prepared is\", scipy.stats.binom.pmf(0, 11, 0.3))"
   ]
  },
  {
   "cell_type": "markdown",
   "metadata": {},
   "source": [
    "So it would seem that it is significantly more likely that none of the individuals surveyed would be adequately prepared."
   ]
  },
  {
   "cell_type": "markdown",
   "metadata": {},
   "source": [
    "**f) How many residents do you expect will have adequate earthquake supplies?**\n",
    "\n",
    "Back to our favorite expected return equation! For a binomial distribution,the expected return is n\\*p."
   ]
  },
  {
   "cell_type": "code",
   "execution_count": 16,
   "metadata": {},
   "outputs": [
    {
     "name": "stdout",
     "output_type": "stream",
     "text": [
      "Expected number of adequately prepared individuals is 3.3\n"
     ]
    }
   ],
   "source": [
    "print(\"Expected number of adequately prepared individuals is\", 11*0.3)"
   ]
  },
  {
   "cell_type": "markdown",
   "metadata": {},
   "source": [
    "So we can expect about 3 individuals to be adequately prepared."
   ]
  },
  {
   "cell_type": "markdown",
   "metadata": {},
   "source": [
    "========================================================================================================================="
   ]
  },
  {
   "cell_type": "markdown",
   "metadata": {},
   "source": [
    "**Problem 4.101:** There are two similar games played for Chinese New Year and Vietnamese New Year. In the Chinese version, fair dice with numbers 1, 2, 3, 4, 5, and 6 are used, along with a board with those numbers. In the Vietnamese version, fair dice with pictures of a gourd, fish, rooster, crab, crayfish, and deer are used. The board has those six objects on it, also. We will play with bets being 1 dollar. The player places a bet on a number or object. The \"house\" rolls three dice. If none of the dice show the number or object that was bet, the house keeps the 1 dollar bet. If one of the dice shows the number or object bet (and the other two do not show it), the player gets back their 1 dollar bet, plus 1 dollar profit. If two of the dice show the number or object (and the third die does not show it), the player gets back their 1 dollar bet, plus 2 dollars profit. If all three dice show the number or object bet, the player gets back their 1 dollar bet, plus 3 dollars profit. Let X = number of matches and Y = profit per game."
   ]
  },
  {
   "cell_type": "markdown",
   "metadata": {},
   "source": [
    "**a) In words, define the random variable X.**\n",
    "\n",
    "It took me a second to realize \"number of matches\" means \"number of die matches\" and not \"number of games played\".\n",
    "\n",
    "According to the problem description, the random variable X is the number of die matches."
   ]
  },
  {
   "cell_type": "markdown",
   "metadata": {},
   "source": [
    "**b) List the values that X may take on.**\n",
    "\n",
    "We can have 0, 1, 2, or 3 matching die, so X can take on whole number values in the range [0, 3]"
   ]
  },
  {
   "cell_type": "markdown",
   "metadata": {},
   "source": [
    "**c) Give the distribution of X.**\n",
    "\n",
    "I believe the distribution of X to be a binomial distribution for the following reasons\n",
    "1. We have a fixed number of trials. We roll 3 die every time we play the game, no more, no less.\n",
    "2. We have exactly two possible outcomes. On the surface, it may seem like we have more because we have varying profits depending on the matches, but really it all boils down to two outcomes: the player makes money, or the player loses money.\n",
    "3. We have a fixed probability. Again, this may not seem true since we roll multiple die, but in reality each die has a 1/6 chance of landing on the same value. I.e. the first die has a 1/6 chance to land on 1, the second die has a 1/6 chance to land on 1, and the third die has a 1/6 chance to land on one, so our probability is consistent at 1/6\n",
    "4. Our trials are independent from each other. Rolling a 3 on one die does not alter the probability of rolling a 3 on the other two die.\n",
    "\n",
    "Thus, the distribution of X is B(3, 1/6)"
   ]
  },
  {
   "cell_type": "markdown",
   "metadata": {},
   "source": [
    "**d) List the values that Y may take on. Then, construct one PDF table that includes both X and Y and their probabilities.**\n",
    "\n",
    "The random variable Y is our profit per game, and we can either gain -1, 1, 2, or 3 dollars, so the values that Y may take on are [-1, 1, 2, 3]\n",
    "\n",
    "Y does not actually have any bearing on the probabilities of our rolls, it is merely an output dependent on on our rolls. Effectively when we calculate probabilty of x successes in n trials we are also calculating the probabilty of either losing -1, or gaining 1, 2, or 3. As in, if we have 0 successes in 3 trials then we lose a dollar, so those probabilities are equivalent. We will be using binom.pmf here as we are not looking at any ranges.\n",
    "\n",
    "I was planning on writing code here that generates a table, but I actually didn't realize that SQLite would need to be imported in order to create tables in Python, I thought Python was already capable of that. As an alternative, I will write code that computes all the required probabilities, and then write a markdown table to store all the values."
   ]
  },
  {
   "cell_type": "code",
   "execution_count": 17,
   "metadata": {},
   "outputs": [
    {
     "name": "stdout",
     "output_type": "stream",
     "text": [
      "[0.5787037037037037, 0.34722222222222215, 0.06944444444444445, 0.0046296296296296285]\n"
     ]
    }
   ],
   "source": [
    "n = 3\n",
    "p = 1/6\n",
    "prob_list = []\n",
    "\n",
    "for i in range(4):\n",
    "    q = scipy.stats.binom.pmf(i, 3, 1/6)\n",
    "    prob_list.append(q)\n",
    "    \n",
    "print(prob_list)"
   ]
  },
  {
   "cell_type": "markdown",
   "metadata": {},
   "source": [
    "| X | Y | norm.binom.pmf(x, 3, 1/6) |\n",
    "|---|---|---------------------------|\n",
    "| 0 | -1| 0.579                     |\n",
    "| 1 | 1 | 0.347                     |\n",
    "| 2 | 2 | 0.069                     |\n",
    "| 3 | 3 | 0.046                      |"
   ]
  },
  {
   "cell_type": "markdown",
   "metadata": {},
   "source": [
    "**e) Calculate the average expected matches over the long run of playing this game for the player.**\n",
    "\n",
    "Since the distribution of X is a binomial distribution, the expected matches over the long term of the game is n\\*p."
   ]
  },
  {
   "cell_type": "code",
   "execution_count": 18,
   "metadata": {},
   "outputs": [
    {
     "name": "stdout",
     "output_type": "stream",
     "text": [
      "Expected number of matches 0.5\n"
     ]
    }
   ],
   "source": [
    "print(\"Expected number of matches\", 3*(1/6))"
   ]
  },
  {
   "cell_type": "markdown",
   "metadata": {},
   "source": [
    "**f) Calculate the average expected earnings over the long run of playing this game for the player.**\n",
    "\n",
    "The distribution of Y is decidely not binomial (which we know, for one, because we have more than two possible outcomes), but normal. Because of this, we should use the method for computing expected for normal distributions. As I mentioned in part d, the probabilities we calculated with the binom.pmf function are actually the probabilites for each profit/loss. As such, we can compute the average by summing up all of the monetary loss/gain amount multiplied by their probabilities."
   ]
  },
  {
   "cell_type": "code",
   "execution_count": 19,
   "metadata": {},
   "outputs": [],
   "source": [
    "def expected_return_but_cooler(list1, list2):\n",
    "    \"\"\"\n",
    "    List1 is expected to be a list of numerical outputs\n",
    "    List2 is expected to be a list of probabilities associated with each output\n",
    "    \"\"\"\n",
    "    mu = 0\n",
    "    for i in range(len(list1)):\n",
    "        mu = mu + (list1[i] * list2[i])\n",
    "        \n",
    "    return mu"
   ]
  },
  {
   "cell_type": "code",
   "execution_count": 20,
   "metadata": {},
   "outputs": [
    {
     "name": "stdout",
     "output_type": "stream",
     "text": [
      "-0.07870370370370379\n"
     ]
    }
   ],
   "source": [
    "profits = [-1, 1, 2, 3]\n",
    "\n",
    "print(expected_return_but_cooler(profits, prob_list))"
   ]
  },
  {
   "cell_type": "markdown",
   "metadata": {},
   "source": [
    "So the player can expect to lose about -0.079 dollars on average in the long run of this game."
   ]
  },
  {
   "cell_type": "markdown",
   "metadata": {},
   "source": [
    "**g) Determine who has the advantage, the player or the house.**\n",
    "\n",
    "Given that the player can expect to to lose money in the long run it is a safe assumption that the house has the advantage, but just to be thorough lets do some calculations.\n",
    "\n",
    "The expected loss/gain of the house is the inverse of the player. Meaning, if there are zero matches the house gains 1 dollar, if there is 1 match the house loses a dollar, if there is 2 matches the house loses two dollars, and if there are 3 matches the house gains 3 dollars."
   ]
  },
  {
   "cell_type": "code",
   "execution_count": 21,
   "metadata": {},
   "outputs": [
    {
     "name": "stdout",
     "output_type": "stream",
     "text": [
      "0.07870370370370379\n"
     ]
    }
   ],
   "source": [
    "profits = [1, -1, -2, -3]\n",
    "\n",
    "print(expected_return_but_cooler(profits, prob_list))"
   ]
  },
  {
   "cell_type": "markdown",
   "metadata": {},
   "source": [
    "And there we go, as expected loss/gain for the house is the exact inverse of the player, so the house has the advantage."
   ]
  },
  {
   "cell_type": "markdown",
   "metadata": {},
   "source": [
    "========================================================================================================================="
   ]
  },
  {
   "cell_type": "markdown",
   "metadata": {},
   "source": [
    "**Problem 6.66 (the devils' decimal):** Height and weight are two measurements used to track a child's development. The WHO measures child development by comparing the weights of children who are the same height and the same gender. In 200-, weights for all 80 cm girls in the reference population had a mean of $\\mu$ = 10.2 kg and standard deviation of $\\sigma$ = 0.8 kg. Weights are normally distributed. X ~ N(10.2, 0.8). Calculate the z-scores that correspond to the following weights and interpret them."
   ]
  },
  {
   "cell_type": "markdown",
   "metadata": {},
   "source": [
    "**a) 11 kg**\n",
    "\n",
    "According to the textbook, the z-score of a value x can be found by taking \n",
    "\n",
    "z = $(x - \\mu) \\over \\sigma$"
   ]
  },
  {
   "cell_type": "code",
   "execution_count": 22,
   "metadata": {},
   "outputs": [],
   "source": [
    "def single_Val_Zscore(x, mu, sigma):\n",
    "    \"\"\"\n",
    "    x is expected to be the value that we are seeking to compute the z-score of\n",
    "    mu is expected to be the mean of the normal distribution of which x is a part of\n",
    "    sigma is expected to be the standard dev of the same normal distribution\n",
    "    \"\"\"\n",
    "    zscore = (x - mu)/sigma\n",
    "    return zscore"
   ]
  },
  {
   "cell_type": "code",
   "execution_count": 23,
   "metadata": {},
   "outputs": [
    {
     "name": "stdout",
     "output_type": "stream",
     "text": [
      "Z-score for 11 kg is 1.0000000000000009\n"
     ]
    }
   ],
   "source": [
    "print(\"Z-score for 11 kg is\", single_Val_Zscore(11, 10.2, 0.8))"
   ]
  },
  {
   "cell_type": "markdown",
   "metadata": {},
   "source": [
    "Based on this z-score, we can conclude that 1) 11 kg is exactly 1 standard deviation away from the mean and 2) since our z-score is positive, 11 kg is greater than our mean."
   ]
  },
  {
   "cell_type": "markdown",
   "metadata": {},
   "source": [
    "**b) 7.9 kg**"
   ]
  },
  {
   "cell_type": "code",
   "execution_count": 24,
   "metadata": {},
   "outputs": [
    {
     "name": "stdout",
     "output_type": "stream",
     "text": [
      "Z-score for 7.9 kg is -2.8749999999999987\n"
     ]
    }
   ],
   "source": [
    "print(\"Z-score for 7.9 kg is\", single_Val_Zscore(7.9, 10.2, 0.8))"
   ]
  },
  {
   "cell_type": "markdown",
   "metadata": {},
   "source": [
    "From this z-score we can conclude that 1) 7.9 kg is about 2.875 standard deviations away from the mean and 2) since our z-score is a negative value, 7.9 kg is beneath our mean."
   ]
  },
  {
   "cell_type": "markdown",
   "metadata": {},
   "source": [
    "**c) 12.2 kg**"
   ]
  },
  {
   "cell_type": "code",
   "execution_count": 25,
   "metadata": {},
   "outputs": [
    {
     "name": "stdout",
     "output_type": "stream",
     "text": [
      "Z-score for 12.2 kg is 2.5\n"
     ]
    }
   ],
   "source": [
    "print(\"Z-score for 12.2 kg is\", single_Val_Zscore(12.2, 10.2, 0.8))"
   ]
  },
  {
   "cell_type": "markdown",
   "metadata": {},
   "source": [
    "From this z-score, we can conclude that 1) 12.2 kg is exactly 2.5 standard deviations away from the mean and 2) since our z-score is a positive value, 12.2 kg is above the mean."
   ]
  },
  {
   "cell_type": "markdown",
   "metadata": {},
   "source": [
    "========================================================================================================================="
   ]
  },
  {
   "cell_type": "markdown",
   "metadata": {},
   "source": [
    "**Problem 6.67:** In 2005, 1,475,623 students heading to college took the SAT. The distribution of scores in the math section of the SAT follows a normal distribution with mean $\\mu$ = 520 and standard deviation $\\sigma$ = 115. "
   ]
  },
  {
   "cell_type": "markdown",
   "metadata": {},
   "source": [
    "**a) Calulate tha z-score for an SAT score of 720. Interpret it using a complete sentence.**\n",
    "\n",
    "So here we can use my z-score function again here with x = 720, mu = 520, and sigma = 115"
   ]
  },
  {
   "cell_type": "code",
   "execution_count": 26,
   "metadata": {},
   "outputs": [
    {
     "name": "stdout",
     "output_type": "stream",
     "text": [
      "Z-score for 720 is 1.7391304347826086\n"
     ]
    }
   ],
   "source": [
    "print(\"Z-score for 720 is\", single_Val_Zscore(720, 520, 115))"
   ]
  },
  {
   "cell_type": "markdown",
   "metadata": {},
   "source": [
    "We can conclude from this z-score that the value of 720 is approximately 1.74 standard deviations above the mean."
   ]
  },
  {
   "cell_type": "markdown",
   "metadata": {},
   "source": [
    "**b) What math SAT score is 1.5 standard deviations above the mean? What can you say about this SAT score?**\n",
    "\n",
    "Since the z-score of a value x is the number of standard deviations x is away from the mean, this question is essentially asking us to compute x given a z-score, mean, and standard deviation, which we can do by manipulating the z-score formula a bit to be\n",
    "\n",
    "x = $z\\sigma+\\mu$"
   ]
  },
  {
   "cell_type": "code",
   "execution_count": 27,
   "metadata": {},
   "outputs": [
    {
     "name": "stdout",
     "output_type": "stream",
     "text": [
      "SAT score 1.5 standard deviations away from the mean is 692.5\n"
     ]
    }
   ],
   "source": [
    "x = 1.5*(115) + 520\n",
    "print(\"SAT score 1.5 standard deviations away from the mean is\", x)"
   ]
  },
  {
   "cell_type": "markdown",
   "metadata": {},
   "source": [
    "I would say that this SAT score is pretty darn solid. Given that it is about 1.5 standard deviations above the mean, and that one standard deviation away from the mean contains approximately 68% of all the SAT scores, we can conclude that this student performed better on the SAT than 68% of their peers. "
   ]
  },
  {
   "cell_type": "markdown",
   "metadata": {},
   "source": [
    "**c) For 2012, the SAT math test had a mean of 514 and standard deviation of 117. The ACT math test is an alternate to the SAT and is approximately normally distributed with a mean of 21 and standard deviation of 5.3. If one person took the SAT math test and scored 700 and a second person took the ACT math test and scored 30, who did better with respect to the test they took?**\n",
    "\n",
    "We can answer this question by comparing the z-scores of the two values. Whichever value is more standard deviations ABOVE the mean is the student who performed better with respect to their test, because the greater the standard deviations above the mean, the more of their peers each individual outperformed on their respective test. (I happen to know that the highest possible ACT score is a 36, so my money is on the ACT individual)"
   ]
  },
  {
   "cell_type": "code",
   "execution_count": 28,
   "metadata": {},
   "outputs": [
    {
     "name": "stdout",
     "output_type": "stream",
     "text": [
      "Z-score of SAT individual: 1.5897435897435896\n",
      "Z-score of ACT individual: 1.6981132075471699\n"
     ]
    }
   ],
   "source": [
    "print(\"Z-score of SAT individual:\", single_Val_Zscore(700, 514, 117))\n",
    "print(\"Z-score of ACT individual:\", single_Val_Zscore(30, 21, 5.3))"
   ]
  },
  {
   "cell_type": "markdown",
   "metadata": {},
   "source": [
    "While both individuals are beyond 1 standard deviation above the mean, making them both better than approximately 68% of their peers, the ACT individual was slightly further above the average than the SAT individual, meaning that the ACT individual performed better with regard to their test."
   ]
  },
  {
   "cell_type": "markdown",
   "metadata": {},
   "source": [
    "========================================================================================================================="
   ]
  },
  {
   "cell_type": "markdown",
   "metadata": {},
   "source": [
    "**Problem 6.80:** Terri Vogel, an amateur motorcycle racer, averages 129.71 seconds per 2.5 mile lap (in a seven lap race) with a standard deviation of 2.28 seconds. The distribution of her race times is normally distributed. We are interested in one of her randomly selected laps."
   ]
  },
  {
   "cell_type": "markdown",
   "metadata": {},
   "source": [
    "**a) In words, define the random variable X**\n",
    "\n",
    "The random variable X is the time in seconds for randomly selected laps."
   ]
  },
  {
   "cell_type": "markdown",
   "metadata": {},
   "source": [
    "**b) Give the distribution of X.**\n",
    "\n",
    "Since we know X is normally distribute, the distribution of X will be N($\\mu, \\sigma$)"
   ]
  },
  {
   "cell_type": "markdown",
   "metadata": {},
   "source": [
    "**c) Find the percent of her laps that are completed in less than 130 seconds.**\n",
    "\n",
    "Here we are seeking to find the area under the curve for all values to the left of 130, which will give us the percentile of all laps that fall to left of 130.\n",
    "\n",
    "As per the textbook, we can calculate the area under the curve by using the cumulative distribution function, which is given by\n",
    "\n",
    "$F_x$(x) = P(X $<=$ x)\n",
    "\n",
    "Conveniently, scipy has a module that enables us to to compute this with just a single line of code by passing in x = our value we seek to find the percentile of, mu = mean, and sigma = standard deviation."
   ]
  },
  {
   "cell_type": "code",
   "execution_count": 29,
   "metadata": {},
   "outputs": [
    {
     "data": {
      "text/plain": [
       "0.5506061702700744"
      ]
     },
     "execution_count": 29,
     "metadata": {},
     "output_type": "execute_result"
    }
   ],
   "source": [
    "scipy.stats.norm.cdf(130, 129.71, 2.28)"
   ]
  },
  {
   "cell_type": "markdown",
   "metadata": {},
   "source": [
    "So we can conclude that approximately 55.1% percent of her laps fall are completed in less than 130 seconds."
   ]
  },
  {
   "cell_type": "markdown",
   "metadata": {},
   "source": [
    "**d) The fastest 3\\% of her laps are under what time?**\n",
    "\n",
    "This question is essentially the inverse of the previous question. Now we have been giving a percentile, mean, and standard deviation and we would like to calculate the value associated with that percentile. We can do this using the percent point function, as it computes a value x such that\n",
    "\n",
    "$F_x$(x) = P(X $<=$ x)\n",
    "\n",
    "This means that it operates exactly opposite to the cdf function, giving us the value associated with a percentile rather than the percentile associated with a value."
   ]
  },
  {
   "cell_type": "code",
   "execution_count": 30,
   "metadata": {},
   "outputs": [
    {
     "data": {
      "text/plain": [
       "125.42179057341515"
      ]
     },
     "execution_count": 30,
     "metadata": {},
     "output_type": "execute_result"
    }
   ],
   "source": [
    "scipy.stats.norm.ppf(.03, 129.71, 2.28)"
   ]
  },
  {
   "cell_type": "markdown",
   "metadata": {},
   "source": [
    "**e) The middle 80\\% of her laps are from ____ to ____.**\n",
    "\n",
    "Logic tells us that the middle 80% of values will lie between the 70th and 90th percentile, as 80 is directly in the middle between 70 and 90. In this way, the 70th percentile acts somewhat like a lower bound to the 80th percentile, and the 90th percentile acts as the upper bound. Thus, the middle 80% percent of the values should fall between the 70th and 90th percentiles. Thus, we should use the ppf functions again to compute the values associated with 70th and 90th percentiles."
   ]
  },
  {
   "cell_type": "code",
   "execution_count": 31,
   "metadata": {},
   "outputs": [
    {
     "name": "stdout",
     "output_type": "stream",
     "text": [
      "The middle 80% of her laps are from 130.90563316897433 to 132.6319375694417\n"
     ]
    }
   ],
   "source": [
    "lower = scipy.stats.norm.ppf(.7, 129.71, 2.28)\n",
    "upper = scipy.stats.norm.ppf(.9, 129.71, 2.28)\n",
    "\n",
    "print(\"The middle 80% of her laps are from\", lower, \"to\", upper)"
   ]
  },
  {
   "cell_type": "markdown",
   "metadata": {},
   "source": [
    "========================================================================================================================="
   ]
  },
  {
   "cell_type": "markdown",
   "metadata": {},
   "source": [
    "**Problem 6.84:** An expert witness for a paternity lawsuit testifies that the length of a pregnancy is normally distributed with a mean of 280 days and a standard deviation of 13 days. An alledged father was out of the country from 240 to 306 before the birth of the child, so the pregnancy would have been less than 240 days or more than 306 days long if he was the father. The birth was uncomplicated, and the child needed no medical intervention. What is the probability that he was NOT the father? What is the probability that he could be the father? Calculate the z-scores first, and then use those to calculate the probability.\n",
    "\n",
    "So we know that the two situations in which he could possibly the father are if the pregnancy was shorter than 240 days or longer than 306 days, and if we take our random variable X to be the length of the pregnancy, we can calculate the z-score associated with these two values and see how many standard deviations away from the average those two lengths would be."
   ]
  },
  {
   "cell_type": "code",
   "execution_count": 32,
   "metadata": {},
   "outputs": [
    {
     "name": "stdout",
     "output_type": "stream",
     "text": [
      "A pregnancy lasting 240 days is -3.076923076923077 standard deviations away from the mean\n",
      "A pregnancy lasting 306 days is 2.0 standard deviations away from the mean\n"
     ]
    }
   ],
   "source": [
    "lower = single_Val_Zscore(240, 280, 13)\n",
    "upper = single_Val_Zscore(306, 280, 13)\n",
    "\n",
    "print(\"A pregnancy lasting 240 days is\", lower, \"standard deviations away from the mean\")\n",
    "print(\"A pregnancy lasting 306 days is\", upper, \"standard deviations away from the mean\")"
   ]
  },
  {
   "cell_type": "markdown",
   "metadata": {},
   "source": [
    "Just based on these z-scores alone, I feel like I have some pretty bad news for this guy. A 306 day pregnancy is exactly 2 standard deviations above the mean, which suggests that 306 days is longer than 95% of pregnancies. A 240 day pregnancy is an even more shocking -3.08 standard deviations away from the mean, which would make that pregnancy shorter than over 99% of all pregnancies.\n",
    "\n",
    "\n",
    "In order for this individual to not be the father, the pregnancy needs to have lasted more than 240 days AND less than 306 days. In a previous problem on this assignment (4.96) I explained my weird truth table logic that I use to approach probabilities and OR statements, in which I demonstrated that the logical OR statement is additive, meaning that the probability of both our statements being true was equivalent to the sum of the probabilities of values being true. Logic then dictates that the logical AND statement has a subtractive relationship, so the probability that the pregnancy lasted more than 240 days and less than 306 days is equivalent to the probability that the pregnancy lasted 306 days - the probability that the pregnancy lasted 240 days."
   ]
  },
  {
   "cell_type": "code",
   "execution_count": 33,
   "metadata": {},
   "outputs": [
    {
     "name": "stdout",
     "output_type": "stream",
     "text": [
      "The probability that he is not the father is 0.976204121721582\n"
     ]
    }
   ],
   "source": [
    "prob1 = scipy.stats.norm.cdf(306, 280, 13)\n",
    "prob2 = scipy.stats.norm.cdf(240, 280, 13)\n",
    "\n",
    "print(\"The probability that he is not the father is\", prob1 - prob2)"
   ]
  },
  {
   "cell_type": "markdown",
   "metadata": {},
   "source": [
    "Yikes. There is a good chance he isn't the father.\n",
    "\n",
    "\n",
    "Now we can calculate the probability he is the father by subtracting the probability he isn't from 1."
   ]
  },
  {
   "cell_type": "code",
   "execution_count": 34,
   "metadata": {},
   "outputs": [
    {
     "name": "stdout",
     "output_type": "stream",
     "text": [
      "The probability that he is the father is 0.023795878278418003\n"
     ]
    }
   ],
   "source": [
    "print(\"The probability that he is the father is\", 1 - (prob1 - prob2))"
   ]
  },
  {
   "cell_type": "markdown",
   "metadata": {},
   "source": [
    "Yeah, so we can pretty confidently say YOUUUU ARE NOT THE FATHER."
   ]
  },
  {
   "cell_type": "markdown",
   "metadata": {},
   "source": [
    "========================================================================================================================="
   ]
  },
  {
   "cell_type": "markdown",
   "metadata": {},
   "source": [
    "**Problem 6.88:** Facebook provides a variety of statistics on its Web site that detail the growth and popularity of the site. \n",
    "\n",
    "On average, 28\\% of 18 to 34 year olds check their Facebook profiles before getting out of bed in the morning. Suppose this percentage follows a normal distribution with a standard deviation of five percent."
   ]
  },
  {
   "cell_type": "markdown",
   "metadata": {},
   "source": [
    "**a) Find the probability that the percent of 18 to 34 year olds who check Facebook before getting out of bed in the morning is at least 30.**\n",
    "\n",
    "This is very similar to some of the binom.cdf problems I did for the chapter 4 questions. We have a range of values for which we want to compute the probability for, so it is only natural to use norm.cdf here to do that. However, we have to remember that the cdf is the probability that the variable takes a value less than or equal to x, meaning it checks values on the range from 0 to x. However, we want to find the probability that the variable takes a value greater than or equal to x, so to do that we should compute the cdf of .3 using mu = .28 and sigma = .05, which will give us the probability that the variable takes a value less than or equal to x, and then subtract it from 1, which should then give us the probability that the variable takes a value greater than or equal to x."
   ]
  },
  {
   "cell_type": "code",
   "execution_count": 35,
   "metadata": {},
   "outputs": [
    {
     "name": "stdout",
     "output_type": "stream",
     "text": [
      "The prob that at least 30% of 18 to 34 year olds check Fbook before getting out of bed is 0.34457825838967615\n"
     ]
    }
   ],
   "source": [
    "lower_than = scipy.stats.norm.cdf(.3, .28, .05)\n",
    "\n",
    "print(\"The prob that at least 30% of 18 to 34 year olds check Fbook before getting out of bed is\",1 - lower_than)"
   ]
  },
  {
   "cell_type": "markdown",
   "metadata": {},
   "source": [
    "So there is about a 34% chance that at least 30% of 18 to 34 year olds check their facebook before getting out of bed."
   ]
  },
  {
   "cell_type": "markdown",
   "metadata": {},
   "source": [
    "**b) Find the 95th percentile, and express it in a sentence.**\n",
    "\n",
    "We already know that we can compute values associated with percentiles using the norm.ppf module, so lets go ahead and do that!"
   ]
  },
  {
   "cell_type": "code",
   "execution_count": 36,
   "metadata": {},
   "outputs": [
    {
     "data": {
      "text/plain": [
       "0.36224268134757365"
      ]
     },
     "execution_count": 36,
     "metadata": {},
     "output_type": "execute_result"
    }
   ],
   "source": [
    "scipy.stats.norm.ppf(.95, .28, .05)"
   ]
  },
  {
   "cell_type": "markdown",
   "metadata": {},
   "source": [
    "So about 36.2%.\n",
    "\n",
    "What this tells us is that there is a 95% chance that less than 36.2% of 18 to 34 year olds check their Facebook before getting out of bed."
   ]
  },
  {
   "cell_type": "code",
   "execution_count": null,
   "metadata": {},
   "outputs": [],
   "source": []
  }
 ],
 "metadata": {
  "kernelspec": {
   "display_name": "Python 3",
   "language": "python",
   "name": "python3"
  },
  "language_info": {
   "codemirror_mode": {
    "name": "ipython",
    "version": 3
   },
   "file_extension": ".py",
   "mimetype": "text/x-python",
   "name": "python",
   "nbconvert_exporter": "python",
   "pygments_lexer": "ipython3",
   "version": "3.8.5"
  }
 },
 "nbformat": 4,
 "nbformat_minor": 4
}

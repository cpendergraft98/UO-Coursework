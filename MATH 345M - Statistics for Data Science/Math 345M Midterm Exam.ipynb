{
 "cells": [
  {
   "cell_type": "markdown",
   "metadata": {},
   "source": [
    "**Math 345M Midterm Exam**\n",
    "\n",
    "Cole Pendergraft"
   ]
  },
  {
   "cell_type": "code",
   "execution_count": 1,
   "metadata": {},
   "outputs": [],
   "source": [
    "import numpy as np\n",
    "import scipy.stats as sp\n",
    "import pandas as pd\n",
    "import matplotlib.pyplot as plt"
   ]
  },
  {
   "cell_type": "markdown",
   "metadata": {},
   "source": [
    "**Problem 1:** A researcher wants to study the reading habits of college students. She sends a survey to 100 randomly selected college students asking them how many books they read in the past month. From her data, she computes a mean of 3.1, and a standard deviation of 0.8."
   ]
  },
  {
   "cell_type": "markdown",
   "metadata": {},
   "source": [
    "**a)** Is this data qualitative or quantitative? Discrete or continuous? Explain why.\n",
    "\n",
    "I would think that this is an example of quantitative, continuous data. Quantitative because we are *counting* something, that something being the number of books read in the past month. Qualitative data, on the other hand, cannot be counted in this same way; qualitative data is often expressed using words. Continuous because we can continually subdivide our data and it still makes sense. I.e. it is totally acceptable to say \"I read 3.256 books this month\"- we can read a fractional amount of books, and though .256 of a book might amount to reading the title and the first page, it still makes sense to claim that we read a 0.256 of book. Discrete data does not work this way, if we were counting how many people read 3 books in 1 month, it would make no sense to say \"1 and 2/3 person read 3 books in one month\", as there is no such thing as 2/3 of a human."
   ]
  },
  {
   "cell_type": "markdown",
   "metadata": {},
   "source": [
    "**b)** In this example, what are the *statistics* and what are the *parameters*?\n",
    "\n",
    "Parameters are properties of large populations, and statistics are computable datum from samples of populations. Looking over this problem, I actually see no reference to an entire population, which leads me to believe that this particular setup has no population parameters. We don't know $\\mu$, our population mean, or $\\sigma$, our population standard deviation, and without those two values we can't find any of our other population parameters. What we do have, however, is a lot of information about our sample! We have been given our sample size, n = 100, our sample mean, $\\bar x$ = 3.1, and our sample standard deviation, $s_\\bar x$ = 0.8."
   ]
  },
  {
   "cell_type": "markdown",
   "metadata": {},
   "source": [
    "========================================================================================================================="
   ]
  },
  {
   "cell_type": "markdown",
   "metadata": {},
   "source": [
    "**Problem 2:** Suppose that GRE scores are approximately normal with mean 1000 and standard deviation 80.\n",
    "\n",
    "$\\bar x$ = 1000\n",
    "\n",
    "$s_\\bar x$ = 80"
   ]
  },
  {
   "cell_type": "markdown",
   "metadata": {},
   "source": [
    "**a)** If you get a score of 840 on the GRE, then your z-score is what?"
   ]
  },
  {
   "cell_type": "code",
   "execution_count": 2,
   "metadata": {},
   "outputs": [],
   "source": [
    "def singleVal_ZScore(y, x_bar, s):\n",
    "    # Computes the z-score associated with value y given the sample mean x_bar and sample standard deviation s\n",
    "    # Does not work with arrays input for y\n",
    "    \n",
    "    z = (y - x_bar)/s\n",
    "    return z"
   ]
  },
  {
   "cell_type": "code",
   "execution_count": 3,
   "metadata": {},
   "outputs": [
    {
     "name": "stdout",
     "output_type": "stream",
     "text": [
      "Z-score of 840 is -2.0\n"
     ]
    }
   ],
   "source": [
    "print(\"Z-score of 840 is\", singleVal_ZScore(840, 1000, 80))"
   ]
  },
  {
   "cell_type": "markdown",
   "metadata": {},
   "source": [
    "From this we can interpret that 840 is exactly two standard deviations beneath (to the left of) our sample mean."
   ]
  },
  {
   "cell_type": "markdown",
   "metadata": {},
   "source": [
    "**b)** If you get a score of 1050 on the GRE, then your z-score is what?"
   ]
  },
  {
   "cell_type": "code",
   "execution_count": 4,
   "metadata": {},
   "outputs": [
    {
     "name": "stdout",
     "output_type": "stream",
     "text": [
      "Z-score of 1050 is 0.625\n"
     ]
    }
   ],
   "source": [
    "print(\"Z-score of 1050 is\", singleVal_ZScore(1050, 1000, 80))"
   ]
  },
  {
   "cell_type": "markdown",
   "metadata": {},
   "source": [
    "From this we can interpret that 1050 is 0.625 standard deviations above (to the right of) our sample mean."
   ]
  },
  {
   "cell_type": "markdown",
   "metadata": {},
   "source": [
    "========================================================================================================================="
   ]
  },
  {
   "cell_type": "markdown",
   "metadata": {},
   "source": [
    "**Problem 3:** 2 identical boxes have 10 chips in them. Box A has 7 blue chips and 3 red chips. Box B has 5 blue chips and 5 red chips. A box is randomly selected, and two chips are randomly drawn without replacement."
   ]
  },
  {
   "cell_type": "markdown",
   "metadata": {},
   "source": [
    "**a)** What is the probability of drawing 2 blue chips?\n",
    "\n",
    "We have two stages to this problem: first we select a box that we will pull chips from, and then we draw two chips from that box. This is effectively an or statement, we either select box A and then two chips from it, OR we select box b and then two chips from it.\n",
    "\n",
    "Let's start with box A:\n",
    "\n",
    "- We have a $1 \\over 2$ chance of selecting box A\n",
    "\n",
    "- We have a $7 \\over 10$ chance of selecting the first blue chip\n",
    "\n",
    "- We have a $6 \\over 9$ chance of selecting the second blue chip\n",
    "\n",
    "So, we have for box A: $1 \\over 2$ $*$ $ 7 \\over 10$ $*$ $ 6 \\over 9$"
   ]
  },
  {
   "cell_type": "code",
   "execution_count": 5,
   "metadata": {},
   "outputs": [
    {
     "data": {
      "text/plain": [
       "0.2333333333333333"
      ]
     },
     "execution_count": 5,
     "metadata": {},
     "output_type": "execute_result"
    }
   ],
   "source": [
    "(1/2)*(7/10)*(6/9)"
   ]
  },
  {
   "cell_type": "markdown",
   "metadata": {},
   "source": [
    "So about a 23.3% chance of first selecting box A and then drawing 2 blue chips from it.\n",
    "\n",
    "And now for box B:\n",
    "\n",
    "- We have a $1 \\over 2$ chance of selecting box B\n",
    "\n",
    "- We have a $5 \\over 10$ chance of selecting the first blue chip\n",
    "\n",
    "- We have a $4 \\over 9$ chance of selecting the second blue chip\n",
    "\n",
    "So, we have for box B:  $1 \\over 2$ $*$ $5 \\over 10$ $*$ $4 \\over 9$"
   ]
  },
  {
   "cell_type": "code",
   "execution_count": 6,
   "metadata": {},
   "outputs": [
    {
     "data": {
      "text/plain": [
       "0.1111111111111111"
      ]
     },
     "execution_count": 6,
     "metadata": {},
     "output_type": "execute_result"
    }
   ],
   "source": [
    "(1/2)*(5/10)*(4/9)"
   ]
  },
  {
   "cell_type": "markdown",
   "metadata": {},
   "source": [
    "So about an 11.1% chance of first selecting box B and then drawing 2 blue chips from it. Since we established that this is basically an OR statement, we should be able to sum together our two probabilities which will give us the probability of drawing 2 blue chips in general!\n",
    "\n",
    "23.3% + 11.1% = 34.4%\n",
    "\n",
    "So about a 34.4% chance of selecting two blue chips."
   ]
  },
  {
   "cell_type": "markdown",
   "metadata": {},
   "source": [
    "**b)** Given that Box A is chosen, what is the probability of drawing 2 blue chips?\n",
    "\n",
    "Now we are unconcerned with selecting a box, so this should be the same calculation for box A above just without also multiplying by 1/2, as we are skipping the box selection step. Thus, we have a $7 \\over 10$ chance of selecting the first blue chip from box A, and a $6 \\over 9$ chance of selecting the second blue chip from box A."
   ]
  },
  {
   "cell_type": "code",
   "execution_count": 7,
   "metadata": {},
   "outputs": [
    {
     "data": {
      "text/plain": [
       "0.4666666666666666"
      ]
     },
     "execution_count": 7,
     "metadata": {},
     "output_type": "execute_result"
    }
   ],
   "source": [
    "(7/10)*(6/9)"
   ]
  },
  {
   "cell_type": "code",
   "execution_count": 8,
   "metadata": {},
   "outputs": [
    {
     "data": {
      "text/plain": [
       "0.2222222222222222"
      ]
     },
     "execution_count": 8,
     "metadata": {},
     "output_type": "execute_result"
    }
   ],
   "source": [
    "(5/10)*(4/9)"
   ]
  },
  {
   "cell_type": "markdown",
   "metadata": {},
   "source": [
    "So, we have about a 46.7% chance of selecting 2 blue chips given that we know we are selecting from box A."
   ]
  },
  {
   "cell_type": "markdown",
   "metadata": {},
   "source": [
    "**c)** Based on your answers above, are the events \"drawing 2 blue chips\" and \"choosing Box A\" dependent or independent?\n",
    "\n",
    "The two events are very much dependent. The probability of the event \"drawing 2 blue chips\" is dependent upon which box you choose. If you are selecting from box A, you have about a 46.7% chance of selecting two blue chips. If you are selecting from box B, you have about a $5 \\over 10$ $*$ $4 \\over 9$ = 22.2% chance of selecting two blue chips. If you don't know what box you are choosing from, then you have about a 34.4% chance of selecting 2 blue chips. This demonstrates that the proability of selecting two blue chips is highly dependent upon the box(es) being drawn from."
   ]
  },
  {
   "cell_type": "markdown",
   "metadata": {},
   "source": [
    "**d)** Given that you've drawn 2 blue chips, what is the probability that you've picked Box B?\n",
    "\n",
    "The remaining fragments of Discrete Math knowledge buried deep within my brain tell me that the probability we've chosen box B given that we've drawn two blue chips is going to be: (Probability of choosing Box B and then 2 blue chips) / (Probability of choosing 2 blue chips in general). I guess it is like finding the probability that we have an 11.1% chance of chosing 2 blue chips, because having an 11.1% chance of choosing two blue chips is the probability associated with choosing box B and then two blue chips. Thus, finding the probability that we have an 11.1% chance of choosing 2 blue chips is the same as finding the probability of the probability of choosing Box B and then two blue chips, which is just the probability that the two blue chips we drew were from box B. I think. Discerning the qualtiative meaning behind the probability of another probability ocurring is all sorts of confusing; there are a lot of moving parts and I use the word \"probability\" far too many times for my explanation to be easily digested, but I'm *pretty sure* that logic makes sense once you've gone over it in your head half a dozen times. \n",
    "\n",
    "We've established that the probability of choosing box B and then choosing 2 blue chips is 11.1%, and that the probability of choosing 2 chips in general is 34.4%. Thus, we have:"
   ]
  },
  {
   "cell_type": "code",
   "execution_count": 9,
   "metadata": {},
   "outputs": [
    {
     "data": {
      "text/plain": [
       "0.3226744186046512"
      ]
     },
     "execution_count": 9,
     "metadata": {},
     "output_type": "execute_result"
    }
   ],
   "source": [
    "11.1/34.4"
   ]
  },
  {
   "cell_type": "markdown",
   "metadata": {},
   "source": [
    "So given that we have drawn two blue chips, there is about a 32.3% chance that we have selected box B."
   ]
  },
  {
   "cell_type": "markdown",
   "metadata": {},
   "source": [
    "========================================================================================================================="
   ]
  },
  {
   "cell_type": "markdown",
   "metadata": {},
   "source": [
    "**Problem 4:** A roulette wheel has 18 red numbers, 18 black numbers, and 2  green numbers, and each number is equally likely to occur. The red and black pay even odds (double or nothing) and the green pays off 17 to 1 (if you win you walk out with 18 dollars, 17 of which come from the casino)."
   ]
  },
  {
   "cell_type": "markdown",
   "metadata": {},
   "source": [
    "**a)** Determine the complete probability distribution for the gambler who places one dollar on red and one dollar on green, for a single spin (in other words, this gambler is making 2 bets simultaneously). Then compute $\\mu$, the variance, and the standard deviation of the distribution.\n",
    "\n",
    "Possible outcomes:\n",
    "\n",
    "If we land on red (probability = 18/38), we gain 1 dollar, but then lose a dollar for not landing on green, so that is a net gain of 0 dollars.\n",
    "\n",
    "If we land on black (probability = 18/38), we lose a dollar for not landing on red, and lose a dollar for not landing on green, so that is a net loss of 2 dollars.\n",
    "\n",
    "If we land on green (probability = 2/38), we gain 17 dollars, but lose 1 dollar for not landing on red, so we have a net gain of 16 dollars.\n",
    "\n",
    "So, we have 18 spaces that will yield us 0 dollars, 18 spaces that will yield us -2 dollars, and 2 spaces that will yield us 16 dollars.\n",
    "\n",
    "So, we have the random variable X is the profit/loss made in one game, and the values that x can take on are [0, -2, 16]. \n",
    "\n",
    "P(x) can take on the values [18/38, 18/38, 2/38]. \n",
    "\n",
    "To create a complete distribution, we also need to find $x_i*P(x_i)$ (the sum of these values will give us $\\mu$) and $(x_i - \\mu)^2*P(x_i)$ (the sum of these values will give us our standard deviation, and squaring the standard deviation will give us our variance). I am going to write a function that performs all these calculations for me, and then I will enter the returned values into a PDF."
   ]
  },
  {
   "cell_type": "code",
   "execution_count": 10,
   "metadata": {},
   "outputs": [],
   "source": [
    "def probDist(list1, list2):\n",
    "    # list1 should be a list of individual values\n",
    "    # list2 should be an ordered list of probabilities associated with the values in list1\n",
    "    mu_list = []\n",
    "    std_list = []\n",
    "    \n",
    "    for i in range(len(list1)):\n",
    "        temp = list1[i]*list2[i]\n",
    "        mu_list.append(temp)\n",
    "        \n",
    "    mu = sum(mu_list)\n",
    "    \n",
    "    for i in range(len(list1)):\n",
    "        temp = ((list1[i] - mu)**2)*list2[i]\n",
    "        std_list.append(temp)\n",
    "        \n",
    "    std = sum(std_list) \n",
    "    \n",
    "    var = std**2\n",
    "    \n",
    "    print(\"List of averages:\", mu_list)\n",
    "    print()\n",
    "    print(\"Mean is\", mu)\n",
    "    print()\n",
    "    print(\"List of standard deviations:\", std_list)\n",
    "    print()\n",
    "    print(\"Standard deviation is\", std)\n",
    "    print()\n",
    "    print(\"Variance is\", var)\n",
    "    \n",
    "    return None"
   ]
  },
  {
   "cell_type": "code",
   "execution_count": 11,
   "metadata": {},
   "outputs": [
    {
     "name": "stdout",
     "output_type": "stream",
     "text": [
      "List of averages: [0.0, -0.9473684210526315, 0.8421052631578947]\n",
      "\n",
      "Mean is -0.10526315789473684\n",
      "\n",
      "List of standard deviations: [0.005248578509986878, 1.7005394372357487, 13.651552704475868]\n",
      "\n",
      "Standard deviation is 15.357340720221604\n",
      "\n",
      "Variance is 235.84791399697662\n"
     ]
    }
   ],
   "source": [
    "xvals = [0, -2, 16]\n",
    "probs = [18/38, 18/38, 2/38]\n",
    "\n",
    "probDist(xvals, probs)"
   ]
  },
  {
   "cell_type": "markdown",
   "metadata": {},
   "source": [
    "Now we just need to complete our PDF:\n",
    "\n",
    "| x | P(x) | xP(x) | ((x - mu)^2)P(x) |\n",
    "|:-:|:----:|:-----:|:----------------:|\n",
    "|0  |18/38 |0.00   |0.005248578509986878              |\n",
    "|-2 |18/38 | -0.9473684210526315  |1.7005394372357487              |\n",
    "|16 |2/38  |0.8421052631578947  |13.651552704475868             |\n",
    "\n",
    "Further, we have that:\n",
    "\n",
    "$\\mu$ = -0.10526315789473684\n",
    "\n",
    "$\\sigma$ = 15.357340720221604\n",
    "\n",
    "$\\sigma^2$ = 235.84791399697662\n",
    "\n",
    "$\\mu$ also happens to be our expected return value, so we can say that on average you can expect to lose about 0.11 dollars when per play of this game."
   ]
  },
  {
   "cell_type": "markdown",
   "metadata": {},
   "source": [
    "**b)** Determine the complete probability distribution for the gambler who places one dollar on red for one spin, then one dollar on green, on a subsequent spin (in other words, the gambler is making the 2 bets separately). Then compute $\\mu$, the variance, and the standard deviation of the distribution.\n",
    "\n",
    "For computing the probabilities associated with each outcome, I imagined making choices from a box with replacement. Using the probability of getting red/red as an example, this was my thought process: Suppose we have a box filled with 18 red tiles, 18 black tiles, and 2 green tiles, and we want to find the probability of drawing a 2 red tiles with replacement (since scoring a red in you first spin doesn't remove that red in your next spin). Reaching into the box the first time (your first spin) you have an 18/38 chance of getting a red tile. Reaching into the box for a second time (your second spin) you have an 18/38 chance of getting another red tile, so the probability of drawing two red tiles from the box with replacement is 18/38 * 18/38. So, our probability of getting red/red is 18/38 * 18/38 = 324/1444.\n",
    "\n",
    "Possible outcomes:\n",
    "\n",
    "Red/red (p = 324/1444): First spin bet is on red, so we have a net gain of 1 dollar. Second spin bet is on green, so we have a net loss of 1 dollar. Thus, we have a total net gain of 1 - 1 = 0 dollars.\n",
    "\n",
    "Red/black (p = 324/1444): First spin bet is on red, so we have a net gain of 1 dollar. Second spin bet is on green, so we have a net loss of 1 dollar. Thus, we have a total net gain of 1 - 1 = 0 dollars.\n",
    "\n",
    "Red/green (p = 36/1444): First spin bet is on red, so we have a net gain of 1 dollar. Second spin bet is on green, so we have a net gain of 17 dollars. Thus, we have a total net gain of 1 + 17 = 18 dollars.\n",
    "\n",
    "Black/red (p = 324/1444): First spin bet is on red, so we have a net loss of 1 dollar. Second spin bet is on green, so we have a net loss of 1 dollar. Thus, we have a total net loss of 2 dollars.\n",
    "\n",
    "Black/black (p = 324/1444): First spin bet is on red, so we have a net loss of 1 dollar. Second spin bet is on green, so we have a net loss of 1 dollar. Thus, we have a total net loss of 2 dollars.\n",
    "\n",
    "Black/green (p = 36/1444): First spin bet is on red, so we have a net loss of 1 dollar. Second spin bet is on green, so we have a net gain of 17 dollars. Thus, we have a total net gain of 16 dollars.\n",
    "\n",
    "Green/red (p = 36/1444): First spin bet is on red, so we have a net loss of 1 dollar. Second spin bet is on green, so we have a net loss of 1 dollar. Thus, we have a total net loss of 2 dollars.\n",
    "\n",
    "Green/Green (p = 4/1444): First spin bet is on red, so we have a net loss of 1 dollar. Second spin bet is on green, so we have a net gain of 17 dollars. Thus, we have a total net gain of 16 dollars.\n",
    "\n",
    "Green/Black (p = 36/1444): First spin bet is on red, so we have a net loss of 1 dollar. Second spin bet is on green, so we have a net loss of 1 dollar. Thus, we have a total net loss of 2 dollars.\n",
    "\n",
    "Once again we have our random variable X is the profit/loss from each game, which means x can take on the profit/loss values. However, before we can establish the list of values that x can take, we have to do some condensing of our above outcomes because some are functionally equivalent, and we only want each probability associated with a single, **unique** x.\n",
    "\n",
    "Red/red and red/black are functionally equivalent as they both return a net of 0 dollars. Thus, we have that the probability getting net 0 from this game is 324/1444 + 324/1444 = 648/1444.\n",
    "\n",
    "Black/green and green/green are functionally equivalent as the both return a net of +16 dollars. Thus, we have the probability of getting net +16 is 36/1444 + 4/1444 = 40/1444.\n",
    "\n",
    "Black/red, black/black, green/red, and green/black are all functionally equivalent as they all return a net of -2 dollars. Thus, we have that the probability of getting -2 dollars is 324/1444 + 324/1444 + 36/1444 + 36/1444 = 720/1444.\n",
    "\n",
    "Red/green is the only unique outcome, where will we have a net of +18 with a probability of 36/1444.\n",
    "\n",
    "So, we have x = [0, 16, -2, 18] and P(x) = [648/1444, 40/1444, 720/1444, 36/1444]"
   ]
  },
  {
   "cell_type": "code",
   "execution_count": 12,
   "metadata": {},
   "outputs": [
    {
     "name": "stdout",
     "output_type": "stream",
     "text": [
      "List of averages: [0.0, 0.44321329639889195, -0.997229916897507, 0.44875346260387816]\n",
      "\n",
      "Mean is -0.10526315789473684\n",
      "\n",
      "List of standard deviations: [0.004972337535777042, 7.1850277391978254, 1.7900415128797356, 8.17231298102378]\n",
      "\n",
      "Standard deviation is 17.152354570637115\n",
      "\n",
      "Variance is 294.20326731685594\n"
     ]
    }
   ],
   "source": [
    "xvals = [0, 16, -2, 18]\n",
    "probs = [648/1444, 40/1444, 720/1444, 36/1444]\n",
    "\n",
    "probDist(xvals, probs)"
   ]
  },
  {
   "cell_type": "markdown",
   "metadata": {},
   "source": [
    "PDF:\n",
    "    \n",
    "| x | P(x) | xP(x) | ((x - mu)^2)P(x) |\n",
    "|:-:|:----:|:-----:|:----------------:|\n",
    "|0  |648/1444 |0.00   |0.004972337535777042         |\n",
    "|16 |40/1444 |0.44321329639889195 |7.1850277391978254              |\n",
    "|-2 |720/1444  |-0.997229916897507  |1.7900415128797356            |\n",
    "|18 |36/1444   |0.44875346260387816  |8.17231298102378 |\n",
    "\n",
    "Further, we have:\n",
    "\n",
    "$\\mu$ = -0.10526315789473684\n",
    "\n",
    "$\\sigma$ = 17.152354570637115\n",
    "\n",
    "$\\sigma^2$ = 294.20326731685594\n",
    "\n",
    "$\\mu$ also happens to be our expected return value, so on average we can expect to lose about 0.11 dollars per every *two* spins playing this way. This is slightly better than the previous part where we lost on average 0.11 dollars for every individual spin, but it still amounts to net losses, just at slower rate."
   ]
  },
  {
   "cell_type": "markdown",
   "metadata": {},
   "source": [
    "========================================================================================================================="
   ]
  },
  {
   "cell_type": "markdown",
   "metadata": {},
   "source": [
    "**Problem 5:** The proportion of students who have a Bluetooth headset for their phone is 0.82. You plan on taking a sample of 15 students and record the number X who have such a headset."
   ]
  },
  {
   "cell_type": "markdown",
   "metadata": {},
   "source": [
    "**a)** Determine the distribution of X and give its mean and standard deviation.\n",
    "\n",
    "I believe X is going to be binomially distributed because\n",
    "\n",
    "1. We have a fixed sample size, n = 15\n",
    "2. Each trial has exactly two outcomes: either the student has a BT headset, or they don't. The probability of a student having a BT headset is 82%.\n",
    "3. The trials are independent, one student having a BT headset has no impact on a different student having a BT headset. \n",
    "\n",
    "Thus, our distribution is X ~ B(15, 0.82)\n",
    "\n",
    "Further, we know that we can calculate the mean and standard deviation of a binomial distribution with the following formulas:\n",
    "\n",
    "$n$ = sample size\n",
    "\n",
    "$p$ = probability of a success\n",
    "\n",
    "$q$ = 1-$p$\n",
    "\n",
    "Mean = $n*p$\n",
    "\n",
    "Standard Deviation = $\\sqrt{npq}$"
   ]
  },
  {
   "cell_type": "code",
   "execution_count": 13,
   "metadata": {},
   "outputs": [
    {
     "name": "stdout",
     "output_type": "stream",
     "text": [
      "Mean is 12.299999999999999\n",
      "\n",
      "Standard deviation is 1.4879516121164695\n"
     ]
    }
   ],
   "source": [
    "n = 15\n",
    "p = 0.82\n",
    "q = 1-p\n",
    "\n",
    "print('Mean is', n*p)\n",
    "print()\n",
    "print(\"Standard deviation is\", (n*p*q)**(1/2))"
   ]
  },
  {
   "cell_type": "markdown",
   "metadata": {},
   "source": [
    "**b)** What is the probability that at least 8 students in your sample will have a Bluetooth headset?\n",
    "\n",
    "We can use the scipy binom.cdf() module to perform this calculation. We will calculate the probability that we have 0 to 7 students of the 15 that have a BT headset and then subtract that value from 1. This will give us the opposite probability, the prob that we have at least 8 students who own BT headsets."
   ]
  },
  {
   "cell_type": "code",
   "execution_count": 14,
   "metadata": {},
   "outputs": [
    {
     "name": "stdout",
     "output_type": "stream",
     "text": [
      "The probability that 8 students will have a BT headset is 0.9978863937339415\n"
     ]
    }
   ],
   "source": [
    "print(\"The probability that 8 students will have a BT headset is\", 1 - sp.binom.cdf(7, n, p))"
   ]
  },
  {
   "cell_type": "markdown",
   "metadata": {},
   "source": [
    "**c)** What is the probability that between 7 and 11 (inclusive) students will have a Bluetooth headset?\n",
    "\n",
    "So, in this situation we are seeking the probability that $x \\geq 7$ and  $x \\leq 11$. We know that if we want to find the probability of scores falling between two values, then we should take the cdf of those two values and subtract the resulting probabilities. So, we should find P($x \\geq 7$) - P($x \\leq 11$).\n",
    "\n",
    "For P($x \\geq 7$):\n",
    "\n",
    "Just like the last part, we are going to find the probbility that $x \\leq 6$ and subtract it from 1."
   ]
  },
  {
   "cell_type": "code",
   "execution_count": 15,
   "metadata": {},
   "outputs": [
    {
     "name": "stdout",
     "output_type": "stream",
     "text": [
      "Prob that x >= 7 is 0.9996541629171521\n"
     ]
    }
   ],
   "source": [
    "prob1 = 1 - sp.binom.cdf(6, n, p)\n",
    "\n",
    "print(\"Prob that x >= 7 is\", prob1)"
   ]
  },
  {
   "cell_type": "markdown",
   "metadata": {},
   "source": [
    "For P($x \\leq 11$):\n",
    "\n",
    "Now we can just use the binom.cdf() module like we normally would."
   ]
  },
  {
   "cell_type": "code",
   "execution_count": 16,
   "metadata": {},
   "outputs": [
    {
     "name": "stdout",
     "output_type": "stream",
     "text": [
      "Prob that x <= 11 is 0.27819492436625715\n"
     ]
    }
   ],
   "source": [
    "prob2 = sp.binom.cdf(11, n, p)\n",
    "\n",
    "print(\"Prob that x <= 11 is\", prob2)"
   ]
  },
  {
   "cell_type": "markdown",
   "metadata": {},
   "source": [
    "And now we just subtract these two values:"
   ]
  },
  {
   "cell_type": "code",
   "execution_count": 17,
   "metadata": {},
   "outputs": [
    {
     "name": "stdout",
     "output_type": "stream",
     "text": [
      "Prob that between 7 and 11 have a BT headset is 0.721459238550895\n"
     ]
    }
   ],
   "source": [
    "print(\"Prob that between 7 and 11 have a BT headset is\",prob1 - prob2)"
   ]
  },
  {
   "cell_type": "markdown",
   "metadata": {},
   "source": [
    "So, about a 72.1% chance of between 7 and 11 students having a BT headset."
   ]
  },
  {
   "cell_type": "markdown",
   "metadata": {},
   "source": [
    "**d)** If you repeatedly survey 15 students at a time, less than 5% of the surveys will result in more than __ students having a Bluetooth headset.\n",
    "\n",
    "Here we are looking to find the value associated with the 5th percentile, which scipy helps us with by providing the binom.ppf() module."
   ]
  },
  {
   "cell_type": "code",
   "execution_count": 18,
   "metadata": {},
   "outputs": [
    {
     "data": {
      "text/plain": [
       "10.0"
      ]
     },
     "execution_count": 18,
     "metadata": {},
     "output_type": "execute_result"
    }
   ],
   "source": [
    "sp.binom.ppf(0.05, n, p)"
   ]
  },
  {
   "cell_type": "markdown",
   "metadata": {},
   "source": [
    "So, we can say that less than 5% of the surveys will result in more than 10 students having a BT headset,"
   ]
  },
  {
   "cell_type": "markdown",
   "metadata": {},
   "source": [
    "========================================================================================================================="
   ]
  },
  {
   "cell_type": "markdown",
   "metadata": {},
   "source": [
    "**Problem 6:** The distribution of the amount of money undergraduate students spend on books for a term is normal with a mean of 450 dollars and a standard deviation of 80 dollars"
   ]
  },
  {
   "cell_type": "markdown",
   "metadata": {},
   "source": [
    "**a)** If a student is selected at random, what is the probability that this student spends more than 470 dollars on books in a  term?\n",
    "\n",
    "We have a normal distribution N(450, 80) and we are seeking the probability that our cost is > 470, so all we need to do is use the norm.cdf() module to calculate the probability of our cost being between 0 and 470, and then subtract that value from 1 to find the probability that the student spends more than 470 dollars."
   ]
  },
  {
   "cell_type": "code",
   "execution_count": 19,
   "metadata": {},
   "outputs": [
    {
     "name": "stdout",
     "output_type": "stream",
     "text": [
      "The probability the student spends more than 470 dollars on books is 0.4012936743170763\n"
     ]
    }
   ],
   "source": [
    "print(\"The probability the student spends more than 470 dollars on books is\", 1 - sp.norm.cdf(470, 450, 80))"
   ]
  },
  {
   "cell_type": "markdown",
   "metadata": {},
   "source": [
    "**b)** If an SRS of 100 undergraduates is selected, what is the probability that their average amount of money spent on books this term is more than 470 dollars?\n",
    "\n",
    "Now we are talking about averages, so we need to find the distribution of the random variable $\\bar X$, which is the average amount spent on books by students. The central limit theorem tells us that if we take random samples of size n from our distribution $X$ with $\\mu_X$ and $\\sigma_X$, then as n increases, the random variable $\\bar X$ tends to be normally distributed as N($\\mu_\\bar X$ = $\\mu_X$, $\\sigma_\\bar X$ = $\\sigma_X \\over \\sqrt{n}$). We have $\\mu_X = 450$, $\\sigma_X = 80$, and $n = 100$."
   ]
  },
  {
   "cell_type": "code",
   "execution_count": 20,
   "metadata": {},
   "outputs": [],
   "source": [
    "def barXDist(mu, sigma, n):\n",
    "    # mu is the population mean\n",
    "    # sigma is the population standard deviation\n",
    "    # n is the sample size\n",
    "    new_sig = sigma/n**(1/2)\n",
    "    print(f\"X_bar ~ N({mu}, {new_sig})\")\n",
    "    return None"
   ]
  },
  {
   "cell_type": "code",
   "execution_count": 21,
   "metadata": {},
   "outputs": [
    {
     "name": "stdout",
     "output_type": "stream",
     "text": [
      "X_bar ~ N(450, 8.0)\n"
     ]
    }
   ],
   "source": [
    "barXDist(450, 80, 100)"
   ]
  },
  {
   "cell_type": "markdown",
   "metadata": {},
   "source": [
    "Now we want to use this new distribution to perform our probability calculation. We have the same question as the previous part, finding the probability that the average amount of money spent on books this term is > 470, so we can perform the calculation the same way."
   ]
  },
  {
   "cell_type": "code",
   "execution_count": 22,
   "metadata": {},
   "outputs": [
    {
     "name": "stdout",
     "output_type": "stream",
     "text": [
      "The probability that the average amount of money spent on book is greater than 470 is 0.006209665325776159\n"
     ]
    }
   ],
   "source": [
    "print(\"The probability that the average amount of money spent on book is greater than 470 is\", 1 - sp.norm.cdf(470, 450, 8))"
   ]
  },
  {
   "cell_type": "markdown",
   "metadata": {},
   "source": [
    "**c)** 99% of students spend between __ and __ dollars on textbooks.\n",
    "\n",
    "My approach here is going to be to compute a 99% confidence interval for X ~ N(450, 80), which should give us the two endpoints between which 99% of student expenditures fall, we can do this using the norm.interval() module from scipy."
   ]
  },
  {
   "cell_type": "code",
   "execution_count": 23,
   "metadata": {},
   "outputs": [
    {
     "name": "stdout",
     "output_type": "stream",
     "text": [
      "99% of the student expenditures fall between 243.93365571608797 and 656.066344283912\n"
     ]
    }
   ],
   "source": [
    "ci = sp.norm.interval(0.99, 450, 80)\n",
    "\n",
    "print(\"99% of the student expenditures fall between\", ci[0], \"and\", ci[1])"
   ]
  },
  {
   "cell_type": "markdown",
   "metadata": {},
   "source": [
    "**d)** If an SRS of 100 undergraduates is measured, 99% of the time the average will fall between __ and __ dollars.\n",
    "\n",
    "This problem is almsot identical to the previous, with the only difference being that we are discussing averages here, so we will want to use $\\bar X$ ~ (450, 8) as our distribution. We can use the norm.interval() module in the same way."
   ]
  },
  {
   "cell_type": "code",
   "execution_count": 24,
   "metadata": {},
   "outputs": [
    {
     "name": "stdout",
     "output_type": "stream",
     "text": [
      "99% of the average student expenditures fall between 429.3933655716088 and 470.6066344283912\n"
     ]
    }
   ],
   "source": [
    "ci = sp.norm.interval(0.99, 450, 8)\n",
    "\n",
    "print(\"99% of the average student expenditures fall between\", ci[0], \"and\", ci[1])"
   ]
  },
  {
   "cell_type": "markdown",
   "metadata": {},
   "source": [
    "========================================================================================================================="
   ]
  },
  {
   "cell_type": "markdown",
   "metadata": {},
   "source": [
    "**Problem 7:** On canvas you can find and download the dataset of the world wide carbon emissions per capita."
   ]
  },
  {
   "cell_type": "markdown",
   "metadata": {},
   "source": [
    "**a)** Provide a comprehensive description of the $CO_2$ emission in the year 2019."
   ]
  },
  {
   "cell_type": "code",
   "execution_count": 25,
   "metadata": {},
   "outputs": [
    {
     "name": "stdout",
     "output_type": "stream",
     "text": [
      "70       0.281803\n",
      "206      1.121465\n",
      "293      1.936486\n",
      "397      3.988271\n",
      "427      6.110325\n",
      "           ...   \n",
      "22002    2.567943\n",
      "22125    4.724384\n",
      "22195    0.351658\n",
      "22265    0.376266\n",
      "22382    0.708384\n",
      "Name: Per capita CO2 emissions, Length: 221, dtype: float64\n"
     ]
    }
   ],
   "source": [
    "filename = \"co-emissions-per-capita.csv\"\n",
    "\n",
    "df = pd.read_csv(filename)\n",
    "df = df.loc[df[\"Year\"] == 2019]\n",
    "emissions2019 = df['Per capita CO2 emissions']\n",
    "print(emissions2019)"
   ]
  },
  {
   "cell_type": "markdown",
   "metadata": {},
   "source": [
    "In order to provide a comprehensive description of this data set I am going to find the seven number summary and use those values to help aid my explanation. The seven number summary consists of the mean, standard deviation, first quartile, third quartile, median, min, and max. "
   ]
  },
  {
   "cell_type": "code",
   "execution_count": 26,
   "metadata": {},
   "outputs": [],
   "source": [
    "def pandas_seven_num_sum(df):\n",
    "    # Compute the mean first\n",
    "    mean = df.mean()\n",
    "    \n",
    "    # Now the standard deviation\n",
    "    std = df.std()\n",
    "    \n",
    "    # Now we can move on to our five number summary, starting with our min:\n",
    "    min_val = df.min()\n",
    "    \n",
    "    # Now the first quartile. Since I am working with pandas now I have a different method for doing this than with numpy.\n",
    "    firstq = df.quantile(.25)\n",
    "    \n",
    "    # Now the third quartile\n",
    "    thirdq = df.quantile(.75)\n",
    "    \n",
    "    # Now for the median:\n",
    "    median = df.median()\n",
    "    \n",
    "    # And finally for the max\n",
    "    max_val = df.max()\n",
    "    \n",
    "    # Now we just handle the printing logic\n",
    "    print(\"The mean is:\", mean)\n",
    "    print(\"The standard deviation is:\", std)\n",
    "    print(\"The median is:\", median)\n",
    "    print(\"The min is:\", min_val)\n",
    "    print(\"The max is:\", max_val)\n",
    "    print(\"The first quartile is:\", firstq)\n",
    "    print(\"The third quartile is:\", thirdq)"
   ]
  },
  {
   "cell_type": "code",
   "execution_count": 27,
   "metadata": {},
   "outputs": [
    {
     "name": "stdout",
     "output_type": "stream",
     "text": [
      "The mean is: 4.9979759411764695\n",
      "The standard deviation is: 5.7120348158752225\n",
      "The median is: 3.531309\n",
      "The min is: 0.026300999999999998\n",
      "The max is: 38.61042\n",
      "The first quartile is: 1.1213229999999998\n",
      "The third quartile is: 6.555037\n"
     ]
    }
   ],
   "source": [
    "pandas_seven_num_sum(emissions2019)"
   ]
  },
  {
   "cell_type": "markdown",
   "metadata": {},
   "source": [
    "Now we have a solid seven number summary of our data that we can use to help explain our data. From this, we can see that the average CO2 emissions in 2019 were about 5 with a standard deviaiton of about 5.7. The lowest emissions output from 2019 was 0.026 and the greatest was about 38.6, which is a pretty huge disparity. Our first quartile, which makes up the 25th percentile, is 1.12 and our 3rd quartile, which makes up the 75th percentile, is about 6.6. Finally, we have a median value of 3.5."
   ]
  },
  {
   "cell_type": "markdown",
   "metadata": {},
   "source": [
    "For the remainder of the exercise you will consider the $CO_2$ emission data from the year 1949 as your population. From here you will extract the population mean $\\mu$ which will be useful later during Hypothesis Testing."
   ]
  },
  {
   "cell_type": "code",
   "execution_count": 28,
   "metadata": {},
   "outputs": [
    {
     "name": "stdout",
     "output_type": "stream",
     "text": [
      "0        0.001912\n",
      "1        0.010871\n",
      "2        0.011684\n",
      "3        0.011542\n",
      "4        0.013216\n",
      "           ...   \n",
      "22378    0.880960\n",
      "22379    0.770831\n",
      "22380    0.719733\n",
      "22381    0.785413\n",
      "22382    0.708384\n",
      "Name: Per capita CO2 emissions, Length: 22383, dtype: float64\n"
     ]
    }
   ],
   "source": [
    "df = pd.read_csv(filename)\n",
    "emissions1949 = df.loc[df['Year'] == 1949]\n",
    "emissions1949_data = df['Per capita CO2 emissions']\n",
    "\n",
    "print(emissions1949_data)"
   ]
  },
  {
   "cell_type": "code",
   "execution_count": 29,
   "metadata": {},
   "outputs": [
    {
     "name": "stdout",
     "output_type": "stream",
     "text": [
      "The mean is: 4.0594913428941615\n",
      "The standard deviation is: 15.339886283347358\n",
      "The median is: 1.208742\n",
      "The min is: -2.674945\n",
      "The max is: 794.3345\n",
      "The first quartile is: 0.233867\n",
      "The third quartile is: 4.6323735\n"
     ]
    }
   ],
   "source": [
    "# Now lets find the seven number summary for the 1949 emissions data set for later on in the project\n",
    "\n",
    "pandas_seven_num_sum(emissions1949_data)"
   ]
  },
  {
   "cell_type": "markdown",
   "metadata": {},
   "source": [
    "**b)** Identify potential outliers, i.e. **years** in which a drastic change in the average $CO_2$ emissions worldwide has occured. For this, you will use 3 criteria:\n",
    "\n",
    "- Use the $1.5*IQR$ method\n",
    "\n",
    "- Use the $*Empirical*$ method.\n",
    "\n",
    "- Another way to identify years with drastic changes would be to plot the average $CO_2$ emissions as a function of time, along with the rate of emission as a function of time. In this case, the outliers can be identified visually.\n",
    "\n",
    "Rate means $dy/dx$ (derivative), where $dy$ is the change in $CO_2$ emission in the yearly interval $dx$. The function \"np.diff()\" could be useful."
   ]
  },
  {
   "cell_type": "markdown",
   "metadata": {},
   "source": [
    "Firs we are going to use the $IQR$ method to find outliers. We can do that by in the following way:\n",
    "\n",
    "1.   Calculate the interquartile range for the data.\n",
    "2.   Multiply the interquartile range ($IQR$) by $1.5$\n",
    "3.   Add $1.5 (IQR)$ to the third quartile. Any number greater than this is a suspected outlier.\n",
    "4.   Subtract $1.5  (IQR)$ from the first quartile. Any number less than this is a suspected outlier.\n",
    "\n",
    "\n",
    "We want to find outlying data in our worldwide averages, so we need to create a dataframe for the worldwide averages."
   ]
  },
  {
   "cell_type": "code",
   "execution_count": 38,
   "metadata": {},
   "outputs": [
    {
     "name": "stdout",
     "output_type": "stream",
     "text": [
      "22003    0.011522\n",
      "22004    0.028381\n",
      "22005    0.155935\n",
      "22006    1.184009\n",
      "22007    1.215954\n",
      "           ...   \n",
      "22121    4.771059\n",
      "22122    4.718691\n",
      "22123    4.729334\n",
      "22124    4.772543\n",
      "22125    4.724384\n",
      "Name: Per capita CO2 emissions, Length: 123, dtype: float64\n"
     ]
    }
   ],
   "source": [
    "# We have to create a list of averages from all the years. The \"World\" entity provides the worldwide average by year\n",
    "\n",
    "df = pd.read_csv(filename)\n",
    "df = df.loc[df[\"Entity\"] == \"World\"]\n",
    "emissionsWorld_data = df['Per capita CO2 emissions']\n",
    "print(emissionsWorld_data)\n"
   ]
  },
  {
   "cell_type": "code",
   "execution_count": 39,
   "metadata": {},
   "outputs": [
    {
     "name": "stdout",
     "output_type": "stream",
     "text": [
      "Outliers: []\n"
     ]
    }
   ],
   "source": [
    "# So we want to find outlying data in our worldwide averages based on what was an outlier in our population of 1949. This means\n",
    "# we should perform the IQR calculations using the seven number summary from 1949\n",
    "\n",
    "fq = emissionsWorld_data.quantile(0.25)\n",
    "tq = emissionsWorld_data.quantile(0.75)\n",
    "\n",
    "iqr = tq - fq # IQR is the third quartile - first quartile\n",
    "\n",
    "high_cutoff = (tq + (1.5*iqr)) # Find the high cutoff by adding the third quartile to 1.5*IQR. Values greater\n",
    "                                               # than the high cutoff will be considered outliers.\n",
    "    \n",
    "low_cutoff = (fq - (1.5*iqr)) # Find the low cutoff by subtracting 1.5*IQR from the first quartile. Values lower than\n",
    "                                      # than the low cutoff will be considered outliers.\n",
    "outliers = [i for i in emissionsWorld_data if i > high_cutoff or i < low_cutoff]\n",
    "\n",
    "print(f\"Outliers: {outliers}\")"
   ]
  },
  {
   "cell_type": "markdown",
   "metadata": {},
   "source": [
    "I'm not sure why we don't have any outliers here, I've checked and rechecked all my work and I don't know what I am doing wrong.\n",
    "\n",
    "Now lets repeat the process using the empirical method. As per the email from Nicu, I will be using the 2.5std Empirical Rule instead of the usual 3std Empirical Rule. The steps to using the empirical rule are as follows:\n",
    "\n",
    "1.   Find mean and std of data set.\n",
    "2.   Multiply the standard deviation by 2.5\n",
    "3.   Add $2.5*std$ to the mean to find the high cutoff.\n",
    "4.   Subtract $2.5*std$ from the mean to find the low cutoff.\n",
    "\n",
    "We already have our mean and standard deviation, so we have everything we need to start calculating!"
   ]
  },
  {
   "cell_type": "code",
   "execution_count": 41,
   "metadata": {},
   "outputs": [
    {
     "name": "stdout",
     "output_type": "stream",
     "text": [
      "Outliers: []\n"
     ]
    }
   ],
   "source": [
    "mean = emissionsWorld_data.mean()\n",
    "std = emissionsWorld_data.std()\n",
    "\n",
    "low_cutoff = mean - (2.5*std)\n",
    "high_cutoff = mean + (2.5*std)\n",
    "\n",
    "# Now we populate our outliers list\n",
    "outliers_emp = [i for i in emissionsWorld_data if i > high_cutoff or i < low_cutoff]\n",
    "\n",
    "print(f\"Outliers: {outliers_emp}\")"
   ]
  },
  {
   "cell_type": "markdown",
   "metadata": {},
   "source": [
    "Again I didn't find any outliers and I cannot figure out why, but I have just run out of time. I thought I had left myself enough time to complete problem 7, but I got extremely stuck on part B trying to figure out why I wasn't getting any outliers and ended up using all the time I left myself. I don't know what to say, I'm incredibly embarrassed and frustrated that I wasn't able to get through this question given that it is worth 50% of the grade on this entire midterm. I was doing so well up until this point."
   ]
  },
  {
   "cell_type": "markdown",
   "metadata": {},
   "source": [
    "**c)** For this part you will perform hypothesis testing on your outliers. Before performing it, chose and motivate (in words) a value for $\\alpha$. For each hypothesis test extract a sample of n = 40 points from your distribution.\n",
    "\n",
    "- Clearly state your null hypothesis $H_0$ and your alternative hypothesis $H_a$.\n",
    "\n",
    "- Perform hypothesis on random samples of countries for 3 years you identified as outliers. (Select one year per criteria in 1).\n",
    "\n",
    "- Perform hypothesis on random samples of countries for 2 years in which you believe $**no**$ drastic change has occured (years that are not outliers according to the criteria in 1).\n",
    "\n",
    "- For each test, specify the type of error you could've made along with its meaning for that case."
   ]
  },
  {
   "cell_type": "markdown",
   "metadata": {},
   "source": [
    "**d)** Based on the information and evidence you gathered provide a conclusion about the 5 years you considered."
   ]
  },
  {
   "cell_type": "markdown",
   "metadata": {},
   "source": [
    "========================================================================================================================="
   ]
  },
  {
   "cell_type": "markdown",
   "metadata": {},
   "source": [
    "I promise that I have not gotten any outside or inappropriate assistance on this exam. I understand the Academic Code of Conduct and how it pertains to this exam.\n",
    "\n",
    "Cole Pendergraft"
   ]
  },
  {
   "cell_type": "code",
   "execution_count": null,
   "metadata": {},
   "outputs": [],
   "source": []
  }
 ],
 "metadata": {
  "kernelspec": {
   "display_name": "Python 3",
   "language": "python",
   "name": "python3"
  },
  "language_info": {
   "codemirror_mode": {
    "name": "ipython",
    "version": 3
   },
   "file_extension": ".py",
   "mimetype": "text/x-python",
   "name": "python",
   "nbconvert_exporter": "python",
   "pygments_lexer": "ipython3",
   "version": "3.8.5"
  }
 },
 "nbformat": 4,
 "nbformat_minor": 4
}

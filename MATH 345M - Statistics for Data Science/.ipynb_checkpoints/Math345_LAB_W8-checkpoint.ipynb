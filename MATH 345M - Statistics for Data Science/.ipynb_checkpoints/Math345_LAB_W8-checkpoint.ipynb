{
 "cells": [
  {
   "cell_type": "code",
   "execution_count": 1,
   "metadata": {
    "id": "hxZjMQ1-cxG3"
   },
   "outputs": [],
   "source": [
    "# Here are all the packages and functions you need\n",
    "# However feel free to import new ones \n",
    "\n",
    "import numpy as np\n",
    "import pandas as pd\n",
    "import scipy.stats as sp\n",
    "\n",
    "import matplotlib.pyplot as plt\n",
    "\n"
   ]
  },
  {
   "cell_type": "markdown",
   "metadata": {},
   "source": [
    "**Authors: Cole Pendergraft, Zac Cross, Elliott Freeman, Arden Butterfield**"
   ]
  },
  {
   "cell_type": "markdown",
   "metadata": {
    "id": "bmSfuabZ6tE2"
   },
   "source": [
    "**Problem 1: Difference in sample proportions**\n",
    "\n",
    "For this problem you will:\n",
    "1.    Design a function that will take two proportions $\\hat{p}_A$ and $\\hat{p}_B$, the sample sizes $n_A$ and $n_B$, along with the population size $N_A$ and $N_B$. Your function needs to check if the standart deviation formula for $ \\hat{p}_A - \\hat{p}_B $ is appropriate to use. Given a positive answer on this check your function describe the distribution of $ \\hat{p}_A - \\hat{p}_B $ in terms of its *mean*, *standart deviation*, and *shape*.\n",
    "\n",
    "> Before you code your function list (using words and formulas) all the conditions that will determine the independence of samples from each population and the conditions that will determine that the distripution of $\\hat{p}_A- \\hat{p}_B$ is Gaussian. \n",
    "\n",
    "\n",
    "\n",
    "2.   Once you have the function written, apply it to the following problem: \n",
    "\n",
    "\n",
    "> Suppose that $11\\%$ of all cars produced by manifacturer $A$ have a ceratin defect and $8\\%$ of all cars produced by manifacturer $B$ have this defect. Each month, a you, as a quality control manager takes separate random samples of $500$ of the $4500$ produced cars from each plant. You than consider the difference between the proportions of cars with the defect in each sample, i.e. $ \\hat{p}_A - \\hat{p}_B $. \n",
    "*   Describe the distribution of $ \\hat{p}_A - \\hat{p}_B $ in terms of its *mean*, *standart deviation*, and *shape*.\n",
    "*   If the shape is Gaussian, plot the probability distribution functions with the computed quantities \n",
    "\n",
    "\n",
    "\n",
    "\n",
    "\n",
    "\n"
   ]
  },
  {
   "cell_type": "code",
   "execution_count": 2,
   "metadata": {
    "id": "qDhoNF2A_suu"
   },
   "outputs": [],
   "source": [
    "# Problem 1: Difference in sample proportions\n",
    "# Your solution goes here\n",
    "\n",
    "def megatron(pa, pb, na, nb, Na, Nb, alpha, title):\n",
    "    ret = False\n",
    "    \n",
    "    if(na >= 0.1*Na) and (nb >= 0.1*Nb):\n",
    "        if(pa*na >= 10) and (pb*nb >= 10):\n",
    "            \n",
    "            ret= True\n",
    "            \n",
    "            diff = pa-pb\n",
    "            \n",
    "            xa = pa*na\n",
    "            xb = pb*nb\n",
    "            \n",
    "            xc = xa + xb\n",
    "            nc = na + nb\n",
    "            pc = xc/nc\n",
    "\n",
    "            se = np.sqrt(pc*(1 - pc)*(1/na + 1/nb))\n",
    "            z = diff/se\n",
    "            \n",
    "            hippo_rejected = False\n",
    "            if (z < 0) and (2 * sp.norm.cdf(z) < alpha):\n",
    "                hippo_rejected = True\n",
    "                \n",
    "            elif (z > 0) and (2 * (1 - sp.norm.cdf(z)) < alpha):\n",
    "                hippo_rejected = True\n",
    "\n",
    "            print(\"Mean:\", diff)\n",
    "            print(\"Standard deviation:\", se)\n",
    "            print(\"The shape is gaussian\")\n",
    "            print(\"Reject the null hypothesis?\", hippo_rejected)\n",
    "            \n",
    "            x_range = np.arange(-5,-abs(z), .001) #this is what we're going to shade under\n",
    "            x_range2 = np.arange( abs(z),5, .001) #this is what we're going to shade under\n",
    "            x_all = np.arange(-5,5, .001) # entire range of x,\n",
    "\n",
    "            y = sp.norm.pdf(x_range,0,1)\n",
    "\n",
    "            y2 = sp.norm.pdf(x_all,0,1)\n",
    "            y3 = sp.norm.pdf(x_range2,0,1)\n",
    "            fig, ax = plt.subplots(figsize=(9,6))\n",
    "            plt.style.use('fivethirtyeight')\n",
    "            ax.plot(x_all,y2)\n",
    "\n",
    "            ax.fill_between(x_range,y,0, alpha=0.3, color='b')\n",
    "            ax.fill_between(x_all,y2,0, alpha=0.1)\n",
    "            ax.fill_between(x_range2,y3,0, alpha=0.3, color='b')\n",
    "            ax.set_xlim([-5,5])\n",
    "            ax.set_xlabel('Z region shaded')\n",
    "\n",
    "            ax.set_yticklabels([])\n",
    "\n",
    "            ax.set_title(f\"{title}\")\n",
    "\n",
    "            plt.show()\n",
    "            \n",
    "        else:\n",
    "            print(\"There is not a big enough sample for this to be gaussian, plot it yourself\")\n",
    "    else:\n",
    "        print(\"Sample is not the correct proportion of the population and cannot be used\")\n",
    "\n",
    "    return ret"
   ]
  },
  {
   "cell_type": "code",
   "execution_count": 11,
   "metadata": {},
   "outputs": [
    {
     "name": "stdout",
     "output_type": "stream",
     "text": [
      "Mean: 0.03\n",
      "Standard deviation: 0.01854454097571574\n",
      "The shape is gaussian\n",
      "Reject the null hypothesis? False\n"
     ]
    },
    {
     "data": {
      "image/png": "[encoded data removed]",
      "text/plain": [
       "<Figure size 648x432 with 1 Axes>"
      ]
     },
     "metadata": {},
     "output_type": "display_data"
    },
    {
     "data": {
      "text/plain": [
       "True"
      ]
     },
     "execution_count": 11,
     "metadata": {},
     "output_type": "execute_result"
    }
   ],
   "source": [
    "megatron(0.11, 0.08, 500, 500, 4500, 4500, 0.01, 'Cars')"
   ]
  },
  {
   "cell_type": "markdown",
   "metadata": {
    "id": "IxFBJz4BLnln"
   },
   "source": [
    "$$\n",
    "\\chi^2 = \\sum{\\frac{(observed-expected)^2}{expected}}\n",
    "$$ \n",
    " \\\\\n",
    " \\\\\n",
    "\n",
    "\n",
    "\n",
    "**Problem 2:  $\\chi^2_{df}$ test: goodness of fit**\n",
    "\n",
    "Assume that you want to buy a restaurant and your major point of concern is the daily influx of people that get dinner at the restaurant.  You have asked the current owner to give you the information about the influx of customers and he provided the following data:\n",
    "\n",
    "Mon - $10 \\%$ of weekly customers \\\\\n",
    "Tue - $8 \\%$ of weekly customers \\\\\n",
    "Wed - $14 \\%$ of weekly customers \\\\\n",
    "Thu - $11 \\%$ of weekly customers \\\\\n",
    "Fri - $42 \\%$ of weekly customers \\\\\n",
    "Sat - $15 \\%$ of weekly customers \\\\\n",
    "\n",
    "Since you are a student of statistics, you decided to check the data by measuring the number of customers during a week. This is the data you gathered:  \n",
    "\n",
    "Mon - $22$  customers \\\\\n",
    "Tue - $33$  customers \\\\\n",
    "Wed - $26$  customers \\\\\n",
    "Thu - $28$  customers \\\\\n",
    "Fri - $75$  customers \\\\\n",
    "Sat - $26$  customers \\\\\n",
    "\n",
    "Specify the number of degrees of freedom and perform a hypothesis test using the appropriate $\\chi^2_{df}$ distribution with $\\alpha = 5\\%$.\n",
    "\n",
    "Clearly state your null and alternative hypothesis and given the result of your test determine if you should trust the data provided the current owner?\n",
    "\n",
    "$H_0$: The owner's expected data was correct\n",
    "\n",
    "$H_a$: The owner's expected data was incorrect"
   ]
  },
  {
   "cell_type": "code",
   "execution_count": 20,
   "metadata": {
    "id": "cKTCt4FPBVWs"
   },
   "outputs": [
    {
     "name": "stdout",
     "output_type": "stream",
     "text": [
      "How many degrees of freedom? 5\n",
      "Do we reject the null hypothesis? True\n"
     ]
    }
   ],
   "source": [
    "# Problem 2: Chi-squared test: goodness of fit\n",
    "# Your solution goes here\n",
    "\n",
    "expected_data = np.array([.1, .08, .14, .11, .42, .15])\n",
    "\n",
    "actual_data = np.array([22, 33, 36, 38, 75, 26], dtype = \"float\")\n",
    "\n",
    "expected_data *= sum(actual_data)\n",
    "\n",
    "alpha = 0.05\n",
    "\n",
    "chai_tea, p = sp.chisquare(actual_data, f_exp = expected_data)\n",
    "\n",
    "hippo_rejected = False\n",
    "if((p) < alpha):\n",
    "    hippo_rejected = True\n",
    "    \n",
    "print(\"How many degrees of freedom? 5\\n\" + \"Do we reject the null hypothesis?\", hippo_rejected)"
   ]
  },
  {
   "cell_type": "markdown",
   "metadata": {
    "id": "Tjrxtzy0_wx7"
   },
   "source": [
    "**Problem 3:  $\\chi^2_{df}$ test: independence**\n",
    "\n",
    "Here you will work with the IBM HR Analytics Dataset -  the IBM Employee Attrition & Performance dataset. \n",
    "\n",
    "https://www.kaggle.com/pavansubhasht/ibm-hr-analytics-attrition-dataset\n",
    "\n",
    "From here you will select two categorical variables and check if they are independent of each other using hypothesis testing. In order to compute the $\\chi^2$ test statistic, you will need to construct a contingency table of the two categorical values, the function `pd.crosstab()` might be useful.\n",
    "\n",
    "Clearly state your null and alterantive hypothesis, your value for $\\alpha$, and formulate a conclusion given your result. \n",
    "\n",
    "\n",
    "Categorical variables we used: Job satisfaction and gender\n",
    "\n",
    "$H_0$: Job satisfaction for men and women will be equal.\n",
    "\n",
    "$H_a$: Job satisfaction for men and women will not be equal."
   ]
  },
  {
   "cell_type": "code",
   "execution_count": 12,
   "metadata": {
    "id": "o_Tl_WzB_v0a"
   },
   "outputs": [],
   "source": [
    "# Problem 3: Chi-squared test: independence\n",
    "# Your solution goes here\n",
    "filename = ('WA_Fn-UseC_-HR-Employee-Attrition.csv')\n",
    "df = pd.read_csv(filename)"
   ]
  },
  {
   "cell_type": "code",
   "execution_count": 13,
   "metadata": {},
   "outputs": [
    {
     "name": "stdout",
     "output_type": "stream",
     "text": [
      "Gender           Female  Male\n",
      "JobSatisfaction              \n",
      "1                   119   170\n",
      "2                   118   162\n",
      "3                   181   261\n",
      "4                   170   289\n"
     ]
    }
   ],
   "source": [
    "incidence = pd.crosstab(df[\"JobSatisfaction\"], df[\"Gender\"])\n",
    "print(incidence)"
   ]
  },
  {
   "cell_type": "code",
   "execution_count": 8,
   "metadata": {},
   "outputs": [],
   "source": [
    "chi, p_val, dof, incidence_exp = sp.chi2_contingency(incidence)"
   ]
  },
  {
   "cell_type": "code",
   "execution_count": 14,
   "metadata": {},
   "outputs": [
    {
     "name": "stdout",
     "output_type": "stream",
     "text": [
      "Chi-square value: 2.547682890820147\n",
      "P-value: 0.466735315528122\n",
      "Degrees of freedom: 3\n",
      "\n",
      "Incidence\n",
      " [[115.6 173.4]\n",
      " [112.  168. ]\n",
      " [176.8 265.2]\n",
      " [183.6 275.4]]\n"
     ]
    }
   ],
   "source": [
    "print(\"Chi-square value:\", chi)\n",
    "print(\"P-value:\", p_val)\n",
    "print(\"Degrees of freedom:\", dof)\n",
    "print()\n",
    "print(\"Incidence\\n\", incidence_exp)"
   ]
  },
  {
   "cell_type": "markdown",
   "metadata": {},
   "source": [
    "As nobody is dying, we feel an alpha of 0.05 to be appropriate for this test."
   ]
  },
  {
   "cell_type": "code",
   "execution_count": 10,
   "metadata": {},
   "outputs": [
    {
     "name": "stdout",
     "output_type": "stream",
     "text": [
      "False\n"
     ]
    }
   ],
   "source": [
    "hippo_rejected = False\n",
    "\n",
    "if(p_val < 0.05):\n",
    "    hippo_rejected = True\n",
    "    \n",
    "print(hippo_rejected)"
   ]
  },
  {
   "cell_type": "markdown",
   "metadata": {},
   "source": [
    "Based on our p-value and our alpha, we find we do not have sufficient evidence to reject our null hypothesis that men and women have equal job satisfaction."
   ]
  },
  {
   "cell_type": "markdown",
   "metadata": {},
   "source": [
    "For extra research use [this link](https://casprofile.uoregon.edu/sites/casprofile2.uoregon.edu/files/picture-3281.jpg)"
   ]
  },
  {
   "cell_type": "code",
   "execution_count": null,
   "metadata": {},
   "outputs": [],
   "source": []
  }
 ],
 "metadata": {
  "colab": {
   "collapsed_sections": [],
   "name": "Math345_LAB_W8_Empty.ipynb",
   "provenance": []
  },
  "kernelspec": {
   "display_name": "Python 3",
   "language": "python",
   "name": "python3"
  },
  "language_info": {
   "codemirror_mode": {
    "name": "ipython",
    "version": 3
   },
   "file_extension": ".py",
   "mimetype": "text/x-python",
   "name": "python",
   "nbconvert_exporter": "python",
   "pygments_lexer": "ipython3",
   "version": "3.8.5"
  }
 },
 "nbformat": 4,
 "nbformat_minor": 1
}

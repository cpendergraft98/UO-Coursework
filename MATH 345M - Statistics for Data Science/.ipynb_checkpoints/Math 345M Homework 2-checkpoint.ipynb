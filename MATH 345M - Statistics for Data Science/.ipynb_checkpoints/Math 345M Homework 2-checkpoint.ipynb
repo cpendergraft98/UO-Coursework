{
 "cells": [
  {
   "cell_type": "markdown",
   "metadata": {},
   "source": [
    "**Math 345M Homework 2**\n",
    "\n",
    "**Author: Cole Pendergraft**\n",
    "\n",
    "**Chapter 3 Problems: 86, 87, 89, 112, 116 b-f**\n",
    "\n",
    "**Chapter 4 Problems: 71, 72, 74, 78, 80**"
   ]
  },
  {
   "cell_type": "code",
   "execution_count": 23,
   "metadata": {},
   "outputs": [],
   "source": [
    "import pandas as pd\n",
    "import numpy as np\n",
    "import matplotlib.pyplot as plt"
   ]
  },
  {
   "cell_type": "markdown",
   "metadata": {},
   "source": [
    "**Problem 3.86:** Roll two fair dice separately. Each die has six faces."
   ]
  },
  {
   "cell_type": "markdown",
   "metadata": {},
   "source": [
    "**a) List the sample space**\n",
    "\n",
    "The sample space is a list of all possible outcomes of an event, and since both die have a sample space of S = {1, 2, 3, 4, 5}, then the sample space for two fair die rolled separately would be S = { {1, 1}, {1, 2}, {1, 3}, {1, 4}, {1, 5}, {1, 6}, {2, 1}, {2, 2}, {2, 3}, {2, 4}, {2, 5}, {2, 6}, {3, 1}, {3, 2}, {3, 3}, {3, 4}, {3, 5}, {3, 6}, {4, 1}, {4, 2}, {4, 3}, {4, 4}, {4, 5}, {4, 6}, {5, 1}, {5, 2}, {5, 3}, {5, 4}, {5, 5}, {5, 6}, {6, 1}, {6, 2}, {6, 3}, {6, 4}, {6, 5}, {6, 6} }"
   ]
  },
  {
   "cell_type": "markdown",
   "metadata": {},
   "source": [
    "**b) Let A be the event that either a three or a four is rolled first, followed by an even number. Find P(A).**\n",
    "\n",
    "As per the book, we calculate P(A) by taking the number of favorable outcomes for event A and divide it by the total number of possible outcomes. Event A dictates that either a three or four is rolled, and then an even number, so our sample space is S(A) = { {3, 2}, {3, 4}, {3, 6}, {4, 2}, {4, 4}, {4, 6} }, and |S(A)| = 6. Our total number of possible outcomes is 36, so we have that P(A) = 6/36 = 1/6."
   ]
  },
  {
   "cell_type": "markdown",
   "metadata": {},
   "source": [
    "**c) Let B be the event that the sum of the two rolls is at most seven. Find P(B).**\n",
    "\n",
    "Event B dictates that the sum of our two rolls is less than or equal to 7. Thus, our sample space is S(B) = { {1, 1}, {1, 2}, {1, 3}, {1, 4}, {1, 5}, {1, 6}, {2, 1}, {2, 2}, {2, 3}, {2, 4}, {2, 5}, {3, 1}, {3, 2}, {3, 3}, {3, 4}, {4, 1}, {4, 2}, {4, 3}, {5, 1}, {5, 2}, {6, 1} }, and |S(B)| = 21. Once again, our total number of outcomes is 36, so we have P(B) = 21/36 = 7/12."
   ]
  },
  {
   "cell_type": "markdown",
   "metadata": {},
   "source": [
    "**d) In words, explain what \"P(A|B)\" represents. Find P(A|B).**\n",
    "\n",
    "This is the conditional probability of A given B. In our terms, it is the probability that that either a 3 or 4 is rolled first and followed by an even number given that the sum of the two rolls is at most seven. The book details that we can solve this using the following equation:\n",
    "\n",
    "P(A|B) = P(A AND B)/P(B)\n",
    "\n",
    "P(A AND B) is relatively straightforward to find, all we must do is remove entries from the sample space S(A) in part (b) that violate the condition in B, and this will leave us with just the outcomes where a 3 or 4 is rolled first and followed by an even number AND the sum of the two rolls is less than or equal to 7. This leaves us with S(A AND B) = { {3, 2}, {3, 4}, {4, 2} }, |S(A AND B)| = 3, and P(A AND B) = 3/36. Thus, we have P(A|B) = (3/36) / (21/36)."
   ]
  },
  {
   "cell_type": "markdown",
   "metadata": {},
   "source": [
    "**e) Are A and B mutually exusive events? Explain your answer in one to three complete sentences, including numerical justification.**\n",
    "\n",
    "No they are not mutually exclusive. To be mutually exclusive, it must be impossible for the two events to occur at the same time, but there is no barrier that prevents the outcomes from both summing to a value less than or equal to seven, and starting with a 3 or 4 and then followed by an even number. Numerically, if these events were mutually exclusive we would have P(A AND B) = 0, as it would be impossible for both events to occur simultaneously. We have demonstrated that P(A AND B) = 3/36, which is not 0, so these two events cannot be mutually exclusive."
   ]
  },
  {
   "cell_type": "markdown",
   "metadata": {},
   "source": [
    "**f) Are A and B independent events? Explain your answser in one to three complete sentences, including numerical justification.**\n",
    "\n",
    "In words, we can consider two events as independent if the knowledge that one occurred does not affect the chance that the other occurs. We can see this criteria as being violated due to the fact the two die values needing to sum to seven affects how many possible outcomes can happen. If these were independent, adding the criteria from B to the criteria from A should yield no change in the number of outcomes for either.\n",
    "\n",
    "Numerically speaking, as per the book, we know that two events are independent if the following are true:\n",
    "\n",
    "- P(A|B) = P(A)\n",
    "\n",
    "- P(B|A) = P(B)\n",
    "\n",
    "- P(A AND B) = P(A)P(B)\n",
    "\n",
    "The first criteria for independence has not been met, as we have P(A|B) = 1/7, and P(A) = 1/6, so these two events cannot be independent."
   ]
  },
  {
   "cell_type": "markdown",
   "metadata": {},
   "source": [
    "**Problem 3.87:** A special deck of cards has ten cards. Four are green, three are blue, and three are red. When a card is picked, its color of it is recorded. An experiment consists of first picking a card and then tossing a coin."
   ]
  },
  {
   "cell_type": "markdown",
   "metadata": {},
   "source": [
    "**a) List the sample space.**\n",
    "\n",
    "Due to the fact that the deck has 10 cards, it may seem that we would have a lot of possible outcomes here, but we actually do not. Despite there being ten cards in the deck, the only thing we care about is the color of the card drawn, of which there are three possibilities. The other factor is whether the coin is heads or tails, so we only actually have 6 possible outcomes. These are S = { {R, H}, {B, H}, {G, H}, {R, T}, {B, T}, {G, T} }"
   ]
  },
  {
   "cell_type": "markdown",
   "metadata": {},
   "source": [
    "**b) Let A be the event that a blue card is picked first, followed by landing a head on the coin toss. Find P(A).**\n",
    "\n",
    "Ther is only one outcome in which we get a blue card and then a heads, so we have that P(A) = 1/6."
   ]
  },
  {
   "cell_type": "markdown",
   "metadata": {},
   "source": [
    "**c) Let B be the event that a red or green is picked, followed by landing a head on the coin toss. Are the events A and B mutually exclusive? Explain your answer in one to three sentences, includeing numerical justification.**\n",
    "\n",
    "Yes, these events are mutually exclusive. In words, we cannot both have a red or green AND a blue card, if the card is blue, then it isn't red or green, and if it is red or green, then it isn't blue.\n",
    "\n",
    "Numerically, mutually exclusive events should have P(A AND B) = 0. In this case, A AND B translates to the event that a blue card is picked first, followed by a head, AND that a red or green is picked. Thus, we just need to select the elements from A that fit the criteria in B, of which there are none. Thus, P(A AND B) = 0 and these events are mutually exclusive."
   ]
  },
  {
   "cell_type": "markdown",
   "metadata": {},
   "source": [
    "**d) Let C be the event that a red or blue is picked, followed by landing a head on the coin toss. Are the events A and C mutually exclusive? Explain your answer in one to three complete sentences, including numerical justification.**\n",
    "\n",
    "No, these events are not mutually exclusive. Event C is the same as event A with just one additional criteria, so all outcomes in event A still fall under the umbrella of event C.\n",
    "\n",
    "Numerically, mutually exclusive events should have P(A AND B) = 0. To test this, we can select the elements of A that fulfill the requirements of C, of which there is one. The {B, H} element in A is a blue card and then a head, which fits within the criteria for C and thus P(A AND B) is nonzero, so events C and A are not mutually exclusive. "
   ]
  },
  {
   "cell_type": "markdown",
   "metadata": {},
   "source": [
    "**Problem 3.89:** An experiment consists of tossing a nickel, a dime, and a quarter. Of interest is the side the coin lands on."
   ]
  },
  {
   "cell_type": "markdown",
   "metadata": {},
   "source": [
    "**a) List the sample space.**\n",
    "\n",
    "S = { {H, H, H}, {H, H, T}, {H, T, T}, {H, T, H} {T, T, T}, {T, T, H}, {T, H, H}, {T, H, T} }"
   ]
  },
  {
   "cell_type": "markdown",
   "metadata": {},
   "source": [
    "**b) Let A be the event that there are at least two tails. Find P(A).**\n",
    "\n",
    "Lets select the outcomes from our sample space that fit within the criteria for event A. We then have S(A) = { {H, T, T}, {T, T, T}, {T, T, H}, {T, H, T} } and |S(A)| = 4. Thus, we have P(A) = 4/8 = 1/2."
   ]
  },
  {
   "cell_type": "markdown",
   "metadata": {},
   "source": [
    "**c) Let B be the event that the first and second tosses land on heads. Are the events A and B mutually exclusive? Explain your answer in one to three complete sentences, including justification.**\n",
    "\n",
    "Yes, they are mutually exclusive. Event A dictates that we have AT LEAST two tails, but event B dictates that we have exactly 2 heads. If we are flipping three coins, it is wholly impossible for us to at once have both 2 heads and at least 2 tails, thus these events are mutually exclusive. Numerically, this amounts to P(A AND B) = 0."
   ]
  },
  {
   "cell_type": "markdown",
   "metadata": {},
   "source": [
    "**Problem 3.112:** Table 3.22 identifies a group of children by one of four hair colors, and by type of hair.\n",
    "\n",
    "| Hair Type | Brown | Blond | Black | Red | Totals |\n",
    "|-----------|-------|-------|-------|-----|--------|\n",
    "| Wavy | 20 | 5 | 15 | 3 | 43 |\n",
    "| Straight | 80 | 15 | 65 | 12 | 172 |\n",
    "| Totals | 100 | 20 | 80 | 15 | 215 |"
   ]
  },
  {
   "cell_type": "markdown",
   "metadata": {},
   "source": [
    "**a) Complete the table.** \n",
    "\n",
    "See table above"
   ]
  },
  {
   "cell_type": "markdown",
   "metadata": {},
   "source": [
    "**b) What is the probability that a randomly selected child will have wavy hair?**\n",
    "\n",
    "We are seeking the probability a child selected randomly from amongst the 215 will have wavy hair regardless of hair color. There are a total of 43 children with wavy hair, so our probability is then 43/215."
   ]
  },
  {
   "cell_type": "markdown",
   "metadata": {},
   "source": [
    "**c) What is the probablility that a randomly selected child will have either brown or blond hair?**\n",
    "\n",
    "We are seeking the probability that a child selected randomly from amongst the 215 will have either brown OR blond hair regardless of hair type. There are a total of 100 brown haired children and 20 blond haired children, so we have (100 + 20) / 215 = 120/215."
   ]
  },
  {
   "cell_type": "markdown",
   "metadata": {},
   "source": [
    "**d) What is the probability that a randomly selected child will have wavy brown hair?**\n",
    "\n",
    "We are seeking the probability that a child selected randomly from amongst the 215 will have the wavy hair type AND brown hair color. There are only 20 children that fit within this criteria, so our probability is 20/215."
   ]
  },
  {
   "cell_type": "markdown",
   "metadata": {},
   "source": [
    "**e) What is the probability that a randomly selected child will have red hair, given that he or she has straight hair?**\n",
    "\n",
    "This one is tricky, it seems like it may be an AND statement, but is actually a conditional P(A|B). We know that we can compute P(A|B) with the equation\n",
    "\n",
    "P(A|B) = P(A AND B) / P(B).\n",
    "\n",
    "So our first step is to compute P(A AND B). Event A dictates that the child will have red hair, and event B dictates that the child will have straight hair. Thus, we have 12 children that fit into A AND B, and P(A AND B) = 12/215.\n",
    "\n",
    "Since B is the event that the child will have straight hair, which amounts to 172 kids. Thus, P(B) = 172/215.\n",
    "\n",
    "Now, we can calculate P(A|B) = (12/215)/(172/215) = 12/172"
   ]
  },
  {
   "cell_type": "markdown",
   "metadata": {},
   "source": [
    "**f) If B is the event of a child having brown hair, find the probability of the complement of B.**\n",
    "\n",
    "We have 100 kids with brown hair, so P(B) = 100/215. We know that the complement of B is such that P(B) + P(B') = 1, so we can say that P(B') = 1 - P(B) = 1 - 100/215 = 115/215"
   ]
  },
  {
   "cell_type": "markdown",
   "metadata": {},
   "source": [
    "**g) In words, what does the complement of B represent?**\n",
    "\n",
    "In words, the complement of B, labeled B', is the event that contains all possible outcomes that are NOT in B. "
   ]
  },
  {
   "cell_type": "markdown",
   "metadata": {},
   "source": [
    "**Problem 3.116:** A box of cookies contains three chocolate and seven butter cookies. Miguel randomly selects a cookie and eats it. Then he randomly selects another cookie and eats it. (How many cookies did he take?)"
   ]
  },
  {
   "cell_type": "markdown",
   "metadata": {},
   "source": [
    "**b) Are the probabilities for the flavor of the SECOND cookie that Miguel selects independent of his first selection? Explain.**\n",
    "\n",
    "No, they are not. We are making selections without replacement here, as Miguel eats the cookie after choosing it. By doing this, he changes the total number of cookies remaining in the box, and by extension the probabilities of choosing each type of cookie, so the two events cannot be independent.\n",
    "\n",
    "For example, we start off with P(Chocolate) = 3/10 = 30% chance and P(Butter) = 7/10 = 70% chance. Let's suppose that Miguel selects a Butter cookie first and eats it. We are now left with 9 cookies in the box and the following probabilities: P(Chocolate) = 3/9 = 33% chance and P(Butter) = 67% chance. So by selecting a cookie from the box, Miguel alters the probabilities for the second cookie by making the selection of a chocolate more likely, which means these two events cannot be independent."
   ]
  },
  {
   "cell_type": "markdown",
   "metadata": {},
   "source": [
    "**C) For each complete path through the tree, write the event it represents and find the probabilities.**\n",
    "\n",
    "We aren't using a tree, but we can still accomplish this task. We are making two choices, and the possible outcomes are S = { {C, C}, {C, B}, {B, C}, {B, B} }, so we have 4 possible outcomes. \n",
    "\n",
    "Suppose our outcome is {C, C}:\n",
    "\n",
    "We have 3/10 chance of choosing the first chocolate cookie, and then a 2/9 chance of choosing the second. Thus, P({C, C}) = 3/10 * 2/9 = 6/90\n",
    "\n",
    "If  our outcome is {C, B}:\n",
    "\n",
    "We have a 3/10 chance of choosing the chocolate cookie first, and then a 7/9 chance to choose a butter cookie second. Thus, P({C, B}) = 3/10 * 7/9 = 21/90\n",
    "\n",
    "If our outcome is {B, B}:\n",
    "\n",
    "We have a 7/10 chance of choosing the first butter cookie, and then a 6/9 chance of choosing the second butter cookie. Thus, P({B, B}) = 7/10 * 6/9 = 42/90\n",
    "\n",
    "And if our outcome is {B, C}:\n",
    "\n",
    "We have a 7/10 chance of choosing the butter cookie first, and then a 3/9 chance of choosing the chocolate cookie second. Thus, we have P({B,C}) = 7/10 * 3/9 = 21/90"
   ]
  },
  {
   "cell_type": "markdown",
   "metadata": {},
   "source": [
    "**d) Let S be the event that both cookies selected were the same flavor. Find P(S).**\n",
    "\n",
    "P(S) is essentially equivalent to P(CC OR BB), as those are the only two outcomes in which both cookies match, and we are looking for one of those two outcomes. Thus, P(S) = P(CC OR BB) = P(CC) + P(BB) = 6/90 + 42/90 = 48/90"
   ]
  },
  {
   "cell_type": "markdown",
   "metadata": {},
   "source": [
    "**e) Let T be the event that the cookies selected were different flavors. Find P(T) by two different methods: by using the complement rule and by using the branches of the tree. Your answers should be the same with both methods.**\n",
    "\n",
    "Since we aren't using a tree for this problem, I will only answer the question using the complement rule. Event T is essentially the complement of event S from the previous problem, as every event in T is the same as every event NOT in S. Since we should have that P(T) + P(S) = 1, we know that P(T) = 1 - P(S) = 1 - 48/90 = 42/90."
   ]
  },
  {
   "cell_type": "markdown",
   "metadata": {},
   "source": [
    "**f) Let U be the event that the second cookie selected is a butter cookie. Find P(U).**\n",
    "\n",
    "Event U in this case is essentially equivalent to BB OR CB, as those are the only two potential outcomes in which a butter cookie is chosen second. Thus, we have P(U) = P(BB OR CB) = P(BB) + P(CB) = 42/90 + 21/90 = 63/90"
   ]
  },
  {
   "cell_type": "markdown",
   "metadata": {},
   "source": [
    "**Problem 4.71:** A game involves selecting a card from a regular 52-card deck and tossing a coin. The coin is a fair coin and is equally likely to land on tails or heads.\n",
    "\n",
    "- If the card is a face card, and the coin lands on heads, you win $6.\n",
    "\n",
    "- If the card is a face card, and the coin lands on tails, you win $2.\n",
    "\n",
    "- If the card is not a face card, you lose $2 regardless of the coin."
   ]
  },
  {
   "cell_type": "markdown",
   "metadata": {},
   "source": [
    "**a) Find the expected value for this game (expected net gain or loss).**\n",
    "\n",
    "For this calculation we want to start by computing the probabilities of each outcome:\n",
    "\n",
    "That you draw 1 of the 12 face cards in a 52 card deck and your coin lands on heads = 12/52 * 1/2 = 12/104 = 3/26\n",
    "\n",
    "That you draw 1 of the 12 face cards in a 52 card deck and your coin lands on tails = 12/52 * 1/2 = 12/104 = 3/26\n",
    "\n",
    "That you draw 1 of the 40 non-face cards in a 52 card deck = 40/52 = 20/26\n",
    "\n",
    "Now attaching the monetary values to each probability to calculate expected profit/loss for each outcome:\n",
    "\n",
    "We have a 3/26 chance of winning 6 dollars = 18/26 dollars expected profit\n",
    "\n",
    "We have a 3/26 chance of winning 2 dollars = 6/26 dollars expected profit\n",
    "\n",
    "We have a 20/26 chance of losing 2 dollars = 40/26 dollars expected loss\n",
    "\n",
    "Now we simply combine our three individual expecte values into one overall expected value as follows:\n",
    "\n",
    "18/26 + 6/26 - 40/26 = -16/26 dollars expected loss"
   ]
  },
  {
   "cell_type": "markdown",
   "metadata": {},
   "source": [
    "**b) Explain what your calculations indicate about your long-term average profits and losses on this game.**\n",
    "\n",
    "This game is likely to lose you a lot more money than it will win you money. Each run of the game is likely to lose you about 16/26 dollars, so in the long run it isn't a viable option if one wants to make money. Even when you do win the potential gain of 18/26 dollars at best doesn't even come close to the potential losses of 40/26 dollars."
   ]
  },
  {
   "cell_type": "markdown",
   "metadata": {},
   "source": [
    "**c) Should you play this game to win money?**\n",
    "\n",
    "Definitely not, as you play more rounds of this game you will trend towards losses over profits."
   ]
  },
  {
   "cell_type": "markdown",
   "metadata": {},
   "source": [
    "**Problem 4.72:** You buy a lottery ticket that costs 10 dollars per ticket. There are only 100 tickets available to be sold in this lottery. In this  lottery there is one 500 dollar prize, two 100 dollar prizes, and four 25 dollar prizes. Find your expected gain or loss.\n",
    "\n",
    "Lets begin by calculating the probabilities of the particular prizes:\n",
    "\n",
    "We have a 1/100 chance of getting the 500 dollar prize\n",
    "\n",
    "We have a 2/100 chance of getting one of the 100 dollar prizes\n",
    "\n",
    "We have a 4/100 chance of getting one of the 25 dollar prizes\n",
    "\n",
    "In all other outcomes, you will lose 10 dollars.\n",
    "\n",
    "Now we can attach monetary values to each outcome:\n",
    "\n",
    "500 * 1/100 = 5 dollars\n",
    "\n",
    "100 * 2/100 = 2 dollars\n",
    "\n",
    "25 * 4/100 = 1 dollar\n",
    "\n",
    "Potential loss = 10 dollars. Since we are only purchasing a single lottery ticket, we don't have to do 10 * 93/100, as no matter what the worst that could happen is that we lose 10 dollars for the ticket.\n",
    "\n",
    "Now all that is left is to combine everything and calculate out expected loss/gain:\n",
    "\n",
    "5 + 2 + 1 - 10 = -2\n",
    "\n",
    "So you can expect to lose about 2 dollars per game."
   ]
  },
  {
   "cell_type": "markdown",
   "metadata": {},
   "source": [
    "**Problem 4.74:** Suppose that you are offered the following \"deal\". You roll a die. If you roll a six, you win 10 dollars. If you roll a four or five, you win 5 dollars. If you roll a 1, 2, or 3, you pay 6 dollars."
   ]
  },
  {
   "cell_type": "markdown",
   "metadata": {},
   "source": [
    "**a) What are you ultimately interested in here (the value of the roll or the money you win)?**\n",
    "\n",
    "Winning money is entirely dependent on the value of the die, so ultimately we care about the value of the roll."
   ]
  },
  {
   "cell_type": "markdown",
   "metadata": {},
   "source": [
    "**b) In words, define the Random Variable X.**\n",
    "\n",
    "The random variable X will be the value of the roll, and we will be calculating probabilities of certain values."
   ]
  },
  {
   "cell_type": "markdown",
   "metadata": {},
   "source": [
    "**c) List the values that X may take on.**\n",
    "\n",
    "Since X is the value of the roll, it can be 1, 2, 3, 4, 5, or 6."
   ]
  },
  {
   "cell_type": "markdown",
   "metadata": {},
   "source": [
    "**d) Construct a PDF.**\n",
    "\n",
    "Since each value 1 to 6 is represented only 1 time on an average die, there is a 1/6 chance for each face value. Thus, our PDF is:\n",
    "\n",
    "| X | P(X) |\n",
    "|---|------|\n",
    "| 1 | 1/6 |\n",
    "| 2 | 1/6 |\n",
    "| 3 | 1/6 |\n",
    "| 4 | 1/6 |\n",
    "| 5 | 1/6 |\n",
    "| 6 | 1/6 |"
   ]
  },
  {
   "cell_type": "markdown",
   "metadata": {},
   "source": [
    "**e) Over the long run of playing this game, what are your expected average winnings per game?**\n",
    "\n",
    "To calculate this, we first need to compute our individual winnings and losings based on probability:\n",
    "\n",
    "We have a 1/6 chance to roll a 1, which would net us a 6 dollar loss, so we have 6 * 1/6 = 1 dollar expected loss\n",
    "\n",
    "The above is true for a roll of 2, so we have 6 * 1/6 = 1 dollar expected loss\n",
    "\n",
    "The above is true for a roll of 3, so we have 6 * 1/6 = 1 dollar expected loss\n",
    "\n",
    "If we roll a 4, we stand to win 5 dollars, so we have 5 * 1/6 = 5/6 dollars expected gain\n",
    "\n",
    "The above is true for a roll of 5, so we have 5 * 1/6 = 5/6 dollars expected gain\n",
    "\n",
    "If we roll a 6, we stand to win 10 dollars, so we have 10 * 1/6 = 10/6 dollars expected gain\n",
    "\n",
    "Now we must simply combine the expected values based on their sign:\n",
    "\n",
    "5/6 + 5/6 + 10/6 - 3 = 20/6 - 18/6 = 2/6 = 0.33 dollar average gain."
   ]
  },
  {
   "cell_type": "markdown",
   "metadata": {},
   "source": [
    "**f) Based on numerical values, should you take the deal? Explain your decision in complete sentences.**\n",
    "\n",
    "Yep! In part e above, we demonstrated that you are more likely to win money each game ( about 33 cents ), so it is in the players interest to take the game."
   ]
  },
  {
   "cell_type": "markdown",
   "metadata": {},
   "source": [
    "**Problem 4.78:** People visiting video rental stores often rent more than one DVD at a time. The probability distribution for DVD rentals per customer at Video To Go is given in the following table. There is a five-video limit per customer at this store, so nobody ever rents more than five DVDs.\n",
    "\n",
    "| x | P(x) |\n",
    "|---|------|\n",
    "| 0 | 0.03 |\n",
    "| 1 | 0.50 |\n",
    "| 2 | 0.24 |\n",
    "| 3 | 0.66 |\n",
    "| 4 | 0.07 |\n",
    "| 5 | 0.04 |"
   ]
  },
  {
   "cell_type": "markdown",
   "metadata": {},
   "source": [
    "**a) Describe the random variable X in words.**\n",
    "\n",
    "The random variable x is simply the number of movies rented by a customer at this video rental store."
   ]
  },
  {
   "cell_type": "markdown",
   "metadata": {},
   "source": [
    "**b) Find the probability that a customer rents three DVDs.**\n",
    "\n",
    "The total of all P(x) elements should be 1, and we currently have 0.03 + 0.5 + 0.24 + 0.07 + 0.04 = 0.34, so the probability of chosing 3 movies is 0.66."
   ]
  },
  {
   "cell_type": "markdown",
   "metadata": {},
   "source": [
    "**c) Find the probability that a customer rents at least four DVDs.**\n",
    "\n",
    "We are seeking P(x >= 4) which will be the combined probabilities of all values greater than or equal to 4, which would be 0.07 + 0.04 = 0.11. So the probability that the customer rents at least four DVDs is 0.11."
   ]
  },
  {
   "cell_type": "markdown",
   "metadata": {},
   "source": [
    "**d) Find the probability that a customer rents at most two DVDs.**\n",
    "\n",
    "We are seeking P( x <= 2) which will be the combined probabilities of all values less than or equal to 2, which would be 0.03 + 0.50 + 0.24 = 0.77."
   ]
  },
  {
   "cell_type": "markdown",
   "metadata": {},
   "source": [
    "Another shop, Entertainment Headquarters, rents DVDs and video games. The probability distribution for DVD rentals per customer at thsi shop is given as follows. They also have a five-DVD limit per customer.\n",
    "\n",
    "| x | P(x) |\n",
    "|---|------|\n",
    "| 0 | 0.35 |\n",
    "| 1 | 0.25 |\n",
    "| 2 | 0.20 |\n",
    "| 3 | 0.10 |\n",
    "| 4 | 0.05 |\n",
    "| 5 | 0.05 |"
   ]
  },
  {
   "cell_type": "markdown",
   "metadata": {},
   "source": [
    "**e) At which store is the expected number of DVDs rented per customer higher?**\n",
    "\n",
    "We are essentially computing an average here of each different store, and then comparing those averages. We compute this average in the same way we computed average loss/gain in some of the previous problems.\n",
    "\n",
    "$ \\mu = \\Sigma x*P(x) $\n",
    "\n",
    "Starting with Video To Go:\n",
    "\n",
    "$ \\mu = 0 + 0.5 + 2(0.24) + 3(0.66) + 4(0.07) + 5(0.04) $\n",
    "\n",
    "And now with Entertainment HQ:\n",
    "\n",
    "$ \\mu = 0 + 0.25 + 2(0.20) + 3(0.10) + 4(0.05) + 5(0.05) $"
   ]
  },
  {
   "cell_type": "code",
   "execution_count": 24,
   "metadata": {},
   "outputs": [
    {
     "name": "stdout",
     "output_type": "stream",
     "text": [
      "VTG avg: 3.4400000000000004\n",
      "EHQ avg: 1.4000000000000001\n"
     ]
    }
   ],
   "source": [
    "print(\"VTG avg:\",0+0.5+(2*0.24)+(3*0.66)+(4*0.07)+(5*0.04))\n",
    "print(\"EHQ avg:\",0+0.25+(2*0.20)+(3*0.10)+(4*0.05)+(5*0.05))"
   ]
  },
  {
   "cell_type": "markdown",
   "metadata": {},
   "source": [
    "So it would seem that, on average, there are more rentals at Video To Go than there are at Entertainment HQ."
   ]
  },
  {
   "cell_type": "markdown",
   "metadata": {},
   "source": [
    "**f) If Video to Go estimates that they will have 300 customers next week, how many DVDs do they expect to rent next week? Answer in sentence form.**\n",
    "\n",
    "Well, if Video To Go is expecting 300 customers, and if Video To Go customers rent about 3 movies on average, then it is reasonable to assume that each customer will rent approximately 3 movies which would equate to about 900 video rentals."
   ]
  },
  {
   "cell_type": "markdown",
   "metadata": {},
   "source": [
    "**g) If Video to Go expects 300 customers next week, and Entertainment HQ projects they will have 420 customers, for which stoer is the expected number of DVD rentals for next week higher? Explain.**\n",
    "\n",
    "So, we can preform this calculation just like the previous part. Our average is a pretty solid measure of how many films we can expect each customer to rent, so multiplying that average by the number of expected customers gives us a pretty good idea of what we can expect when it comes to sales. We know already that VTG is expected to rent something like 900 DVDs to 300 customers. For EHQ, we are expecting about 420 customers, but those customers are only expected to rent about 1 movie per individual, so EHQ only has an expected rental count of 420, so we would expect VTG to have the higher weekly rentals."
   ]
  },
  {
   "cell_type": "markdown",
   "metadata": {},
   "source": [
    "**h) Which of the two video stores experiences more variation in the number of DVD rentals per customer? How do you know that?**\n",
    "\n",
    "Well, this question is essentially asking us which store has a greater standard deviation. We can interpret \"which store experiences more variance in the number of DVD rentals per customer\" as \"which store has a greater customer to customer deviation\". Standard deviation is a value we can calulate using the following equation:\n",
    "\n",
    "$\\sigma = \\sqrt{\\Sigma(x - \\mu)^2p(x)}$\n",
    "\n",
    "Instead of attempting to guess at which has a higher deviation by looking at the data, I am just going to preform the calculation so I can determine for sure which has the highest deviation customer to customer.\n",
    "\n",
    "Thus, for VTG we have\n",
    "\n",
    "$\\sigma = \\sqrt{\\Sigma(x - \\mu)^2p(x)}$\n",
    "\n",
    "| x | P(x) | $(X - \\mu)^2p(x)$ |\n",
    "|---|------|-------------------|\n",
    "| 0 | 0.03 | $(0 - 3.44)^2(0.03)$ |\n",
    "| 1 | 0.50 | $(1 - 3.44)^2(0.50)$ |\n",
    "| 2 | 0.24 | $(2 - 3.44)^2(0.24)$ |\n",
    "| 3 | 0.66 | $(3 - 3.44)^2(0.66)$ |\n",
    "| 4 | 0.07 | $(4 - 3.44)^2(0.07)$ |\n",
    "| 5 | 0.04 | $(5 - 3.44)^2(0.04)$ |"
   ]
  },
  {
   "cell_type": "code",
   "execution_count": 25,
   "metadata": {},
   "outputs": [
    {
     "name": "stdout",
     "output_type": "stream",
     "text": [
      "VTG standard deviation: 2.0190453189564614\n"
     ]
    }
   ],
   "source": [
    "a = ((0-3.44)**2)*(0.03)\n",
    "b = ((1 - 3.44)**2)*(0.50)\n",
    "c = ((2 - 3.44)**2)*(0.24)\n",
    "d = ((3 - 3.44)**2)*(0.66)\n",
    "e = ((4 - 3.44)**2)*(0.07)\n",
    "f = ((5 - 3.44)**2)*(0.04)\n",
    "\n",
    "print(\"VTG standard deviation:\", (a + b + c + d + e + f)**(1/2))"
   ]
  },
  {
   "cell_type": "markdown",
   "metadata": {},
   "source": [
    "Now, for EHQ we have:\n",
    "\n",
    "| x | P(x) | $(X - \\mu)^2p(x)$ |\n",
    "|---|------|-------------------|\n",
    "| 0 | 0.35 | $(0 - 1.4)^2(0.35)$ |\n",
    "| 1 | 0.25 | $(1 - 1.4)^2(0.25)$ |\n",
    "| 2 | 0.20 | $(2 - 1.4)^2(0.20)$ |\n",
    "| 3 | 0.10 | $(3 - 1.4)^2(0.10)$ |\n",
    "| 4 | 0.05 | $(4 - 1.4)^2(0.05)$ |\n",
    "| 5 | 0.05 | $(5 - 1.4)^2(0.05)$ |"
   ]
  },
  {
   "cell_type": "code",
   "execution_count": 26,
   "metadata": {},
   "outputs": [
    {
     "name": "stdout",
     "output_type": "stream",
     "text": [
      "EHQ standard deviation: 1.42828568570857\n"
     ]
    }
   ],
   "source": [
    "a = ((0-1.4)**2)*(0.35)\n",
    "b = ((1 - 1.4)**2)*(0.25)\n",
    "c = ((2 - 1.4)**2)*(0.20)\n",
    "d = ((3 - 1.4)**2)*(0.10)\n",
    "e = ((4 - 1.4)**2)*(0.05)\n",
    "f = ((5 - 1.4)**2)*(0.05)\n",
    "\n",
    "print(\"EHQ standard deviation:\", (a + b + c + d + e + f)**(1/2))"
   ]
  },
  {
   "cell_type": "markdown",
   "metadata": {},
   "source": [
    "So VTG experiences more deviation with rentals, and I know this because I did the calculation above."
   ]
  },
  {
   "cell_type": "markdown",
   "metadata": {},
   "source": [
    "**Problem 4.80:** Florida State University has 14 statistics classes scheduled for its Summer 2013 term. One class has space available for 30 students, eight class have space for 60 students, one class has space for 70 students, and four classes have space for 100 students."
   ]
  },
  {
   "cell_type": "markdown",
   "metadata": {},
   "source": [
    "**a) What is the average class size assuming each class is filled to capacity?**\n",
    "\n",
    "We can perform this calculation in the same way we performed the gain/loss calculations in previous problems by substituing the class size in as the random variable X instead of the money.\n",
    "\n",
    "We have 1/14 classes with seating size of 30, so we have 1/14 * 30 = 30/14\n",
    "\n",
    "We have 8/14 classes with a seating size of 60, so we have 8/14 * 60 = 480/14\n",
    "\n",
    "We have 1/14 classes with a seating size of 70, so we have 1/14 * 70 = 70/14\n",
    "\n",
    "We have 4/14 classes with a seating size of 100, so we have 4/14 * 100 = 400/14\n",
    "\n",
    "And thus, we have\n",
    "\n",
    "(30 + 480 + 70 + 400)/14 = 980/14 = 70\n",
    "\n",
    "So the average class size is 70."
   ]
  },
  {
   "cell_type": "markdown",
   "metadata": {},
   "source": [
    "**b) Space is available for 980 students. Suppose that each class is filled to capacity and select a statistics student at random. Let the random variable X equal the size of the student's class. Define the PDF for X.**\n",
    "\n",
    "| X | P(X) |\n",
    "|---|------|\n",
    "| 30 | 1/14 |\n",
    "| 60 | 8/14 |\n",
    "| 70 | 1/14 |\n",
    "|100| 4/14 |"
   ]
  },
  {
   "cell_type": "markdown",
   "metadata": {},
   "source": [
    "**c) Find the mean of X.**\n",
    "\n",
    "We have actually already preformed this calculation in part a, since X is our class size, finding the mean of X is the same thing as finding the average class size as we did in part a. We started by multiplying each random variable X by the probability of that class size, and then summing all those values. Thus, we have\n",
    "\n",
    "(30 + 480 + 70 + 400)/14 = 980/14 = 70"
   ]
  },
  {
   "cell_type": "markdown",
   "metadata": {},
   "source": [
    "**d) Find the standard deviation of X.**\n",
    "\n",
    "The calculation for the standard deviation of X is\n",
    "\n",
    "$\\sigma = \\sqrt{\\Sigma(x - \\mu)^2p(x)}$\n",
    "\n",
    "So, updating our PDF, we have\n",
    "\n",
    "| X | P(X) | $(X - \\mu)^2p(x)$|\n",
    "|---|------|------------------|\n",
    "| 30 | 1/14 | $(30 - 70)^2 * (1/14)$ |\n",
    "| 60 | 8/14 | $(60 - 70)^2 * (8/14)$ |\n",
    "| 70 | 1/14 | $(70 - 70)^2 * (1/14)$ |\n",
    "|100| 4/14 | $(100 - 70)^2 * (4/14)$ |\n",
    "\n",
    "and we actually get to use a coding cell here to do some math!"
   ]
  },
  {
   "cell_type": "code",
   "execution_count": 2,
   "metadata": {},
   "outputs": [
    {
     "name": "stdout",
     "output_type": "stream",
     "text": [
      "114.28571428571428\n",
      "57.14285714285714\n",
      "0.0\n",
      "257.1428571428571\n"
     ]
    }
   ],
   "source": [
    "print((30 - 70)**2 * (1/14))\n",
    "print((60 - 70)**2 * (8/14))\n",
    "print((70 - 70)**2 * (1/14))\n",
    "print((100 - 70)**2 * (4/14))"
   ]
  },
  {
   "cell_type": "markdown",
   "metadata": {},
   "source": [
    "So now all we have left to is combine these values and take the square root of the result:\n",
    "\n",
    "$\\sqrt{114.29 + 57.14 + 0 + 257.17}$"
   ]
  },
  {
   "cell_type": "code",
   "execution_count": 4,
   "metadata": {},
   "outputs": [
    {
     "data": {
      "text/plain": [
       "20.70265683432926"
      ]
     },
     "execution_count": 4,
     "metadata": {},
     "output_type": "execute_result"
    }
   ],
   "source": [
    "(114.29 + 57.14 + 257.17)**(1/2)"
   ]
  },
  {
   "cell_type": "markdown",
   "metadata": {},
   "source": [
    "So the standard deviation of class sizes is\n",
    "\n",
    "$\\sigma = 20.703$"
   ]
  },
  {
   "cell_type": "code",
   "execution_count": null,
   "metadata": {},
   "outputs": [],
   "source": []
  }
 ],
 "metadata": {
  "kernelspec": {
   "display_name": "Python 3",
   "language": "python",
   "name": "python3"
  },
  "language_info": {
   "codemirror_mode": {
    "name": "ipython",
    "version": 3
   },
   "file_extension": ".py",
   "mimetype": "text/x-python",
   "name": "python",
   "nbconvert_exporter": "python",
   "pygments_lexer": "ipython3",
   "version": "3.8.5"
  }
 },
 "nbformat": 4,
 "nbformat_minor": 4
}

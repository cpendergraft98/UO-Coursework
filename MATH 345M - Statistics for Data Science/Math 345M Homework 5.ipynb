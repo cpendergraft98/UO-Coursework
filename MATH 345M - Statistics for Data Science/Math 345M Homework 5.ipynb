{
 "cells": [
  {
   "cell_type": "markdown",
   "metadata": {},
   "source": [
    "**Math 345M Homework 4**\n",
    "\n",
    "**Author: Cole Pendergraft**\n",
    "\n",
    "**Chapter 9 Problems 35, 36, 41, 42, 43, 44, 45, 46, 47, 68, 69, 74, 76 (Use Appendix E to format these hypothesis tests)**"
   ]
  },
  {
   "cell_type": "code",
   "execution_count": 1,
   "metadata": {},
   "outputs": [],
   "source": [
    "import scipy.stats as sp\n",
    "import numpy as np\n",
    "import matplotlib.pyplot as plt"
   ]
  },
  {
   "cell_type": "markdown",
   "metadata": {},
   "source": [
    "**Problem 9.35:** It is believed that the mean height of high school students who play basketball on the school team is 73 inches with a standard deviation of 1.8 inches. A random sample of 40 players is chosen. The sample mean was 71 inches, and the sample standard deviation was 1.5 years. Do the data support the claim that the mean height is less than 73 inches? The p-value is almost zero. State the null and alternative hypotheses and interpret the p-value.\n",
    "\n",
    "We know that we are never able to prove a null hypothesis, only reject it or fail to reject it. Due to this, we know that the null hypothesis is not \"the mean height is < 73 inches\", because we are seeking to *prove* that statement, and we can't prove a null hypothesis. Thus, it stands to reason that the null hypothesis should be such that if we are able to reject it, then we are effectively able to prove the claim that the mean height is < 73 inches. Thus, the null hypothesis must be that \"the mean is $\\geq$ 73 inches\", and if we can reject that hypothesis then we can say we've proven our claim. If we are unable to reject our hypothesis, then we don't have enough information to say whether our claim is true or not. Since our alternative hypothesis is the contradiction to our null hypothesis, then our alternative hypothesis must be the original claim. Further, the symbols associated with the null hypothesis are =, $\\leq$, and $\\geq$. The symbols associated with the alternative hypothesis are $\\neq$, <, and >, and we could've figured out the null and alternative hypotheses with that information alone.\n",
    "\n",
    "$H_0$: $\\mu$ $\\geq$ 73 inches.\n",
    "\n",
    "$H_a$: $\\mu$ < 73 inches.\n",
    "\n",
    "We know that the p-value is the probability that, assuming the null hypothesis is true, the result from another randomly selected sample will be as extreme or more extreme as the results obtained from the given sample. Put simply, the p-value is a measure of how likely it is that, assuming the null hypothesis is true, we are going to be able to replicate the results using a different sample. In this case, our p-value is nearing zero, so even if our null hypothesis is true, it seems like it would be an outlier and unlikely to be replicated with another sample, so we should reject the null hypothesis in favor of the alternative hypothesis."
   ]
  },
  {
   "cell_type": "markdown",
   "metadata": {},
   "source": [
    "========================================================================================================================="
   ]
  },
  {
   "cell_type": "markdown",
   "metadata": {},
   "source": [
    "**Problem 9.36:** The mean age of graduate students at a University is at most 31 years with a standard deviation of two years. A random sample of 15 graduate students is taken. The sample mean is 32 years and the sample standard deviation is three years. Are the data significant at the 1% level? The p-value is 0.0264. State the null and alternative hypotheses and interpret the p-value.\n",
    "\n",
    "A little trickier to discern than the last one, but the claim that is effectively being made here is that \"the mean age of graduate students is $\\leq$ 31\". Since it uses $\\leq$, this must be the null hypothesis.\n",
    "\n",
    "$H_0$: $\\mu$ $\\leq$ 31.\n",
    "\n",
    "$H_a$: $\\mu$ > 31.\n",
    "\n",
    "Another way to use the p-value to determine if the null hypothesis should be rejected or not is to compare it to $\\alpha$, which is called the \"significance level\" and is the probability of a Type I error. If $\\alpha$ > p-value, we reject $H_0$, and if $\\alpha \\leq$ p-value, then we cannot reject the null hypothesis. In this problem, we are given that $\\alpha$ = 1% = 0.01 and p = 0.0264. Thus, we have that 0.01 $\\leq$ 0.0246, which means we cannot reject our null hypothesis, so there isn't enough evidence to say that the mean age of graduating students is > 31. Unlike the last problem, where being unable to reject the null hypothesis would suggest that our initial claim may not be true, being unable to reject the null hypothesis this time suggests that the initial claim may indeed be true. However, we don't have enough information to say for sure that $H_0$ is true, just enough to know that we shouldn't throw it away because the data is more supportive of $H_0$ than it is of $H_a$."
   ]
  },
  {
   "cell_type": "code",
   "execution_count": 2,
   "metadata": {},
   "outputs": [],
   "source": [
    "# It's pretty easy to compare alpha and p by hand, but in order to write at least some code on this project I've included\n",
    "# a function that automates the checking, hopefully it can be used in a different function later on down the line.\n",
    "\n",
    "def rejectCheck(alpha, p):\n",
    "    # Checks if a null hypothesis should be rejected. A return of 'True' indicates H_0 should be rejected.\n",
    "    # A return of 'False' indicates H_0 should not be rejected.\n",
    "    return alpha > p"
   ]
  },
  {
   "cell_type": "code",
   "execution_count": 3,
   "metadata": {},
   "outputs": [
    {
     "data": {
      "text/plain": [
       "False"
      ]
     },
     "execution_count": 3,
     "metadata": {},
     "output_type": "execute_result"
    }
   ],
   "source": [
    "rejectCheck(0.01, 0.0264)"
   ]
  },
  {
   "cell_type": "markdown",
   "metadata": {},
   "source": [
    "========================================================================================================================="
   ]
  },
  {
   "cell_type": "markdown",
   "metadata": {},
   "source": [
    "*Use the following information to answer the next seven exercises:* Suppose that a recent article stated that the mean time spent in jail by a first-time convicted burglar is 2.5 years. A study was then done to see if the mean time has increased in the new century. A random sample of 26 first-time convicted burglars in a recent year was picked. The mean length of time in jail from the survey was three years with a standard deviation of 1.8 years. Suppose that it is somehow known that the population standard deviation is 1.5. Conduct a hypothesis test to determine if the mean length of jail time has increased. Assume the distribution of jail times is approximately normal."
   ]
  },
  {
   "cell_type": "markdown",
   "metadata": {},
   "source": [
    "========================================================================================================================="
   ]
  },
  {
   "cell_type": "markdown",
   "metadata": {},
   "source": [
    "**Problme 9.41:** Is this a test of means or proportions?\n",
    "\n",
    "The problem declares that the study was \"done to see if the **mean** time has increased in the new century\", which leads me to believe that this is a test of means."
   ]
  },
  {
   "cell_type": "markdown",
   "metadata": {},
   "source": [
    "========================================================================================================================="
   ]
  },
  {
   "cell_type": "markdown",
   "metadata": {},
   "source": [
    "**Problem 9.42:** What symbol represents the random variable for this test?\n",
    "\n",
    "In this problem, we are specifically looking at how the *mean length of jail time* for the sample of 26 burglars has chaged. We are specifically looking at means, so the random variable we would use is $\\bar X$."
   ]
  },
  {
   "cell_type": "markdown",
   "metadata": {},
   "source": [
    "========================================================================================================================="
   ]
  },
  {
   "cell_type": "markdown",
   "metadata": {},
   "source": [
    "**Problem 9.43:** In words, define the random variable for this test.\n",
    "\n",
    "Our random variable $\\bar X$ is the mean length of time spent in jail by the 26 sampled burglars."
   ]
  },
  {
   "cell_type": "markdown",
   "metadata": {},
   "source": [
    "========================================================================================================================="
   ]
  },
  {
   "cell_type": "markdown",
   "metadata": {},
   "source": [
    "**Problem 9.44:** Is $\\sigma$ known and, if so, what is it?\n",
    "\n",
    "Yes it is given. The symbol $\\sigma$ represents the population standard deviation, which we are told is 1.5."
   ]
  },
  {
   "cell_type": "markdown",
   "metadata": {},
   "source": [
    "========================================================================================================================="
   ]
  },
  {
   "cell_type": "markdown",
   "metadata": {},
   "source": [
    "**Problem 9.45:** Calculate the following:"
   ]
  },
  {
   "cell_type": "markdown",
   "metadata": {},
   "source": [
    "**a)** $\\bar x$\n",
    "\n",
    "The symbol $\\bar x$ represents the sample mean, which we have been told is 3 years."
   ]
  },
  {
   "cell_type": "markdown",
   "metadata": {},
   "source": [
    "**b)** $\\sigma$\n",
    "\n",
    "From problem 9.44 we know that $\\sigma$ = 1.5 years."
   ]
  },
  {
   "cell_type": "markdown",
   "metadata": {},
   "source": [
    "**c)** $s_x$\n",
    "\n",
    "The symbol $s_x$ represents the sample standard deviation, which we have been told is 1.8."
   ]
  },
  {
   "cell_type": "markdown",
   "metadata": {},
   "source": [
    "**d)** n\n",
    "\n",
    "The symbol n represents the size of sample taken from a population, which we have been told is 26."
   ]
  },
  {
   "cell_type": "markdown",
   "metadata": {},
   "source": [
    "========================================================================================================================="
   ]
  },
  {
   "cell_type": "markdown",
   "metadata": {},
   "source": [
    "**Problem 9.46:** Since both $\\sigma$ and $s_x$ are given, which should be used? In one to two complete sentences, explain why.\n",
    "\n",
    "We know that $\\sigma$ can be considered the \"true\" standard deviation, because it represents the standard deviation for the entirety of a population from which a sample is taken. Alternatively, calcuating $s_x$ is an attempt at approximating $\\sigma$ using only the sample size. Thus, we should use $\\sigma$, as $s_x$ is simply aiming to approximate $\\sigma$ from just the sample of 26, whereas $\\sigma$ is the exact standard deviation for the whole population and therefore also the exact standard deviation for the sample."
   ]
  },
  {
   "cell_type": "markdown",
   "metadata": {},
   "source": [
    "========================================================================================================================="
   ]
  },
  {
   "cell_type": "markdown",
   "metadata": {},
   "source": [
    "**Problem 9.47:** State the distribution to use for the hypothesis test.\n",
    "\n",
    "We are given that the distribution is approximately normal and we know that our random variable is $\\bar X$. We know that a normal distribution for $\\bar X$ is given as N($\\mu$, $\\sigma \\over \\sqrt{n}$). From our problem description, we have that $\\mu$ = 2.5, $\\sigma$ = 1.5, and n = 26."
   ]
  },
  {
   "cell_type": "code",
   "execution_count": 4,
   "metadata": {},
   "outputs": [],
   "source": [
    "#This is more code that is kind of unnecessary, but I feel like I need to write more code on this assignment.\n",
    "\n",
    "def barXDist(mu, sigma, n):\n",
    "    # mu is the population mean\n",
    "    # sigma is the population standard deviation\n",
    "    # n is the sample size\n",
    "    new_sig = sigma/n**(1/2)\n",
    "    print(f\"X_bar ~ N({mu}, {new_sig})\")\n",
    "    return None"
   ]
  },
  {
   "cell_type": "code",
   "execution_count": 5,
   "metadata": {},
   "outputs": [
    {
     "name": "stdout",
     "output_type": "stream",
     "text": [
      "X_bar ~ N(2.5, 0.29417420270727607)\n"
     ]
    }
   ],
   "source": [
    "barXDist(2.5, 1.5, 26)"
   ]
  },
  {
   "cell_type": "markdown",
   "metadata": {},
   "source": [
    "========================================================================================================================="
   ]
  },
  {
   "cell_type": "markdown",
   "metadata": {},
   "source": [
    "**Problem 9.68:** When a new drug is created, the pharmaceutical company must subject it to testing before receiving the necessary permission from the Food and Drug Administration to market the drug. Suppose the null hypothesis is \"the drug is unsafe.\" What is the Type II error?"
   ]
  },
  {
   "cell_type": "markdown",
   "metadata": {},
   "source": [
    "~~**a)** To conclude the drug is safe when, in fact, it is unsafe.~~"
   ]
  },
  {
   "cell_type": "markdown",
   "metadata": {},
   "source": [
    "**b)** Not to conclude the drug is safe when, in fact, it is safe.\n",
    "\n",
    "A Type II error is defined as \"the decision not to reject $H_0$ when, in fact, $H_0$ is false\". $H_0$ says that the drug is unsafe. Not rejecting $H_0$ would be to not conclude the drug is safe. $H_0$ being false would be to conclude that the drug is safe. Thus, a Type II error would be not concluding the drug is safe (not rejecting $H_0$) when, in fact, it is safe ($H_0$ is false)."
   ]
  },
  {
   "cell_type": "markdown",
   "metadata": {},
   "source": [
    "~~**c)** To conclude the drug is safe when, in fact, it is safe.~~"
   ]
  },
  {
   "cell_type": "markdown",
   "metadata": {},
   "source": [
    "~~**d)** Not to conclude the drug is unsafe when, in fact, it is unsafe.~~"
   ]
  },
  {
   "cell_type": "markdown",
   "metadata": {},
   "source": [
    "========================================================================================================================="
   ]
  },
  {
   "cell_type": "markdown",
   "metadata": {},
   "source": [
    "**Problem 9.69:** A statistics instructor believes that fewer than 20% of Evergreen Valley College students attend the opening midnight showing of the latest Harry Potter movie. She surveys 84 of her students and finds that 11 of them attended the midnight showing. The Type I error is to conclude that the percent of EVC students who attended is ______.\n",
    "\n",
    "The claim is that \"< 20% of EVC students attend the opening of the midnight showing\". From the use of the < symbol, we can determine the following null and alternative hypotheses:\n",
    "\n",
    "$H_0$: $\\geq$ 20% of EVC students attend the opening of the midnight showing.\n",
    "\n",
    "$H_a$: < 20% of EVC students attend the opening of the midnight showing."
   ]
  },
  {
   "cell_type": "markdown",
   "metadata": {},
   "source": [
    "~~**a)** at least 20%, when in fact, it is less than 20%.~~"
   ]
  },
  {
   "cell_type": "markdown",
   "metadata": {},
   "source": [
    "~~**b)** 20%, when in fact, it is 20%.~~"
   ]
  },
  {
   "cell_type": "markdown",
   "metadata": {},
   "source": [
    "**c)** less than 20%, when in fact, it is at least 20%.\n",
    "\n",
    "A Type I error is defined as \"the decision to reject $H_0$ when, in fact, $H_0$ is true\". If $H_0$ is true, that means that at least 20% of students attend the midnight showing. If we reject $H_0$, then we are saying that less than 20% attend the midnight showing. Thus, a Type 1 error would be to assume < 20% attend the midnight showing (reject $H_0$) when, in fact, at least 20% attend the midnight showing ($H_0$ is true)."
   ]
  },
  {
   "cell_type": "markdown",
   "metadata": {},
   "source": [
    "~~**d)** less than 20%, when in fact, it is less than 20%.~~"
   ]
  },
  {
   "cell_type": "markdown",
   "metadata": {},
   "source": [
    "========================================================================================================================="
   ]
  },
  {
   "cell_type": "markdown",
   "metadata": {},
   "source": [
    "**Problem 9.74:** A particular brand of tires claims that its deluxe tire averages at least 50,000 miles before it needs to be replaced. From past studies of this tire, the standard deviation is known to be 8,000. A survey of owners of that tire design is conducted. From the 28 tires surveyed, the mean lifespan was 46,500 miles with a standard deviation of 9,800 miles. Using alpha = 0.05, is the data highly inconsistent with the claim?\n",
    "\n",
    "Important values derived from above:\n",
    "\n",
    "**=Appendix E Formatting=**"
   ]
  },
  {
   "cell_type": "code",
   "execution_count": 6,
   "metadata": {},
   "outputs": [],
   "source": [
    "mu = 50000\n",
    "\n",
    "std = 8000\n",
    "\n",
    "samp_mu = 46500\n",
    "\n",
    "samp_std = 9800\n",
    "\n",
    "n = 28\n",
    "\n",
    "alpha = 0.05"
   ]
  },
  {
   "cell_type": "markdown",
   "metadata": {},
   "source": [
    "**a)** Give $H_0$.\n",
    "\n",
    "Claim: average dist before needing replacement tires $\\geq$ 50,000 miles.\n",
    "\n",
    "Can conclude from the use of $\\geq$ the followning null hypothesis:\n",
    "\n",
    "$H_0$: $\\mu$ $\\geq$ 50,000 miles."
   ]
  },
  {
   "cell_type": "markdown",
   "metadata": {},
   "source": [
    "**b)** Give $H_a$\n",
    "\n",
    "$H_a$: $\\mu$ < 50,000 miles.\n",
    "\n",
    "We know from this that we are performing a single tailed test."
   ]
  },
  {
   "cell_type": "markdown",
   "metadata": {},
   "source": [
    "**c)** In words, state the random variable and what it represents.\n",
    "\n",
    "We are discussing *average* distances, so our random variable will be $\\bar X$.\n",
    "\n",
    "$\\bar X$ is the average lifespan of tires from the 28 tires surveyed."
   ]
  },
  {
   "cell_type": "markdown",
   "metadata": {},
   "source": [
    "**d)** State the distribution for the test."
   ]
  },
  {
   "cell_type": "code",
   "execution_count": 7,
   "metadata": {},
   "outputs": [
    {
     "name": "stdout",
     "output_type": "stream",
     "text": [
      "X_bar ~ N(50000, 1511.8578920369089)\n"
     ]
    }
   ],
   "source": [
    "barXDist(mu, std, n)"
   ]
  },
  {
   "cell_type": "markdown",
   "metadata": {},
   "source": [
    "**e)** What is the test statistic?\n",
    "\n",
    "The test statistic is the same as calcuating the z-score using the sample mean as our observed x value."
   ]
  },
  {
   "cell_type": "code",
   "execution_count": 8,
   "metadata": {},
   "outputs": [],
   "source": [
    "def xBarTestStat(x, n, mu, sigma):\n",
    "    # Function ONLY works if random variable is X bar.\n",
    "    # x is the sample mean\n",
    "    # n is the sample size\n",
    "    # mu is the population mean\n",
    "    # sigma is the population standard deviation\n",
    "    return (x-mu)/(sigma/(n**(1/2)))"
   ]
  },
  {
   "cell_type": "markdown",
   "metadata": {},
   "source": [
    "In this problem, we have that our sample mean is $\\bar x$ = 46,500, our sample size n = 28, our population mean is $\\mu$ = 50000, and our population standard deviation $\\sigma$ = 8000."
   ]
  },
  {
   "cell_type": "code",
   "execution_count": 9,
   "metadata": {},
   "outputs": [
    {
     "name": "stdout",
     "output_type": "stream",
     "text": [
      "Our test statistic is -2.315032397181517\n"
     ]
    }
   ],
   "source": [
    "z =xBarTestStat(samp_mu, n, mu, std)\n",
    "print(\"Our test statistic is\", z)"
   ]
  },
  {
   "cell_type": "markdown",
   "metadata": {},
   "source": [
    "**f)** What is the p-value? In one or two complete sentences, explain what the p-value means for this problem.\n",
    "\n",
    " Since we already have Z test statistic and our distribution is normal, we can use scipy to find the p-value of the associated z score using norm.sf."
   ]
  },
  {
   "cell_type": "code",
   "execution_count": 10,
   "metadata": {},
   "outputs": [
    {
     "name": "stdout",
     "output_type": "stream",
     "text": [
      "P-value is 0.010305579572800304\n"
     ]
    }
   ],
   "source": [
    "p = sp.norm.sf(abs(z))\n",
    "print(\"P-value is\", p)"
   ]
  },
  {
   "cell_type": "markdown",
   "metadata": {},
   "source": [
    "From this p-value we can determine that if our null hypothesis is true, there is about a 1% chance that we will be able to replicate the same (or more extreme) results with a different random sample. This implies that if our null hypothesis is true, it *might* to be an outlier, as there is only a 1% chance that those results can be replicated."
   ]
  },
  {
   "cell_type": "markdown",
   "metadata": {},
   "source": [
    "**g)** Use the previous information to sketch a picture of this situation. Clearly lable and scale the horizontal axis and shade the region(s) corresponding to the p-value."
   ]
  },
  {
   "cell_type": "code",
   "execution_count": 11,
   "metadata": {},
   "outputs": [
    {
     "data": {
      "image/png": "[encoded data removed]",
      "text/plain": [
       "<Figure size 720x504 with 1 Axes>"
      ]
     },
     "metadata": {
      "needs_background": "light"
     },
     "output_type": "display_data"
    }
   ],
   "source": [
    "sigma_avg = std/(n**(1/2))\n",
    "\n",
    "x = np.arange(42000, samp_mu, 0.01)\n",
    "x_all = np.arange(42000, 55000, 0.01)\n",
    "y = sp.norm.pdf(x,mu,sigma_avg)\n",
    "y2 = sp.norm.pdf(x_all,mu,sigma_avg)\n",
    "\n",
    "fig, ax = plt.subplots(figsize = (10, 7))\n",
    "plt.style.use('fivethirtyeight')\n",
    "ax.plot(x_all, y2)\n",
    "\n",
    "ax.fill_between(x, y, 0, alpha = 0.3, color = 'b')\n",
    "ax.fill_between(x_all, y2, 0, alpha = 0.1)\n",
    "ax.set_xlim([45000, 55000])\n",
    "ax.set_xlabel('P-value shaded')\n",
    "ax.set_yticklabels([])\n",
    "plt.show()"
   ]
  },
  {
   "cell_type": "markdown",
   "metadata": {},
   "source": [
    "**h)** Indicate the correct decision (\"reject\" or \"do not reject\" the null hypothesis), the reason for it, and write an appropriate conclusion using complete sentences.\n",
    "\n",
    "h.1) Give $\\alpha$\n",
    "\n",
    "We have that $\\alpha$ = 0.05"
   ]
  },
  {
   "cell_type": "code",
   "execution_count": 12,
   "metadata": {},
   "outputs": [
    {
     "data": {
      "text/plain": [
       "True"
      ]
     },
     "execution_count": 12,
     "metadata": {},
     "output_type": "execute_result"
    }
   ],
   "source": [
    "rejectCheck(alpha, p)"
   ]
  },
  {
   "cell_type": "markdown",
   "metadata": {},
   "source": [
    "h.2) State your decision\n",
    "\n",
    "We should reject $H_0$.\n",
    "\n",
    "h.3) Explain the reason for your decision\n",
    "\n",
    "My function returned that p < $\\alpha$, which indicates that we should reject $H_0$.\n",
    "\n",
    "h.4) Give a conclusion.\n",
    "\n",
    "We have sufficient enough evidence to reject our null hypothesis that the average lifespan of the tires is $\\geq$ 50000, suggesting that our alternative hypothesis that the lifespan of tires is < 50000 is likely to be true. Further, our data is highly inconsistent with the claim at a 0.05 significance level."
   ]
  },
  {
   "cell_type": "markdown",
   "metadata": {},
   "source": [
    "**i)** Construct a 95% confidence interval for the true mean of proportion. Include a sketch of the graph of the situation. Label the point estimate and the lower and upper bounds of the confidence interval.\n",
    "\n",
    "We have a normal distribution here, so we can simply use the sp.norm.interval module to cacluate a 95% confidence interval using our sample mean and standard deviation of our distribution."
   ]
  },
  {
   "cell_type": "code",
   "execution_count": 13,
   "metadata": {},
   "outputs": [
    {
     "name": "stdout",
     "output_type": "stream",
     "text": [
      "95% confidence interval is (43536.81298186501, 49463.18701813499)\n"
     ]
    }
   ],
   "source": [
    "ci = sp.norm.interval(0.95, 46500, 8000/(28**(1/2)))\n",
    "print(\"95% confidence interval is\", ci)"
   ]
  },
  {
   "cell_type": "code",
   "execution_count": 14,
   "metadata": {},
   "outputs": [
    {
     "data": {
      "image/png": "[encoded data removed]",
      "text/plain": [
       "<Figure size 720x504 with 1 Axes>"
      ]
     },
     "metadata": {},
     "output_type": "display_data"
    }
   ],
   "source": [
    "sigma_avg = std/(n**(1/2))\n",
    "\n",
    "x_all = np.arange(42000, 55000, 0.01)\n",
    "x_other = np.arange(43536.81298186501, 49463.18701813499, 0.01)\n",
    "y = sp.norm.pdf(x_all,samp_mu,sigma_avg)\n",
    "y2 = sp.norm.pdf(x_other, samp_mu, sigma_avg)\n",
    "\n",
    "fig, ax = plt.subplots(figsize = (10, 7))\n",
    "plt.style.use('fivethirtyeight')\n",
    "ax.plot(x_all, y)\n",
    "\n",
    "plt.scatter(46500, 0, s = 100)\n",
    "plt.annotate(\"Centered at 46500\", (46500, 0))\n",
    "plt.scatter(43536.81298186501, 0, s=100)\n",
    "plt.annotate(\"Lower Bound = 43536\", (43536.81298186501, 0))\n",
    "plt.scatter(49463.18701813499, 0, s=100)\n",
    "plt.annotate(\"Upper Bound = 49463\", (49463.18701813499, 0))\n",
    "ax.fill_between(x_other, y2, 0, alpha = 0.1, color = 'b')\n",
    "ax.fill_between(x_all, y, 0, alpha = 0.1, color = 'b')\n",
    "ax.set_xlim([42000, 51000])\n",
    "ax.set_xlabel('95% Confidence Interval')\n",
    "ax.set_yticklabels([])\n",
    "plt.show()"
   ]
  },
  {
   "cell_type": "markdown",
   "metadata": {},
   "source": [
    "========================================================================================================================="
   ]
  },
  {
   "cell_type": "markdown",
   "metadata": {},
   "source": [
    "**Problem 9.76:** The cost of a daily newspaper varies from city to city. However, the random variation among prices remains steady with a standard deviation of 20 cents. A study was done to test the claim that the mean cost of a daily newspaper is 1 dollar. Twelve costs yield a mean cost of 95 cents with a standard deviation of 18 cents. Do the data support the claim at the 1% level?\n",
    "\n",
    "**=Appendix E Formatting=**"
   ]
  },
  {
   "cell_type": "code",
   "execution_count": 15,
   "metadata": {},
   "outputs": [],
   "source": [
    "# Variable declarations\n",
    "\n",
    "mu = 1\n",
    "\n",
    "std = .20\n",
    "\n",
    "samp_mu = .95\n",
    "\n",
    "samp_std = .18\n",
    "\n",
    "n = 12\n",
    "\n",
    "alpha = 0.01"
   ]
  },
  {
   "cell_type": "markdown",
   "metadata": {},
   "source": [
    "**a)** Give $H_0$.\n",
    "\n",
    "Claim: The mean cost of a daily newspaper = 1 dollar.\n",
    "\n",
    "The use of = tell's us that our null hypothesis is:\n",
    "\n",
    "$H_0$: $\\mu$ = 1 dollar."
   ]
  },
  {
   "cell_type": "markdown",
   "metadata": {},
   "source": [
    "**b)** Give $H_a$\n",
    "\n",
    "$H_a$: $\\mu \\neq 1 dollar$\n",
    "\n",
    "From this we can also determine that we want to use a two tailed test, as we have two groups to look at that would make us reject our null hypothesis: $\\mu < 1$ and $\\mu > 1$."
   ]
  },
  {
   "cell_type": "markdown",
   "metadata": {},
   "source": [
    "**c)** In words, state the random variable and what it represents.\n",
    "\n",
    "We are discussing the *mean* cost of a daily newspaper, so we should use $\\bar X$.\n",
    "\n",
    "$\\bar X$ is the mean cost of a daily newspaper from the sample of 12."
   ]
  },
  {
   "cell_type": "markdown",
   "metadata": {},
   "source": [
    "**d)** State the distribution for the test."
   ]
  },
  {
   "cell_type": "code",
   "execution_count": 16,
   "metadata": {},
   "outputs": [
    {
     "name": "stdout",
     "output_type": "stream",
     "text": [
      "X_bar ~ N(1, 0.05773502691896258)\n"
     ]
    }
   ],
   "source": [
    "barXDist(mu, std, n)"
   ]
  },
  {
   "cell_type": "markdown",
   "metadata": {},
   "source": [
    "**e)** What is the test statistic?"
   ]
  },
  {
   "cell_type": "code",
   "execution_count": 17,
   "metadata": {},
   "outputs": [
    {
     "name": "stdout",
     "output_type": "stream",
     "text": [
      "Our test statistic is -0.8660254037844394\n"
     ]
    }
   ],
   "source": [
    "z = xBarTestStat(samp_mu, n, mu, std)\n",
    "print(\"Our test statistic is\", z)"
   ]
  },
  {
   "cell_type": "markdown",
   "metadata": {},
   "source": [
    "**f)** What is the p-value? In one or two complete sentences, explain what the p-value means for this problem.\n",
    "\n",
    "In this problem, we have two situations that would make our alternative hypothesis true and encourage us to reject the null hypothesis, if $\\mu$ < 1 or $\\mu$ > 1 then we want to reject the null hypothesis, meaning we are perfoming a two tailed test. Once again we have a normal distribution, so we can use the norm.sf function here to find the p-value associated with our z test statistic, we just have to multiply the result by two to account for the two-tailed test."
   ]
  },
  {
   "cell_type": "code",
   "execution_count": 24,
   "metadata": {},
   "outputs": [
    {
     "name": "stdout",
     "output_type": "stream",
     "text": [
      "Our p-value is 0.3864762307712324\n"
     ]
    }
   ],
   "source": [
    "p = sp.norm.sf(abs(z))*2 # Multiply by two because this is a two-tailed test.\n",
    "print(\"Our p-value is\", p)"
   ]
  },
  {
   "cell_type": "markdown",
   "metadata": {},
   "source": [
    "From this p-value we can determine that, if the null hypothesis is true, there is about a 39% chance that we will be able to replicate the same (or more extreme) results using a different random sample. This suggests that null hypothesis *might* not be worth rejecting, as it seems there is a 39% chance of replicating the results."
   ]
  },
  {
   "cell_type": "markdown",
   "metadata": {},
   "source": [
    "**g)** Use the previous information to sketch a picture of this situation. Clearly lable and scale the horizontal axis and shade the region(s) corresponding to the p-value."
   ]
  },
  {
   "cell_type": "code",
   "execution_count": 25,
   "metadata": {},
   "outputs": [
    {
     "data": {
      "image/png": "[encoded data removed]",
      "text/plain": [
       "<Figure size 720x504 with 1 Axes>"
      ]
     },
     "metadata": {},
     "output_type": "display_data"
    }
   ],
   "source": [
    "sigma_avg = std/(n**(1/2))\n",
    "\n",
    "x = np.arange(-1, 0.96, 0.01)\n",
    "x_all = np.arange(-1, 2, 0.01)\n",
    "x_other = np.arange(1.05, 2, 0.01)\n",
    "y = sp.norm.pdf(x,mu,sigma_avg)\n",
    "y2 = sp.norm.pdf(x_all,mu,sigma_avg)\n",
    "y3 = sp.norm.pdf(x_other, mu, sigma_avg)\n",
    "\n",
    "fig, ax = plt.subplots(figsize = (10, 7))\n",
    "plt.style.use('fivethirtyeight')\n",
    "ax.plot(x_all, y2)\n",
    "\n",
    "ax.fill_between(x_other, y3, 0, alpha = 0.3, color = 'b')\n",
    "ax.fill_between(x, y, 0,  alpha = 0.3, color = 'b')\n",
    "ax.fill_between(x_all, y2, 0, alpha = 0.1)\n",
    "ax.set_xlim([0.8, 1.2])\n",
    "ax.set_xlabel('P-value shaded')\n",
    "ax.set_yticklabels([])\n",
    "plt.show()"
   ]
  },
  {
   "cell_type": "markdown",
   "metadata": {},
   "source": [
    "**h)** Indicate the correct decision (\"reject\" or \"do not reject\" the null hypothesis), the reason for it, and write an appropriate conclusion using complete sentences.\n",
    "\n",
    "h.1) Give $\\alpha$\n",
    "\n",
    "We have that $\\alpha$ = 0.01"
   ]
  },
  {
   "cell_type": "code",
   "execution_count": 20,
   "metadata": {},
   "outputs": [
    {
     "data": {
      "text/plain": [
       "False"
      ]
     },
     "execution_count": 20,
     "metadata": {},
     "output_type": "execute_result"
    }
   ],
   "source": [
    "rejectCheck(0.01, p)"
   ]
  },
  {
   "cell_type": "markdown",
   "metadata": {},
   "source": [
    "h.2) State your decision\n",
    "\n",
    "$H_0$ should not be rejected.\n",
    "\n",
    "h.3) Explain the reason for your decision\n",
    "\n",
    "My function returned that $\\alpha \\geq p$, which means that the null hypothesis should not be rejected.\n",
    "\n",
    "h.4) Give a conclusion.\n",
    "\n",
    "We do not have sufficient enough evidence to reject our null hypothesis that the average cost of a daily newspaper = 1 dollar, suggesting that our alternative hypothesis that the lifespan of tires is < 50000 may not be true. Further, our data is consistent with the claim at a 0.01 significance level."
   ]
  },
  {
   "cell_type": "markdown",
   "metadata": {},
   "source": [
    "**i)** Construct a 95% confidence interval for the true mean of proportion. Include a sketch of the graph of the situation. Label the point estimate and the lower and upper bounds of the confidence interval.\n",
    "\n",
    "Once again we can use norm.interval to find our 95% confidence interval using the sample mean and the standard deviation of our distribution."
   ]
  },
  {
   "cell_type": "code",
   "execution_count": 21,
   "metadata": {},
   "outputs": [
    {
     "name": "stdout",
     "output_type": "stream",
     "text": [
      "95% confidence interval is (0.8368414265923828, 1.0631585734076172)\n"
     ]
    }
   ],
   "source": [
    "ci = sp.norm.interval(0.95, samp_mu, std/(n**(1/2)))\n",
    "print(\"95% confidence interval is\", ci)"
   ]
  },
  {
   "cell_type": "code",
   "execution_count": 22,
   "metadata": {},
   "outputs": [
    {
     "data": {
      "image/png": "[encoded data removed]",
      "text/plain": [
       "<Figure size 720x504 with 1 Axes>"
      ]
     },
     "metadata": {},
     "output_type": "display_data"
    }
   ],
   "source": [
    "sigma_avg = std/(n**(1/2))\n",
    "\n",
    "x_all = np.arange(-1, 2, 0.01)\n",
    "x_other = np.arange(0.8368414265923828, 1.0631585734076172, 0.01)\n",
    "y = sp.norm.pdf(x_all,samp_mu,sigma_avg)\n",
    "y2 = sp.norm.pdf(x_other, samp_mu, sigma_avg)\n",
    "\n",
    "fig, ax = plt.subplots(figsize = (10, 7))\n",
    "plt.style.use('fivethirtyeight')\n",
    "ax.plot(x_all, y)\n",
    "\n",
    "plt.scatter(0.8368414265923828, 0, s=100)\n",
    "plt.annotate(\"Lower Bound = 0.837\", (0.8368414265923828, 0))\n",
    "plt.scatter(1.058, 0, s=100)\n",
    "plt.annotate(\"Upper Bound = 1.06\", (1.058, 0))\n",
    "ax.fill_between(x_other, y2, 0, alpha = 0.1, color = 'b')\n",
    "ax.fill_between(x_all, y, 0, alpha = 0.1, color = 'b')\n",
    "ax.set_xlim([0.8, 1.1])\n",
    "ax.set_xlabel('95% Confidence Interval')\n",
    "ax.set_yticklabels([])\n",
    "plt.show()"
   ]
  },
  {
   "cell_type": "markdown",
   "metadata": {},
   "source": [
    "========================================================================================================================="
   ]
  }
 ],
 "metadata": {
  "kernelspec": {
   "display_name": "Python 3",
   "language": "python",
   "name": "python3"
  },
  "language_info": {
   "codemirror_mode": {
    "name": "ipython",
    "version": 3
   },
   "file_extension": ".py",
   "mimetype": "text/x-python",
   "name": "python",
   "nbconvert_exporter": "python",
   "pygments_lexer": "ipython3",
   "version": "3.8.5"
  }
 },
 "nbformat": 4,
 "nbformat_minor": 4
}

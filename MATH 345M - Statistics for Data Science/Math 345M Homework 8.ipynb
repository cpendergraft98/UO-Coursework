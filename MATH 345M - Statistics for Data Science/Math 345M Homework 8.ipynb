{
 "cells": [
  {
   "cell_type": "markdown",
   "metadata": {},
   "source": [
    "**Math 345M Homework 8**\n",
    "\n",
    "**Author: Cole Pendergraft**\n",
    "\n",
    "**Chapter 10 problems 106, 108**\n",
    "\n",
    "**Chapter 11 problems 86, 90**"
   ]
  },
  {
   "cell_type": "code",
   "execution_count": 1,
   "metadata": {},
   "outputs": [],
   "source": [
    "import numpy as np\n",
    "import scipy.stats as sp\n",
    "import matplotlib.pyplot as plt"
   ]
  },
  {
   "cell_type": "markdown",
   "metadata": {},
   "source": [
    "**Problem 10.106:** Researchers conducted a study to find out if there is a difference in the use of eReaders by different age groups. Randomly selected participants were divided into two age groups. In the 16- to 29-year-old group, 7% of the 628 surveyed use eReaders, while 11% of the 2,309 participants 30 years old and older use eReaders. **Use Appendix E.**\n",
    "\n",
    "We have been given two samples as well as two sample proportions.\n",
    "\n",
    "$n_{16-29}$ = Sample size of 16 - 29 year olds = 628\n",
    "\n",
    "$p_{16-29}$ = Sample proportion of 16 - 29 year olds who have eReaders = 7%\n",
    "\n",
    "$\\bar x_{16-29}$ = The sample mean of 16 - 29 year olds who have eReaders = $0.07*628$ = 44\n",
    "\n",
    "$n_{30+}$ = Sample size of 30+ year olds = 2309\n",
    "\n",
    "$p_{30+}$ = Sample proportion of 30+ year olds who have eReaders = 11%\n",
    "\n",
    "$\\bar x_{30+}$ = The sample mean of 30+ year olds who have eReaders = $0.11*2309$ = 254"
   ]
  },
  {
   "cell_type": "code",
   "execution_count": 2,
   "metadata": {},
   "outputs": [],
   "source": [
    "n_1629 = 628\n",
    "x_1629 = 44\n",
    "p_1629 = 0.07\n",
    "n_30 = 2309\n",
    "x_30 = 254\n",
    "p_30 = 0.11"
   ]
  },
  {
   "cell_type": "markdown",
   "metadata": {},
   "source": [
    "**a)** State $H_0$.\n",
    "\n",
    "We have two unknown population proportions, $P_{16-29}$ and $P_{30+}$. The null hypothesis is a statement of no difference, so we have:\n",
    "\n",
    "$H_0: P_{16-29} = P_{30+}$"
   ]
  },
  {
   "cell_type": "markdown",
   "metadata": {},
   "source": [
    "**b)** State $H_a$. \n",
    "\n",
    "Our alternative hypothesis will be directly opposite our null hypothesis:\n",
    "\n",
    "$H_a = P_{16-19} \\ne P_{30+}$"
   ]
  },
  {
   "cell_type": "markdown",
   "metadata": {},
   "source": [
    "**c)** State what your random variable represents.\n",
    "\n",
    "Our random variable $P_{16-29} - P_{30+}$ represents the difference in the population proportions of eReaders by age group."
   ]
  },
  {
   "cell_type": "markdown",
   "metadata": {},
   "source": [
    "**d)** State the distribution to use for the test.\n",
    "\n",
    "We are working with two independent proprtions here, so we have a normal distribution, and can construct said distribution using the pooled proportion $p_c$:\n",
    "\n",
    "$\\huge p_c = {{{\\bar x_a} + {\\bar x_b}} \\over {n_a + n_b}}$\n",
    "\n",
    "$\\huge P_A - P_B = {N(0, \\sqrt{p_c(1 - p_c)({1 \\over n_A} + {1 \\over n_B})}}$"
   ]
  },
  {
   "cell_type": "code",
   "execution_count": 3,
   "metadata": {},
   "outputs": [
    {
     "name": "stdout",
     "output_type": "stream",
     "text": [
      "Our distribution is N(0, 0.013588892579888944)\n"
     ]
    }
   ],
   "source": [
    "pc = (x_1629 + x_30) / (n_1629 + n_30)\n",
    "\n",
    "pcpart = pc*(1-pc)\n",
    "\n",
    "fractionpart = ((1/n_1629) + (1/n_30))\n",
    "\n",
    "dist = (pcpart*fractionpart)**(1/2)\n",
    "\n",
    "print(f\"Our distribution is N(0, {dist})\")"
   ]
  },
  {
   "cell_type": "markdown",
   "metadata": {},
   "source": [
    "**e)** What is the test statistic?\n",
    "\n",
    "For a normal distribution we have a z-score as our test statistic, which is calculated as:\n",
    "\n",
    "$\\huge z = {{{p_A - p_B}} \\over \\sqrt{p_c(1 - p_c)({1 \\over n_A} + {1 \\over n_B})}}$"
   ]
  },
  {
   "cell_type": "code",
   "execution_count": 4,
   "metadata": {},
   "outputs": [],
   "source": [
    "def twoProp_zScore(pa, pb, xa, xb, na, nb):\n",
    "    \"\"\"\n",
    "    Computes the z-score for two independent proportions\n",
    "    pa is the sample proportion for sample a\n",
    "    pb is the sample proportion for sample b\n",
    "    xa is the sample mean for sample a\n",
    "    xb is the sample mean for sample b\n",
    "    na is the size of sample a\n",
    "    nb is the size of sample b\n",
    "    \"\"\"\n",
    "    prop_diff = pa - pb\n",
    "    pc = (xa + xb) / (na + nb)\n",
    "    \n",
    "    numer = prop_diff\n",
    "    denom = (pc*(1 - pc)*((1/na) + (1/nb)))**(1/2)\n",
    "    \n",
    "    z = numer/denom\n",
    "    \n",
    "    return z"
   ]
  },
  {
   "cell_type": "code",
   "execution_count": 5,
   "metadata": {},
   "outputs": [
    {
     "name": "stdout",
     "output_type": "stream",
     "text": [
      "Our z-score is -2.9435805577857392\n"
     ]
    }
   ],
   "source": [
    "z = twoProp_zScore(p_1629, p_30, x_1629, x_30, n_1629, n_30)\n",
    "\n",
    "print(f\"Our z-score is {z}\")"
   ]
  },
  {
   "cell_type": "markdown",
   "metadata": {},
   "source": [
    "**f)** What is the p-value? Explain what that p-value means for this problem.\n",
    "\n",
    "Since we are back to using a normal distribution, we can compute our p-value by using norm.cdf() with our z-score. Since we have a two tailed hypothesis test, we multiply our output from sp.norm.cdf(z) by 2 to generate our actual p-value."
   ]
  },
  {
   "cell_type": "code",
   "execution_count": 6,
   "metadata": {},
   "outputs": [
    {
     "name": "stdout",
     "output_type": "stream",
     "text": [
      "Our p-value is 0.0032443937491157264\n"
     ]
    }
   ],
   "source": [
    "p = sp.norm.cdf(z)*2\n",
    "\n",
    "print(f\"Our p-value is {p}\")"
   ]
  },
  {
   "cell_type": "markdown",
   "metadata": {},
   "source": [
    "From this p-value we are able to determine that if our null hypothesis is true, there is about a 0.324% chance that we will be able to replicate the same (or more extreme) results with a different random sample. So if our null hypothesis does turn out to be true, there is about an 99.676% chance that the result is an outlier, given the 0.324% chance that our results can be replicated."
   ]
  },
  {
   "cell_type": "markdown",
   "metadata": {},
   "source": [
    "**g)** Use the previous information to create a graph."
   ]
  },
  {
   "cell_type": "code",
   "execution_count": 7,
   "metadata": {},
   "outputs": [
    {
     "data": {
      "image/png": "[encoded data removed]",
      "text/plain": [
       "<Figure size 648x432 with 1 Axes>"
      ]
     },
     "metadata": {
      "needs_background": "light"
     },
     "output_type": "display_data"
    }
   ],
   "source": [
    "diff = p_1629 - p_30\n",
    "SE = dist\n",
    "\n",
    "x = np.arange(-4*SE, diff, 0.001)\n",
    "x_all = np.arange(-4*SE, 4*SE, 0.001)\n",
    "x_other = np.arange(abs(diff), 4*SE, 0.01)\n",
    "\n",
    "y = sp.norm.pdf(x, 0, SE)\n",
    "y2 = sp.norm.pdf(x_all, 0, SE)\n",
    "y3 = sp.norm.pdf(x_other, 0, SE)\n",
    "\n",
    "fig, ax = plt.subplots(figsize = (9, 6))\n",
    "plt.style.use('fivethirtyeight')\n",
    "ax.plot(x_all, y2)\n",
    "\n",
    "plt.scatter(diff, 1, s=100)\n",
    "plt.annotate(\"1/2 p-value\", (diff, 1))\n",
    "plt.scatter(abs(diff), 1, s=100)\n",
    "plt.annotate(\"1/2 p-value\", (abs(diff), 1))\n",
    "ax.fill_between(x_other, y3, 0, alpha = 0.3, color = 'b')\n",
    "ax.fill_between(x, y, 0,  alpha = 0.3, color = 'b')\n",
    "ax.fill_between(x_all, y2, 0, alpha = 0.1)\n",
    "ax.set_xlim([-4*SE, 4*SE])\n",
    "ax.set_xlabel('P-value shaded (Very small regions)')\n",
    "ax.set_xticks([np.round(i*SE, 3) for i in range(-3, 4)])\n",
    "ax.set_yticklabels([])\n",
    "plt.show()"
   ]
  },
  {
   "cell_type": "markdown",
   "metadata": {},
   "source": [
    "**h)** Indicate the correct decision, the reason for it, and write an appropriate conclusion.\n",
    "\n",
    "h.1) Give alpha.\n",
    "\n",
    "Since we aren't in a life or death situation, I propose that an alpha of 0.05 should be enough for this problem"
   ]
  },
  {
   "cell_type": "code",
   "execution_count": 8,
   "metadata": {},
   "outputs": [],
   "source": [
    "def rejectCheck(alpha, p):\n",
    "    # Checks if a null hypothesis should be rejected. A return of 'True' indicates H_0 should be rejected.\n",
    "    # A return of 'False' indicates H_0 should not be rejected.\n",
    "    return alpha > p"
   ]
  },
  {
   "cell_type": "code",
   "execution_count": 9,
   "metadata": {},
   "outputs": [
    {
     "data": {
      "text/plain": [
       "True"
      ]
     },
     "execution_count": 9,
     "metadata": {},
     "output_type": "execute_result"
    }
   ],
   "source": [
    "alpha = 0.05\n",
    "\n",
    "rejectCheck(alpha, p)"
   ]
  },
  {
   "cell_type": "markdown",
   "metadata": {},
   "source": [
    "h.2) What is your decision?\n",
    "\n",
    "We should reject our null hypothesis.\n",
    "\n",
    "h.3) What is the reason for your decision?\n",
    "\n",
    "We have that our alpha > p-value, which implies that we should reject our null hypothesis.\n",
    "\n",
    "h.4) Give a conclusion.\n",
    "\n",
    "We can conclude that at a significance level of 5%, we do have enough information to reject the claim that there is no difference in population proportions for those who use eReaders in the 16 - 29 age group and the 30+ age group. This would lead us to suppose our alternative hypothesis is likely true."
   ]
  },
  {
   "cell_type": "markdown",
   "metadata": {},
   "source": [
    "**i)** Explain how you determined which distribution to use.\n",
    "\n",
    "We have been provided two samples and their associated sample proportions. These two samples are independent (a 16 - 29 year old having an eReader does not change the probability of a 30+ year old having an eReader), and we also have the following information:\n",
    "\n",
    "$n_{1629} * p_{1629} = 44 \\ge 10$\n",
    "\n",
    "$n_{1629} * (1 - p_{1629}) = 584 \\ge 10$\n",
    "\n",
    "$n_{30+} * p_{30+} = 254 \\ge 10$\n",
    "\n",
    "$n_{30+} * (1 - p_{30+}) = 2055 \\ge 10$\n",
    "\n",
    "Given these facts, we know we can use a normal distribution to represent this problem."
   ]
  },
  {
   "cell_type": "markdown",
   "metadata": {},
   "source": [
    "========================================================================================================================="
   ]
  },
  {
   "cell_type": "markdown",
   "metadata": {},
   "source": [
    "**Problem 10.108:** Two computer users were discussing tablet computers. A higher proportion of people ages 16 to 29 use tablets than the proportion of people age 30 and older. Table 10.28 details the number of tablet owners for each age group. Test at the 1% level of significance. **Use Appendix E.**\n",
    "\n",
    "| | 16-29 year olds | 30 years old and older |\n",
    "|-|:---------------:|:----------------------:|\n",
    "|**Own a Tablet:**| 69 | 231 |\n",
    "|**Sample Size:** |628 |2309 |"
   ]
  },
  {
   "cell_type": "code",
   "execution_count": 10,
   "metadata": {},
   "outputs": [
    {
     "name": "stdout",
     "output_type": "stream",
     "text": [
      "0.10987261146496816 0.10004330879168472\n"
     ]
    }
   ],
   "source": [
    "xa = 69  # Number of 16 - 29 year olds who own a tablet\n",
    "na = 628 # Sample size of 16 - 29 year olds\n",
    "pa = xa/na # Sample proportion of 16 - 29 year olds who own a tablet\n",
    "\n",
    "xb = 231 # Number of 30+ year olds who own a tablet\n",
    "nb = 2309  # Sample size of 30+ year olds\n",
    "pb = xb/nb # Sample proportion of 30+ year olds who own a tablet\n",
    "\n",
    "pc = (xa + xb)/(na + nb)  # Pooled proportion\n",
    "SE = (pc*(1 - pc)*((1/na) + (1/nb)))**(1/2)  # Standard Error\n",
    "\n",
    "print(pa, pb)"
   ]
  },
  {
   "cell_type": "markdown",
   "metadata": {},
   "source": [
    "**a)** State $H_0$.\n",
    "\n",
    "We have two population proportions $P_{16-29}$ and $P_{30+}$. Our null hypothesis is a statement of no difference, thus we have:\n",
    "\n",
    "$H_0: P_{16-29} = P_{30+}$"
   ]
  },
  {
   "cell_type": "markdown",
   "metadata": {},
   "source": [
    "**b)** State $H_a$. \n",
    "\n",
    "$H_a: P_{16-29} \\ne P_{30+}$"
   ]
  },
  {
   "cell_type": "markdown",
   "metadata": {},
   "source": [
    "**c)** State what your random variable represents.\n",
    "\n",
    "Our random variable $P_{16-29} - P_{30+}$ represents the difference in the population proportions of two different age groups owning a tablet."
   ]
  },
  {
   "cell_type": "markdown",
   "metadata": {},
   "source": [
    "**d)** State the distribution to use for the test.\n",
    "\n",
    "We can use a normal distribution to represent this situation:"
   ]
  },
  {
   "cell_type": "code",
   "execution_count": 11,
   "metadata": {},
   "outputs": [
    {
     "name": "stdout",
     "output_type": "stream",
     "text": [
      "Our distribution is N(0, 0.013629249147632196)\n"
     ]
    }
   ],
   "source": [
    "print(f\"Our distribution is N(0, {SE})\")"
   ]
  },
  {
   "cell_type": "markdown",
   "metadata": {},
   "source": [
    "**e)** What is the test statistic?\n",
    "\n",
    "Once again we are seeking to compute our z-score here:"
   ]
  },
  {
   "cell_type": "code",
   "execution_count": 12,
   "metadata": {},
   "outputs": [
    {
     "name": "stdout",
     "output_type": "stream",
     "text": [
      "Our z-score is 0.721191796173972\n"
     ]
    }
   ],
   "source": [
    "z = twoProp_zScore(pa, pb, xa, xb, na, nb)\n",
    "\n",
    "print(f\"Our z-score is {z}\")"
   ]
  },
  {
   "cell_type": "markdown",
   "metadata": {},
   "source": [
    "**f)** What is the p-value? Explain what that p-value means for this problem.\n",
    "\n",
    "I believe that since we have a positive z-score this time around we want to use the sp.norm.sf() method to compute our p-value:"
   ]
  },
  {
   "cell_type": "code",
   "execution_count": 13,
   "metadata": {},
   "outputs": [
    {
     "name": "stdout",
     "output_type": "stream",
     "text": [
      "Our p-value is 0.47079151856424795\n"
     ]
    }
   ],
   "source": [
    "p = sp.norm.sf(z)*2\n",
    "\n",
    "print(f\"Our p-value is {p}\")"
   ]
  },
  {
   "cell_type": "markdown",
   "metadata": {},
   "source": [
    "From this p-value we are able to determine that if our null hypothesis is true, there is about a 47.1% chance that we will be able to replicate the same (or more extreme) results with a different random sample. So if our null hypothesis does turn out to be true, there is about an 42.9% chance that the result is an outlier, given the 47.1% chance that our results can be replicated."
   ]
  },
  {
   "cell_type": "markdown",
   "metadata": {},
   "source": [
    "**g)** Use the previous information to create a graph."
   ]
  },
  {
   "cell_type": "code",
   "execution_count": 14,
   "metadata": {},
   "outputs": [
    {
     "data": {
      "image/png": "[encoded data removed]",
      "text/plain": [
       "<Figure size 648x432 with 1 Axes>"
      ]
     },
     "metadata": {},
     "output_type": "display_data"
    }
   ],
   "source": [
    "diff = pa - pb\n",
    "\n",
    "x = np.arange(-4*SE, -diff, 0.001)\n",
    "x_all = np.arange(-4*SE, 4*SE, 0.001)\n",
    "x_other = np.arange(diff, 4*SE, 0.01)\n",
    "\n",
    "y = sp.norm.pdf(x, 0, SE)\n",
    "y2 = sp.norm.pdf(x_all, 0, SE)\n",
    "y3 = sp.norm.pdf(x_other, 0, SE)\n",
    "\n",
    "fig, ax = plt.subplots(figsize = (9, 6))\n",
    "plt.style.use('fivethirtyeight')\n",
    "ax.plot(x_all, y2)\n",
    "\n",
    "plt.scatter(-diff, 0, s=100)\n",
    "plt.annotate(\"1/2 p-value\", (-diff, 1))\n",
    "plt.scatter(abs(diff), 0, s=100)\n",
    "plt.annotate(\"1/2 p-value\", (abs(diff), 1))\n",
    "ax.fill_between(x_other, y3, 0, alpha = 0.3, color = 'b')\n",
    "ax.fill_between(x, y, 0,  alpha = 0.3, color = 'b')\n",
    "ax.fill_between(x_all, y2, 0, alpha = 0.1)\n",
    "ax.set_xlim([-4*SE, 4*SE])\n",
    "ax.set_xlabel('P region shaded')\n",
    "ax.set_xticks([np.round(i*SE, 3) for i in range(-3, 4)])\n",
    "ax.set_yticklabels([])\n",
    "plt.show()"
   ]
  },
  {
   "cell_type": "markdown",
   "metadata": {},
   "source": [
    "**h)** Indicate the correct decision, the reason for it, and write an appropriate conclusion.\n",
    "\n",
    "h.1) Give alpha.\n",
    "\n",
    "This time around we have been specifically instructed to use an alpha of 0.01."
   ]
  },
  {
   "cell_type": "code",
   "execution_count": 15,
   "metadata": {},
   "outputs": [
    {
     "data": {
      "text/plain": [
       "False"
      ]
     },
     "execution_count": 15,
     "metadata": {},
     "output_type": "execute_result"
    }
   ],
   "source": [
    "alpha = 0.01\n",
    "\n",
    "rejectCheck(alpha, p)"
   ]
  },
  {
   "cell_type": "markdown",
   "metadata": {},
   "source": [
    "h.2) What is your decision?\n",
    "\n",
    "We should not reject our null hypothesis.\n",
    "\n",
    "h.3) What is the reason for your decision?\n",
    "\n",
    "We have that alpha $\\leq$ p-value, so we cannot reject our null hypothesis.\n",
    "\n",
    "h.4) Give a conclusion.\n",
    "\n",
    "We can conclude that at a significance level of 1%, we do not have enough information to reject the claim that there is no difference in population proportions for those who own a tablet in the age ranges 16-29 and 30+. We cannot conclude that our null hypothesis is true, but we do know enough to say that it cannot be discounted."
   ]
  },
  {
   "cell_type": "markdown",
   "metadata": {},
   "source": [
    "**i)** Explain how you determined which distribution to use.\n",
    "\n",
    "Once again we have two independent samples and sample proportions, and given that the following is true\n",
    "\n",
    "$n_{1629} * p_{1629} = 69 \\ge 10$\n",
    "\n",
    "$n_{1629} * (1 - p_{1629}) = 559 \\ge 10$\n",
    "\n",
    "$n_{30+} * p_{30+} = 231 \\ge 10$\n",
    "\n",
    "$n_{30+} * (1 - p_{30+}) = 2078 \\ge 10$\n",
    "\n",
    "we know that we can use a normal distribution to represent this problem."
   ]
  },
  {
   "cell_type": "markdown",
   "metadata": {},
   "source": [
    "========================================================================================================================="
   ]
  },
  {
   "cell_type": "markdown",
   "metadata": {},
   "source": [
    "**Problem 11.86:** A recent debate about where in the United States skiers believe the skiing is best prompted the following survey. Test to see if the best ski area is independent of the level of the skier. **Use Appendix E.**\n",
    "\n",
    "**Observed Frequency Table:**\n",
    "\n",
    "|U.S. Ski Area|Beginner|Intermediate|Advanced|\n",
    "|:------------|:------:|:----------:|:------:|\n",
    "|**Tahoe:**       |20      |30          |40      |\n",
    "|**Utah:**        |10      |30          |60      |\n",
    "|**Colorado:**    |10      |40          |50      |\n"
   ]
  },
  {
   "cell_type": "markdown",
   "metadata": {},
   "source": [
    "**a)** State $H_0$.\n",
    "\n",
    "$H_0:$ The best ski area is independent of the level of the skier."
   ]
  },
  {
   "cell_type": "markdown",
   "metadata": {},
   "source": [
    "**b)** State $H_a$.\n",
    "\n",
    "$H_a:$ The best ski area is not independent of the level of the skier."
   ]
  },
  {
   "cell_type": "markdown",
   "metadata": {},
   "source": [
    "**c)** What are the degrees of freedom?\n",
    "\n",
    "When performing tests of independence, we calculate the degrees of freedom as \n",
    "\n",
    "$df =$(number of columns - 1)(number of rows - 1)\n",
    "\n",
    "We have 3 columns and 3 rows, so that means that we have\n",
    "\n",
    "$df =$ (2)(2) = 4 degrees of freedom."
   ]
  },
  {
   "cell_type": "markdown",
   "metadata": {},
   "source": [
    "**d)** State the distribution to use for the test.\n",
    "\n",
    "We will be using a chi-square distribution with 4 degrees of freedom ${\\chi_4}^2$"
   ]
  },
  {
   "cell_type": "markdown",
   "metadata": {},
   "source": [
    "**e)** What is the test statistic?\n",
    "\n",
    "When performing tests of independence we can compute the test statistic as\n",
    "\n",
    "$\\huge TestStat = {\\Sigma_{(i * j)}{{{(O - E)}^2} \\over E}}$\n",
    "\n",
    "Where O is our observed values, E is our expected values, i is the number of rows, and j is the number of columns.\n",
    "\n",
    "We have our O, i, and j values already from the chart, but we still need to compute our values for E. This can be done using the following equation:\n",
    "\n",
    "$\\huge E = {{(row total)(column total)} \\over (total surveyed)}$\n",
    "\n",
    "\n",
    "**Observed Frequency Table with Totals:**\n",
    "\n",
    "|U.S. Ski Area|Beginner|Intermediate|Advanced|Total|\n",
    "|:------------|:------:|:----------:|:------:|:---:|\n",
    "|**Tahoe:**       |20      |30          |40      |90|\n",
    "|**Utah:**        |10      |30          |60      |100|\n",
    "|**Colorado:**    |10      |40          |50      |100|\n",
    "|**Total:**       |40        |100            |150        |290|"
   ]
  },
  {
   "cell_type": "code",
   "execution_count": 16,
   "metadata": {},
   "outputs": [],
   "source": [
    "# First I'm going to write a function to automate the calculation of E vals for me:\n",
    "\n",
    "def indepTest_findEvals(col_tots, row_tots, overall):\n",
    "    \"\"\"\n",
    "    Finds the E values to be used in independence testing.\n",
    "    col_tots is a list of column totals\n",
    "    row_tots is a list of row totals\n",
    "    overall is a single integer sum\n",
    "    \"\"\"\n",
    "    e_vals = [] # Empty list to hold resulting values of E\n",
    "    for i in range(len(col_tots)):\n",
    "        for j in range(len(row_tots)):\n",
    "            val = (col_tots[i]*row_tots[j])/overall\n",
    "            e_vals.append(val)\n",
    "    return e_vals"
   ]
  },
  {
   "cell_type": "code",
   "execution_count": 17,
   "metadata": {},
   "outputs": [
    {
     "name": "stdout",
     "output_type": "stream",
     "text": [
      "[12.413793103448276, 31.03448275862069, 46.55172413793103, 13.793103448275861, 34.48275862068966, 51.724137931034484, 13.793103448275861, 34.48275862068966, 51.724137931034484]\n"
     ]
    }
   ],
   "source": [
    "row_totals = [40, 100, 150] # Row totals [Beginner, Intermediate, Advanced]\n",
    "\n",
    "col_totals = [90, 100, 100] # Column totals [Tahoe, Utah, Colorado]\n",
    "\n",
    "overall = 290 # Overall total\n",
    "\n",
    "e_list = indepTest_findEvals(col_totals, row_totals, overall)\n",
    "\n",
    "print(e_list)"
   ]
  },
  {
   "cell_type": "markdown",
   "metadata": {},
   "source": [
    "Based on how I built my function, the first 3 values in the list are the beginner, intermediate, and advanced values for Tahoe, the second three are the beginner, intermediate, and advanced values for Utah, and the final three values are the beginner, intermediate, and advanced values for Colorado.\n",
    "\n",
    "**Observed Frequency Table:**\n",
    "\n",
    "|U.S. Ski Area|Beginner|Intermediate|Advanced|\n",
    "|:------------|:------:|:----------:|:------:|\n",
    "|**Tahoe:**       |20      |30          |40      |\n",
    "|**Utah:**        |10      |30          |60      |\n",
    "|**Colorado:**    |10      |40          |50      |\n",
    "\n",
    "\n",
    "**Expected Frequency Table:**\n",
    "\n",
    "|U.S. Ski Area|Beginner|Intermediate|Advanced|\n",
    "|:------------|:------:|:----------:|:------:|\n",
    "|**Tahoe:**       |12.413793103448276      |31.03448275862069          |46.55172413793103      |\n",
    "|**Utah:**        |13.793103448275861      |34.48275862068966          |51.724137931034484      |\n",
    "|**Colorado:**    |13.793103448275861      |34.48275862068966          |51.724137931034484      |\n"
   ]
  },
  {
   "cell_type": "code",
   "execution_count": 18,
   "metadata": {},
   "outputs": [],
   "source": [
    "# Now lets write another function to compute the test statistic for us:\n",
    "\n",
    "def indepTest_findTestStat(expected, observed, i, j):\n",
    "    \"\"\"\n",
    "    Finds the test statistic to be used in an independence test\n",
    "    expected is a list of the expected values\n",
    "    observed is a list of the observed values\n",
    "    i is the number of rows\n",
    "    j is the number of columns\n",
    "    \"\"\"\n",
    "    ret_list = []\n",
    "    for i in range(i*j):\n",
    "        val = ((expected[i] - observed[i])**2)/expected[i]\n",
    "        ret_list.append(val)\n",
    "        \n",
    "    ret = sum(ret_list)\n",
    "    return ret"
   ]
  },
  {
   "cell_type": "code",
   "execution_count": 19,
   "metadata": {},
   "outputs": [
    {
     "name": "stdout",
     "output_type": "stream",
     "text": [
      "Our test statistic is 10.525925925925922\n"
     ]
    }
   ],
   "source": [
    "o_list = [20, 30, 40, 10, 30, 60, 10, 40, 50]\n",
    "\n",
    "test = indepTest_findTestStat(e_list, o_list, 3, 3)\n",
    "\n",
    "print(f\"Our test statistic is {test}\")"
   ]
  },
  {
   "cell_type": "markdown",
   "metadata": {},
   "source": [
    "**f)** What is the p-value? State what the p-value means for this problem.\n",
    "\n",
    "So I did all that stuff above and *then* discovered that the function `sp.chisquare(f_obs, f_exp, ddof)` returns both the the Chi test statistic *and* the p-value when the observed value list is passed in for f_obs, the expected value list is passed in for f_exp, and the degrees of freedom are passed in for ddof. I'm still going to leave those functions I wrote up there because I'm pretty happy with them, but I will probably use the scipy methods for the rest of the assignment."
   ]
  },
  {
   "cell_type": "code",
   "execution_count": 20,
   "metadata": {},
   "outputs": [
    {
     "name": "stdout",
     "output_type": "stream",
     "text": [
      "10.525925925925922\n",
      "0.03244173482963122\n"
     ]
    }
   ],
   "source": [
    "chi, p = sp.chisquare(o_list, f_exp = e_list, ddof = 4)\n",
    "print(chi)\n",
    "print(p)"
   ]
  },
  {
   "cell_type": "markdown",
   "metadata": {},
   "source": [
    "So our p-value is about 0.03244. What this means is that if our null hypothesis is true, there is about a 3.244% chance that we will be able to replicate the same (or more extreme) results with a different random sample. So if our null hypothesis does turn out to be true, there is about an 96.756% chance that the result is an outlier, given the 3.244% chance that our results can be replicated."
   ]
  },
  {
   "cell_type": "markdown",
   "metadata": {},
   "source": [
    "**g)** Create a graph."
   ]
  },
  {
   "cell_type": "code",
   "execution_count": 21,
   "metadata": {},
   "outputs": [
    {
     "data": {
      "image/png": "[encoded data removed]",
      "text/plain": [
       "<Figure size 648x432 with 1 Axes>"
      ]
     },
     "metadata": {},
     "output_type": "display_data"
    }
   ],
   "source": [
    "x_range = np.arange(chi, 20, .001) #this is what we're going to shade under\n",
    "x_all = np.arange(0, 20, .001) # entire range of x,\n",
    "\n",
    "y = sp.chi2.pdf(x_range,4)\n",
    "y2 = sp.chi2.pdf(x_all,4)\n",
    "\n",
    "fig, ax = plt.subplots(figsize=(9,6))\n",
    "plt.style.use('fivethirtyeight')\n",
    "ax.plot(x_all,y2)\n",
    "\n",
    "plt.scatter(chi, 0.01, s=100)\n",
    "plt.annotate(\"P-vlaue = 0.0324\", (chi, 0.01))\n",
    "ax.fill_between(x_range,y,0, alpha=0.3, color='b')\n",
    "ax.fill_between(x_all,y2,0, alpha=0.1)\n",
    "ax.set_xlim([0,20])\n",
    "ax.set_xlabel('P region shaded')\n",
    "\n",
    "ax.set_yticklabels([])\n",
    "\n",
    "ax.set_title(\"Chi-square Distribution\")\n",
    "\n",
    "plt.show()"
   ]
  },
  {
   "cell_type": "markdown",
   "metadata": {},
   "source": [
    "**h)** Indicate the correct decision and write appropriate conclusions.\n",
    "\n",
    "h.1) State alpha.\n",
    "\n",
    "Since we have not been provided alpha and are not dealing with a life or death situation we will use the standard alpha of 0.05."
   ]
  },
  {
   "cell_type": "code",
   "execution_count": 22,
   "metadata": {},
   "outputs": [
    {
     "data": {
      "text/plain": [
       "True"
      ]
     },
     "execution_count": 22,
     "metadata": {},
     "output_type": "execute_result"
    }
   ],
   "source": [
    "alpha = 0.05\n",
    "\n",
    "rejectCheck(alpha, p)"
   ]
  },
  {
   "cell_type": "markdown",
   "metadata": {},
   "source": [
    "h.2) What is your decision?\n",
    "\n",
    "We should reject our null hypothesis.\n",
    "\n",
    "h.3) What is the reason for your decision?\n",
    "\n",
    "We have that alpha > p, which suggests we should reject our null hypothesis.\n",
    "\n",
    "h.4) Give a conclusion.\n",
    "\n",
    "We have enough evidence to reject the claim that the best ski are is independent of the level of skier, which leads us to assume our alternative hypothesis that the best ski area is not independent of the level of skier."
   ]
  },
  {
   "cell_type": "markdown",
   "metadata": {},
   "source": [
    "========================================================================================================================="
   ]
  },
  {
   "cell_type": "markdown",
   "metadata": {},
   "source": [
    "**Problem 11.90:** A manager of a sports club keeps information concerning the main sport in which members participate and their ages. To test whether there is a relationship between the age of a member and his or her choice of sport, 643 members of the sports club are randomly selected. Conduct a test of independence.\n",
    "\n",
    "**Observed Frequency Table**\n",
    "\n",
    "|Sport|18 - 25|26 - 30|31 - 40|41 and over|\n",
    "|:----|:-----:|:-----:|:-----:|:---------:|\n",
    "|**Raquetball**|42|58|30|46|\n",
    "|**Tennis**|58|76|38|65|\n",
    "|**Swimming**|72|60|65|33|"
   ]
  },
  {
   "cell_type": "markdown",
   "metadata": {},
   "source": [
    "**a)** State $H_0$.\n",
    "\n",
    "$H_0:$ The choice of sport is independent from the age of the member."
   ]
  },
  {
   "cell_type": "markdown",
   "metadata": {},
   "source": [
    "**b)** State $H_a$.\n",
    "\n",
    "$H_a:$ The choice of sport is not independent from the age of the member."
   ]
  },
  {
   "cell_type": "markdown",
   "metadata": {},
   "source": [
    "**c)** What are the degrees of freedom?\n",
    "\n",
    "$df =$(number of columns - 1)(number of rows - 1) = 2\\*3 = 6"
   ]
  },
  {
   "cell_type": "markdown",
   "metadata": {},
   "source": [
    "**d)** State the distribution to use for the test.\n",
    "\n",
    "We will be using a chi-square distribution with 6 degrees of freedom ${\\chi_6}^2$"
   ]
  },
  {
   "cell_type": "markdown",
   "metadata": {},
   "source": [
    "**e)** What is the test statistic?\n",
    "\n",
    "We now know we can compute both the p-value and the chi score by using `sp.chisquare(f_obs, f_exp, ddof)`.\n",
    "\n",
    "However, before we can do this we need to find our list of expected values. We can do this using the function I wrote in the previous proble.\n",
    "\n",
    "**Observed Frequency Table with Totals**\n",
    "\n",
    "|Sport|18 - 25|26 - 30|31 - 40|41 and over|Total|\n",
    "|:----|:-----:|:-----:|:-----:|:---------:|:---:|\n",
    "|**Raquetball**|42|58|30|46|176|\n",
    "|**Tennis**|58|76|38|65|237|\n",
    "|**Swimming**|72|60|65|33|230|\n",
    "|**Total**|172|194|133|144|643|"
   ]
  },
  {
   "cell_type": "code",
   "execution_count": 23,
   "metadata": {},
   "outputs": [
    {
     "name": "stdout",
     "output_type": "stream",
     "text": [
      "[47.07931570762053, 63.396578538102645, 61.524105754276825, 53.10108864696734, 71.5054432348367, 69.39346811819595, 36.40435458786936, 49.02177293934681, 47.573872472783826, 39.415241057542765, 53.07620528771384, 51.50855365474339]\n"
     ]
    }
   ],
   "source": [
    "col_tots = [172, 194, 133, 144]\n",
    "row_tots = [176, 237, 230]\n",
    "overall = 643\n",
    "\n",
    "e_list = indepTest_findEvals(col_tots, row_tots, overall)\n",
    "\n",
    "print(e_list)"
   ]
  },
  {
   "cell_type": "code",
   "execution_count": 24,
   "metadata": {},
   "outputs": [
    {
     "name": "stdout",
     "output_type": "stream",
     "text": [
      "Our chi test-statistic is 25.21448623925806\n"
     ]
    }
   ],
   "source": [
    "# Now we just need to create a list of observed values structured the same way as the expected values list\n",
    "\n",
    "o_list = [42, 58, 72, 58, 76, 60, 30, 38, 65, 46, 65, 33]\n",
    "\n",
    "chi, p = sp.chisquare(o_list, e_list, ddof = 6)\n",
    "print(f\"Our chi test-statistic is {chi}\")"
   ]
  },
  {
   "cell_type": "markdown",
   "metadata": {},
   "source": [
    "**f)** What is the p-value? State what the p-value means for this problem.\n",
    "\n",
    "Okay, so things get a little weird here. First I should note that I check all of my answers using online calculators which have so far proven to be reliable. In the last problem, I computed my p-value using `sp.chisquare(f_obv, f_exp, ddof)`, and in that situation I recieved the correct value for p and for chi. However, this time around, when I used the `sp.chisquare(f_obv, f_exp, ddof)` I got the correct value for chi, but the function tells me that p is 0.00012666, which I know to be incorrect. I have no idea why the `sp.chisquare(f_obv, f_exp, ddof)` produced the correct chi value and worked perfectly in the last problem, but this time around isn't calculating p the right way. Instead, I am going to use `sp.chi2.sf(chi, df)` in order to compute what I know to be the correct p-value, but I am just so confused as to why `sp.chisquare(f_obv, f_exp, ddof)` is being inconsistent."
   ]
  },
  {
   "cell_type": "code",
   "execution_count": 25,
   "metadata": {},
   "outputs": [
    {
     "name": "stdout",
     "output_type": "stream",
     "text": [
      "Our p-value is 0.00031159710161682476\n"
     ]
    }
   ],
   "source": [
    "p = sp.chi2.sf(chi, 6)\n",
    "print(f\"Our p-value is {p}\")"
   ]
  },
  {
   "cell_type": "markdown",
   "metadata": {},
   "source": [
    "So our p-value is about 0.000312. What this means is that if our null hypothesis is true, there is about a 0.0312% chance that we will be able to replicate the same (or more extreme) results with a different random sample. So if our null hypothesis does turn out to be true, there is about an 99.9688% chance that the result is an outlier, given the 0.0312% chance that our results can be replicated."
   ]
  },
  {
   "cell_type": "markdown",
   "metadata": {},
   "source": [
    "**g)** Create a graph.\n",
    "\n",
    "So our p-region is so small in this case that it is difficult to actually see it in the graph, so I had to zoom in to the area where we could actually see the shaded region. As such, some of the graph is cut off, but it is all still there if you zoom out."
   ]
  },
  {
   "cell_type": "code",
   "execution_count": 26,
   "metadata": {},
   "outputs": [
    {
     "data": {
      "image/png": "[encoded data removed]",
      "text/plain": [
       "<Figure size 648x432 with 1 Axes>"
      ]
     },
     "metadata": {},
     "output_type": "display_data"
    }
   ],
   "source": [
    "x_range = np.arange(chi, 50, .001) #this is what we're going to shade under\n",
    "x_all = np.arange(0, 50, .001) # entire range of x,\n",
    "\n",
    "y = sp.chi2.pdf(x_range,6)\n",
    "y2 = sp.chi2.pdf(x_all,6)\n",
    "\n",
    "fig, ax = plt.subplots(figsize=(9,6))\n",
    "plt.style.use('fivethirtyeight')\n",
    "ax.plot(x_all,y2)\n",
    "\n",
    "plt.scatter(chi, 0.00015, s=100)\n",
    "plt.annotate(\"P-value = 0.00312\", (chi, 0.00015))\n",
    "ax.fill_between(x_range,y,0, alpha=0.3, color='b')\n",
    "ax.fill_between(x_all,y2,0, alpha=0.1)\n",
    "ax.set_xlim([0, chi+5])\n",
    "ax.set_ylim([0, 0.001])\n",
    "ax.set_xlabel('P region shaded')\n",
    "\n",
    "ax.set_yticklabels([])\n",
    "\n",
    "ax.set_title(\"Chi-square Distribution\")\n",
    "\n",
    "plt.show()"
   ]
  },
  {
   "cell_type": "markdown",
   "metadata": {},
   "source": [
    "**h)** Indicate the correct decision and write appropriate conclusions.\n",
    "\n",
    "h.1) State alpha.\n",
    "\n",
    "We have not been provided an alpha and we are not dealing with a life or death scenario, so we can use the standard alpha of 0.05."
   ]
  },
  {
   "cell_type": "code",
   "execution_count": 27,
   "metadata": {},
   "outputs": [
    {
     "data": {
      "text/plain": [
       "True"
      ]
     },
     "execution_count": 27,
     "metadata": {},
     "output_type": "execute_result"
    }
   ],
   "source": [
    "alpha = 0.05\n",
    "\n",
    "rejectCheck(alpha, p)"
   ]
  },
  {
   "cell_type": "markdown",
   "metadata": {},
   "source": [
    "h.2) What is your decision?\n",
    "\n",
    "We should reject our null hypothesis\n",
    "\n",
    "h.3) What is the reason for your decision?\n",
    "\n",
    "We have that alpha > p-value, which suggests that we should reject our null hypothesis\n",
    "\n",
    "h.4) Give a conclusion.\n",
    "\n",
    "At the 5% significance level we have enough evidence to reject the claim that sport choice is independent from age. This leads us to assume that our alternative hypothesis is likely true, which is that sport choice is dependent on age."
   ]
  },
  {
   "cell_type": "code",
   "execution_count": null,
   "metadata": {},
   "outputs": [],
   "source": []
  }
 ],
 "metadata": {
  "kernelspec": {
   "display_name": "Python 3",
   "language": "python",
   "name": "python3"
  },
  "language_info": {
   "codemirror_mode": {
    "name": "ipython",
    "version": 3
   },
   "file_extension": ".py",
   "mimetype": "text/x-python",
   "name": "python",
   "nbconvert_exporter": "python",
   "pygments_lexer": "ipython3",
   "version": "3.8.5"
  }
 },
 "nbformat": 4,
 "nbformat_minor": 4
}
